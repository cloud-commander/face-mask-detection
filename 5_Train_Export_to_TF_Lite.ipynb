{
  "nbformat": 4,
  "nbformat_minor": 0,
  "metadata": {
    "kernelspec": {
      "display_name": "Python 3",
      "language": "python",
      "name": "python3"
    },
    "language_info": {
      "codemirror_mode": {
        "name": "ipython",
        "version": 3
      },
      "file_extension": ".py",
      "mimetype": "text/x-python",
      "name": "python",
      "nbconvert_exporter": "python",
      "pygments_lexer": "ipython3",
      "version": "3.7.6"
    },
    "colab": {
      "name": "5_Train_Export_to_TF_Lite.ipynb",
      "provenance": [],
      "toc_visible": true
    }
  },
  "cells": [
    {
      "cell_type": "markdown",
      "metadata": {
        "id": "nEZrJutQ8DuV",
        "colab_type": "text"
      },
      "source": [
        "\n",
        "<a href=\"https://blog.cloudcommander.net\" target=\"_parent\"><img src=\"https://raw.githubusercontent.com/cloud-commander/hexoblog/master/cloud.png\" alt=\"Visit my Blog\">\n",
        "</a>\n",
        "<br> \n",
        "# <span style=\"font-family:Didot; font-size:3em;\"> Cloud Commander </span>\n"
      ]
    },
    {
      "cell_type": "markdown",
      "metadata": {
        "id": "olMsSiKF8DuW",
        "colab_type": "text"
      },
      "source": [
        "<a href=\"https://colab.research.google.com/github/cloud-commander/face-mask-detection/blob/master/5_Train_Export_to_TF_Lite.ipynb\" target=\"_parent\"><img src=\"https://colab.research.google.com/assets/colab-badge.svg\" alt=\"Open in Colab\"></a>\n",
        "&nbsp;&nbsp;&nbsp;&nbsp;\n",
        "<a href=\"https://github.com/cloud-commander/face-mask-detection/blob/master/5_Train_Export_to_TF_Lite.ipynb\" target=\"_parent\"><img src=\"https://img.shields.io/static/v1?logo=GitHub&label=&color=333333&style=flat&message=View%20on%20GitHub\" alt=\"View in GitHub\"></a>"
      ]
    },
    {
      "cell_type": "markdown",
      "metadata": {
        "id": "uG4FfhYT8DuX",
        "colab_type": "text"
      },
      "source": [
        "\n",
        "\n",
        "# TensorFlow Lite Conversion #\n",
        "\n",
        "<img src=\"https://miro.medium.com/max/1400/1*AO4WEkrSRz4Xb7qzkbqcvg.png\"  alt=\"Visit my Blog\"> \n",
        "\n",
        "<img src=\"https://lh3.googleusercontent.com/vvBAqSnXyg3h9yS0JLyVehhV-e__3NFbZ6q7Ft-rEZp-9wDTVZ49yjuYJwfa4jQZ-RVnChHMr-DDC0T_fTxVyQg3iBMD-icMQooD6A=w630-rw\" alt=\"Visit my Blog\">\n",
        "\n",
        "Once we have our trained model, there is one final step we must take before we are ready to start testing the model. \n",
        "\n",
        "We have to convert the frozen graph into a TF Lite model which our inference application can use. The model is quantized, which means it is compatible with Edge TPU devices such as Google Coral."
      ]
    },
    {
      "cell_type": "markdown",
      "metadata": {
        "id": "8M7dEvcXy3DI",
        "colab_type": "text"
      },
      "source": [
        "#Setup"
      ]
    },
    {
      "cell_type": "markdown",
      "metadata": {
        "id": "kiecZysJ-khD",
        "colab_type": "text"
      },
      "source": [
        "### Connect to Google Drive"
      ]
    },
    {
      "cell_type": "code",
      "metadata": {
        "id": "ownRZYo_-eLG",
        "colab_type": "code",
        "colab": {
          "base_uri": "https://localhost:8080/",
          "height": 124
        },
        "outputId": "71f7a2ec-095a-4ae1-d467-d99af8fdca8c"
      },
      "source": [
        "from google.colab import drive\n",
        "drive.mount('/content/drive/')"
      ],
      "execution_count": 1,
      "outputs": [
        {
          "output_type": "stream",
          "text": [
            "Go to this URL in a browser: https://accounts.google.com/o/oauth2/auth?client_id=947318989803-6bn6qk8qdgf4n4g3pfee6491hc0brc4i.apps.googleusercontent.com&redirect_uri=urn%3aietf%3awg%3aoauth%3a2.0%3aoob&response_type=code&scope=email%20https%3a%2f%2fwww.googleapis.com%2fauth%2fdocs.test%20https%3a%2f%2fwww.googleapis.com%2fauth%2fdrive%20https%3a%2f%2fwww.googleapis.com%2fauth%2fdrive.photos.readonly%20https%3a%2f%2fwww.googleapis.com%2fauth%2fpeopleapi.readonly\n",
            "\n",
            "Enter your authorization code:\n",
            "··········\n",
            "Mounted at /content/drive/\n"
          ],
          "name": "stdout"
        }
      ]
    },
    {
      "cell_type": "markdown",
      "metadata": {
        "id": "kfmzWtRC8DuX",
        "colab_type": "text"
      },
      "source": [
        "## Install required libraries\n",
        "Be sure to click on the **restart** button after running this"
      ]
    },
    {
      "cell_type": "code",
      "metadata": {
        "id": "Bsd9FASzFwAy",
        "colab_type": "code",
        "colab": {
          "base_uri": "https://localhost:8080/",
          "height": 1000
        },
        "outputId": "6e924183-7e8a-440b-fc93-9a5f116c4b64"
      },
      "source": [
        "!pip install -U --pre tensorflow==\"1.*\"\n",
        "!pip install tf_slim\n",
        "!apt-get update && apt-get upgrade -y\n",
        "!pip install numpy==1.16 #This version is required due to a bug. After installing this version, the runtime has to be restarted."
      ],
      "execution_count": 2,
      "outputs": [
        {
          "output_type": "stream",
          "text": [
            "Collecting tensorflow==1.*\n",
            "\u001b[?25l  Downloading https://files.pythonhosted.org/packages/02/36/9a02e27f0ec248b676a380ffe910c1858e3af3027c0d4d513dd0b56a5613/tensorflow-1.15.3-cp36-cp36m-manylinux2010_x86_64.whl (110.5MB)\n",
            "\u001b[K     |████████████████████████████████| 110.5MB 47kB/s \n",
            "\u001b[?25hRequirement already satisfied, skipping upgrade: termcolor>=1.1.0 in /usr/local/lib/python3.6/dist-packages (from tensorflow==1.*) (1.1.0)\n",
            "Requirement already satisfied, skipping upgrade: numpy<2.0,>=1.16.0 in /usr/local/lib/python3.6/dist-packages (from tensorflow==1.*) (1.18.5)\n",
            "Requirement already satisfied, skipping upgrade: absl-py>=0.7.0 in /usr/local/lib/python3.6/dist-packages (from tensorflow==1.*) (0.9.0)\n",
            "Requirement already satisfied, skipping upgrade: keras-preprocessing>=1.0.5 in /usr/local/lib/python3.6/dist-packages (from tensorflow==1.*) (1.1.2)\n",
            "Requirement already satisfied, skipping upgrade: protobuf>=3.6.1 in /usr/local/lib/python3.6/dist-packages (from tensorflow==1.*) (3.10.0)\n",
            "Requirement already satisfied, skipping upgrade: wrapt>=1.11.1 in /usr/local/lib/python3.6/dist-packages (from tensorflow==1.*) (1.12.1)\n",
            "Requirement already satisfied, skipping upgrade: wheel>=0.26; python_version >= \"3\" in /usr/local/lib/python3.6/dist-packages (from tensorflow==1.*) (0.34.2)\n",
            "Collecting gast==0.2.2\n",
            "  Downloading https://files.pythonhosted.org/packages/4e/35/11749bf99b2d4e3cceb4d55ca22590b0d7c2c62b9de38ac4a4a7f4687421/gast-0.2.2.tar.gz\n",
            "Requirement already satisfied, skipping upgrade: google-pasta>=0.1.6 in /usr/local/lib/python3.6/dist-packages (from tensorflow==1.*) (0.2.0)\n",
            "Requirement already satisfied, skipping upgrade: opt-einsum>=2.3.2 in /usr/local/lib/python3.6/dist-packages (from tensorflow==1.*) (3.2.1)\n",
            "Collecting tensorboard<1.16.0,>=1.15.0\n",
            "\u001b[?25l  Downloading https://files.pythonhosted.org/packages/1e/e9/d3d747a97f7188f48aa5eda486907f3b345cd409f0a0850468ba867db246/tensorboard-1.15.0-py3-none-any.whl (3.8MB)\n",
            "\u001b[K     |████████████████████████████████| 3.8MB 42.4MB/s \n",
            "\u001b[?25hRequirement already satisfied, skipping upgrade: grpcio>=1.8.6 in /usr/local/lib/python3.6/dist-packages (from tensorflow==1.*) (1.29.0)\n",
            "Requirement already satisfied, skipping upgrade: astor>=0.6.0 in /usr/local/lib/python3.6/dist-packages (from tensorflow==1.*) (0.8.1)\n",
            "Requirement already satisfied, skipping upgrade: keras-applications>=1.0.8 in /usr/local/lib/python3.6/dist-packages (from tensorflow==1.*) (1.0.8)\n",
            "Requirement already satisfied, skipping upgrade: six>=1.10.0 in /usr/local/lib/python3.6/dist-packages (from tensorflow==1.*) (1.12.0)\n",
            "Collecting tensorflow-estimator==1.15.1\n",
            "\u001b[?25l  Downloading https://files.pythonhosted.org/packages/de/62/2ee9cd74c9fa2fa450877847ba560b260f5d0fb70ee0595203082dafcc9d/tensorflow_estimator-1.15.1-py2.py3-none-any.whl (503kB)\n",
            "\u001b[K     |████████████████████████████████| 512kB 47.4MB/s \n",
            "\u001b[?25hRequirement already satisfied, skipping upgrade: setuptools in /usr/local/lib/python3.6/dist-packages (from protobuf>=3.6.1->tensorflow==1.*) (47.1.1)\n",
            "Requirement already satisfied, skipping upgrade: werkzeug>=0.11.15 in /usr/local/lib/python3.6/dist-packages (from tensorboard<1.16.0,>=1.15.0->tensorflow==1.*) (1.0.1)\n",
            "Requirement already satisfied, skipping upgrade: markdown>=2.6.8 in /usr/local/lib/python3.6/dist-packages (from tensorboard<1.16.0,>=1.15.0->tensorflow==1.*) (3.2.2)\n",
            "Requirement already satisfied, skipping upgrade: h5py in /usr/local/lib/python3.6/dist-packages (from keras-applications>=1.0.8->tensorflow==1.*) (2.10.0)\n",
            "Requirement already satisfied, skipping upgrade: importlib-metadata; python_version < \"3.8\" in /usr/local/lib/python3.6/dist-packages (from markdown>=2.6.8->tensorboard<1.16.0,>=1.15.0->tensorflow==1.*) (1.6.1)\n",
            "Requirement already satisfied, skipping upgrade: zipp>=0.5 in /usr/local/lib/python3.6/dist-packages (from importlib-metadata; python_version < \"3.8\"->markdown>=2.6.8->tensorboard<1.16.0,>=1.15.0->tensorflow==1.*) (3.1.0)\n",
            "Building wheels for collected packages: gast\n",
            "  Building wheel for gast (setup.py) ... \u001b[?25l\u001b[?25hdone\n",
            "  Created wheel for gast: filename=gast-0.2.2-cp36-none-any.whl size=7540 sha256=f6b7e3dff9a65e22c4acd3df75aa1d63ce9afdccae065055d1476fe606f80b4d\n",
            "  Stored in directory: /root/.cache/pip/wheels/5c/2e/7e/a1d4d4fcebe6c381f378ce7743a3ced3699feb89bcfbdadadd\n",
            "Successfully built gast\n",
            "\u001b[31mERROR: tensorflow-probability 0.10.0 has requirement gast>=0.3.2, but you'll have gast 0.2.2 which is incompatible.\u001b[0m\n",
            "Installing collected packages: gast, tensorboard, tensorflow-estimator, tensorflow\n",
            "  Found existing installation: gast 0.3.3\n",
            "    Uninstalling gast-0.3.3:\n",
            "      Successfully uninstalled gast-0.3.3\n",
            "  Found existing installation: tensorboard 2.2.2\n",
            "    Uninstalling tensorboard-2.2.2:\n",
            "      Successfully uninstalled tensorboard-2.2.2\n",
            "  Found existing installation: tensorflow-estimator 2.2.0\n",
            "    Uninstalling tensorflow-estimator-2.2.0:\n",
            "      Successfully uninstalled tensorflow-estimator-2.2.0\n",
            "  Found existing installation: tensorflow 2.2.0\n",
            "    Uninstalling tensorflow-2.2.0:\n",
            "      Successfully uninstalled tensorflow-2.2.0\n",
            "Successfully installed gast-0.2.2 tensorboard-1.15.0 tensorflow-1.15.3 tensorflow-estimator-1.15.1\n",
            "Collecting tf_slim\n",
            "\u001b[?25l  Downloading https://files.pythonhosted.org/packages/02/97/b0f4a64df018ca018cc035d44f2ef08f91e2e8aa67271f6f19633a015ff7/tf_slim-1.1.0-py2.py3-none-any.whl (352kB)\n",
            "\u001b[K     |████████████████████████████████| 358kB 7.9MB/s \n",
            "\u001b[?25hRequirement already satisfied: absl-py>=0.2.2 in /usr/local/lib/python3.6/dist-packages (from tf_slim) (0.9.0)\n",
            "Requirement already satisfied: six in /usr/local/lib/python3.6/dist-packages (from absl-py>=0.2.2->tf_slim) (1.12.0)\n",
            "Installing collected packages: tf-slim\n",
            "Successfully installed tf-slim-1.1.0\n",
            "Hit:1 http://ppa.launchpad.net/graphics-drivers/ppa/ubuntu bionic InRelease\n",
            "Hit:2 http://archive.ubuntu.com/ubuntu bionic InRelease\n",
            "Get:3 http://archive.ubuntu.com/ubuntu bionic-updates InRelease [88.7 kB]\n",
            "Get:4 http://ppa.launchpad.net/marutter/c2d4u3.5/ubuntu bionic InRelease [15.4 kB]\n",
            "Get:5 http://archive.ubuntu.com/ubuntu bionic-backports InRelease [74.6 kB]\n",
            "Get:6 http://security.ubuntu.com/ubuntu bionic-security InRelease [88.7 kB]\n",
            "Ign:7 https://developer.download.nvidia.com/compute/cuda/repos/ubuntu1804/x86_64  InRelease\n",
            "Get:8 https://cloud.r-project.org/bin/linux/ubuntu bionic-cran35/ InRelease [3,626 B]\n",
            "Ign:9 https://developer.download.nvidia.com/compute/machine-learning/repos/ubuntu1804/x86_64  InRelease\n",
            "Get:10 https://developer.download.nvidia.com/compute/cuda/repos/ubuntu1804/x86_64  Release [697 B]\n",
            "Get:11 https://developer.download.nvidia.com/compute/machine-learning/repos/ubuntu1804/x86_64  Release [564 B]\n",
            "Get:12 https://developer.download.nvidia.com/compute/cuda/repos/ubuntu1804/x86_64  Release.gpg [833 B]\n",
            "Get:13 https://developer.download.nvidia.com/compute/machine-learning/repos/ubuntu1804/x86_64  Release.gpg [833 B]\n",
            "Get:14 http://ppa.launchpad.net/marutter/c2d4u3.5/ubuntu bionic/main Sources [1,839 kB]\n",
            "Get:15 http://ppa.launchpad.net/marutter/c2d4u3.5/ubuntu bionic/main amd64 Packages [887 kB]\n",
            "Get:16 http://archive.ubuntu.com/ubuntu bionic-updates/main amd64 Packages [1,254 kB]\n",
            "Get:17 http://archive.ubuntu.com/ubuntu bionic-updates/universe amd64 Packages [1,397 kB]\n",
            "Get:18 https://cloud.r-project.org/bin/linux/ubuntu bionic-cran35/ Packages [93.1 kB]\n",
            "Get:19 http://security.ubuntu.com/ubuntu bionic-security/universe amd64 Packages [861 kB]\n",
            "Ign:20 https://developer.download.nvidia.com/compute/cuda/repos/ubuntu1804/x86_64  Packages\n",
            "Get:20 https://developer.download.nvidia.com/compute/cuda/repos/ubuntu1804/x86_64  Packages [163 kB]\n",
            "Get:21 https://developer.download.nvidia.com/compute/machine-learning/repos/ubuntu1804/x86_64  Packages [32.9 kB]\n",
            "Get:22 http://security.ubuntu.com/ubuntu bionic-security/main amd64 Packages [960 kB]\n",
            "Fetched 7,762 kB in 2s (3,336 kB/s)\n",
            "Reading package lists... Done\n",
            "Reading package lists... Done\n",
            "Building dependency tree       \n",
            "Reading state information... Done\n",
            "Calculating upgrade... Done\n",
            "The following package was automatically installed and is no longer required:\n",
            "  libnvidia-common-440\n",
            "Use 'apt autoremove' to remove it.\n",
            "The following packages have been kept back:\n",
            "  libcublas-dev libcublas10 libcudnn7 libcudnn7-dev libnccl-dev libnccl2\n",
            "The following packages will be upgraded:\n",
            "  base-files binutils binutils-common binutils-x86-64-linux-gnu bsdutils dbus\n",
            "  e2fsprogs fdisk libbinutils libblkid1 libcom-err2 libdbus-1-3 libdrm-amdgpu1\n",
            "  libdrm-common libdrm-dev libdrm-intel1 libdrm-nouveau2 libdrm-radeon1\n",
            "  libdrm2 libexif-dev libexif12 libext2fs2 libfdisk1 libgcrypt20 libgnutls30\n",
            "  libldap-2.4-2 libldap-common libmount1 libnss3 libnvidia-cfg1-450\n",
            "  libnvidia-common-450 libnvidia-compute-450 libnvidia-decode-450\n",
            "  libnvidia-encode-450 libnvidia-fbc1-450 libnvidia-gl-450 libnvidia-ifr1-450\n",
            "  librados2 librbd1 libsasl2-2 libsasl2-modules-db libsmartcols1 libsqlite3-0\n",
            "  libss2 libxnvctrl0 linux-libc-dev mount nvidia-dkms-450\n",
            "  nvidia-kernel-source-450 openssl r-cran-backports r-cran-htmltools\n",
            "  r-cran-survival util-linux xserver-xorg-core-hwe-18.04\n",
            "55 upgraded, 0 newly installed, 0 to remove and 6 not upgraded.\n",
            "Need to get 118 MB of archives.\n",
            "After this operation, 214 kB of additional disk space will be used.\n",
            "Get:1 http://ppa.launchpad.net/marutter/c2d4u3.5/ubuntu bionic/main amd64 r-cran-backports amd64 1.1.8-1cran1.1804.0 [69.6 kB]\n",
            "Get:2 https://developer.download.nvidia.com/compute/cuda/repos/ubuntu1804/x86_64  libnvidia-cfg1-450 450.36.06-0ubuntu1 [74.5 kB]\n",
            "Get:3 https://developer.download.nvidia.com/compute/cuda/repos/ubuntu1804/x86_64  libnvidia-common-450 450.36.06-0ubuntu1 [10.2 kB]\n",
            "Get:4 https://developer.download.nvidia.com/compute/cuda/repos/ubuntu1804/x86_64  libnvidia-compute-450 450.36.06-0ubuntu1 [21.8 MB]\n",
            "Get:5 http://ppa.launchpad.net/marutter/c2d4u3.5/ubuntu bionic/main amd64 r-cran-htmltools amd64 0.5.0-1cran1.1804.0 [214 kB]\n",
            "Get:6 http://archive.ubuntu.com/ubuntu bionic-updates/main amd64 base-files amd64 10.1ubuntu2.8 [59.9 kB]\n",
            "Get:7 http://ppa.launchpad.net/marutter/c2d4u3.5/ubuntu bionic/main amd64 r-cran-survival amd64 3.2-3-1cran1.1804.0 [7,537 kB]\n",
            "Get:8 http://archive.ubuntu.com/ubuntu bionic-updates/main amd64 bsdutils amd64 1:2.31.1-0.4ubuntu3.6 [60.3 kB]\n",
            "Get:9 http://archive.ubuntu.com/ubuntu bionic-updates/main amd64 libext2fs2 amd64 1.44.1-1ubuntu1.3 [157 kB]\n",
            "Get:10 http://archive.ubuntu.com/ubuntu bionic-updates/main amd64 e2fsprogs amd64 1.44.1-1ubuntu1.3 [391 kB]\n",
            "Get:11 http://archive.ubuntu.com/ubuntu bionic-updates/main amd64 libblkid1 amd64 2.31.1-0.4ubuntu3.6 [124 kB]\n",
            "Get:12 http://archive.ubuntu.com/ubuntu bionic-updates/main amd64 libfdisk1 amd64 2.31.1-0.4ubuntu3.6 [164 kB]\n",
            "Get:13 http://archive.ubuntu.com/ubuntu bionic-updates/main amd64 libmount1 amd64 2.31.1-0.4ubuntu3.6 [136 kB]\n",
            "Get:14 http://archive.ubuntu.com/ubuntu bionic-updates/main amd64 libsmartcols1 amd64 2.31.1-0.4ubuntu3.6 [83.7 kB]\n",
            "Get:15 http://archive.ubuntu.com/ubuntu bionic-updates/main amd64 fdisk amd64 2.31.1-0.4ubuntu3.6 [108 kB]\n",
            "Get:16 http://archive.ubuntu.com/ubuntu bionic-updates/main amd64 util-linux amd64 2.31.1-0.4ubuntu3.6 [903 kB]\n",
            "Get:17 http://archive.ubuntu.com/ubuntu bionic-updates/main amd64 mount amd64 2.31.1-0.4ubuntu3.6 [107 kB]\n",
            "Get:18 http://archive.ubuntu.com/ubuntu bionic-updates/main amd64 libcom-err2 amd64 1.44.1-1ubuntu1.3 [8,848 B]\n",
            "Get:19 http://archive.ubuntu.com/ubuntu bionic-updates/main amd64 libgcrypt20 amd64 1.8.1-4ubuntu1.2 [417 kB]\n",
            "Get:20 http://archive.ubuntu.com/ubuntu bionic-updates/main amd64 libss2 amd64 1.44.1-1ubuntu1.3 [11.1 kB]\n",
            "Get:21 http://archive.ubuntu.com/ubuntu bionic-updates/main amd64 libgnutls30 amd64 3.5.18-1ubuntu1.3 [646 kB]\n",
            "Get:22 http://archive.ubuntu.com/ubuntu bionic-updates/main amd64 dbus amd64 1.12.2-1ubuntu1.2 [150 kB]\n",
            "Get:23 http://archive.ubuntu.com/ubuntu bionic-updates/main amd64 libdbus-1-3 amd64 1.12.2-1ubuntu1.2 [175 kB]\n",
            "Get:24 http://archive.ubuntu.com/ubuntu bionic-updates/main amd64 libsqlite3-0 amd64 3.22.0-1ubuntu0.4 [499 kB]\n",
            "Get:25 http://archive.ubuntu.com/ubuntu bionic-updates/main amd64 openssl amd64 1.1.1-1ubuntu2.1~18.04.6 [614 kB]\n",
            "Get:26 http://archive.ubuntu.com/ubuntu bionic-updates/main amd64 libdrm-common all 2.4.101-2~18.04.1 [5,560 B]\n",
            "Get:27 http://archive.ubuntu.com/ubuntu bionic-updates/main amd64 libdrm-dev amd64 2.4.101-2~18.04.1 [126 kB]\n",
            "Get:28 http://archive.ubuntu.com/ubuntu bionic-updates/main amd64 libdrm-intel1 amd64 2.4.101-2~18.04.1 [60.0 kB]\n",
            "Get:29 http://archive.ubuntu.com/ubuntu bionic-updates/main amd64 libdrm-radeon1 amd64 2.4.101-2~18.04.1 [21.7 kB]\n",
            "Get:30 http://archive.ubuntu.com/ubuntu bionic-updates/main amd64 libdrm-nouveau2 amd64 2.4.101-2~18.04.1 [16.5 kB]\n",
            "Get:31 http://archive.ubuntu.com/ubuntu bionic-updates/main amd64 libdrm-amdgpu1 amd64 2.4.101-2~18.04.1 [18.2 kB]\n",
            "Get:32 http://archive.ubuntu.com/ubuntu bionic-updates/main amd64 libdrm2 amd64 2.4.101-2~18.04.1 [32.3 kB]\n",
            "Get:33 http://archive.ubuntu.com/ubuntu bionic-updates/main amd64 binutils-x86-64-linux-gnu amd64 2.30-21ubuntu1~18.04.3 [1,839 kB]\n",
            "Get:34 http://archive.ubuntu.com/ubuntu bionic-updates/main amd64 binutils-common amd64 2.30-21ubuntu1~18.04.3 [196 kB]\n",
            "Get:35 http://archive.ubuntu.com/ubuntu bionic-updates/main amd64 binutils amd64 2.30-21ubuntu1~18.04.3 [3,388 B]\n",
            "Get:36 http://archive.ubuntu.com/ubuntu bionic-updates/main amd64 libbinutils amd64 2.30-21ubuntu1~18.04.3 [488 kB]\n",
            "Get:37 http://archive.ubuntu.com/ubuntu bionic-updates/main amd64 libexif-dev amd64 0.6.21-4ubuntu0.5 [82.9 kB]\n",
            "Get:38 http://archive.ubuntu.com/ubuntu bionic-updates/main amd64 libexif12 amd64 0.6.21-4ubuntu0.5 [78.4 kB]\n",
            "Get:39 http://archive.ubuntu.com/ubuntu bionic-updates/main amd64 libsasl2-modules-db amd64 2.1.27~101-g0780600+dfsg-3ubuntu2.1 [14.8 kB]\n",
            "Get:40 http://archive.ubuntu.com/ubuntu bionic-updates/main amd64 libsasl2-2 amd64 2.1.27~101-g0780600+dfsg-3ubuntu2.1 [49.2 kB]\n",
            "Get:41 http://archive.ubuntu.com/ubuntu bionic-updates/main amd64 libldap-common all 2.4.45+dfsg-1ubuntu1.5 [16.9 kB]\n",
            "Get:42 http://archive.ubuntu.com/ubuntu bionic-updates/main amd64 libldap-2.4-2 amd64 2.4.45+dfsg-1ubuntu1.5 [155 kB]\n",
            "Get:43 http://archive.ubuntu.com/ubuntu bionic-updates/main amd64 libnss3 amd64 2:3.35-2ubuntu2.8 [1,136 kB]\n",
            "Get:44 http://archive.ubuntu.com/ubuntu bionic-updates/main amd64 librbd1 amd64 12.2.13-0ubuntu0.18.04.2 [923 kB]\n",
            "Get:45 http://archive.ubuntu.com/ubuntu bionic-updates/main amd64 librados2 amd64 12.2.13-0ubuntu0.18.04.2 [2,723 kB]\n",
            "Get:46 http://archive.ubuntu.com/ubuntu bionic-updates/main amd64 linux-libc-dev amd64 4.15.0-106.107 [991 kB]\n",
            "Get:47 http://archive.ubuntu.com/ubuntu bionic-updates/main amd64 xserver-xorg-core-hwe-18.04 amd64 2:1.20.8-2ubuntu2.1~18.04.1 [1,333 kB]\n",
            "Get:48 https://developer.download.nvidia.com/compute/cuda/repos/ubuntu1804/x86_64  libnvidia-decode-450 450.36.06-0ubuntu1 [1,101 kB]\n",
            "Get:49 https://developer.download.nvidia.com/compute/cuda/repos/ubuntu1804/x86_64  libnvidia-encode-450 450.36.06-0ubuntu1 [39.2 kB]\n",
            "Get:50 https://developer.download.nvidia.com/compute/cuda/repos/ubuntu1804/x86_64  libnvidia-fbc1-450 450.36.06-0ubuntu1 [49.7 kB]\n",
            "Get:51 https://developer.download.nvidia.com/compute/cuda/repos/ubuntu1804/x86_64  libnvidia-gl-450 450.36.06-0ubuntu1 [60.3 MB]\n",
            "Get:52 https://developer.download.nvidia.com/compute/cuda/repos/ubuntu1804/x86_64  libnvidia-ifr1-450 450.36.06-0ubuntu1 [68.4 kB]\n",
            "Get:53 https://developer.download.nvidia.com/compute/cuda/repos/ubuntu1804/x86_64  libxnvctrl0 450.36.06-0ubuntu1 [21.3 kB]\n",
            "Get:54 https://developer.download.nvidia.com/compute/cuda/repos/ubuntu1804/x86_64  nvidia-dkms-450 450.36.06-0ubuntu1 [26.7 kB]\n",
            "Get:55 https://developer.download.nvidia.com/compute/cuda/repos/ubuntu1804/x86_64  nvidia-kernel-source-450 450.36.06-0ubuntu1 [11.8 MB]\n",
            "Fetched 118 MB in 2s (54.8 MB/s)\n",
            "Extracting templates from packages: 100%\n",
            "(Reading database ... 144328 files and directories currently installed.)\n",
            "Preparing to unpack .../base-files_10.1ubuntu2.8_amd64.deb ...\n",
            "Unpacking base-files (10.1ubuntu2.8) over (10.1ubuntu2.7) ...\n",
            "Setting up base-files (10.1ubuntu2.8) ...\n",
            "Installing new version of config file /etc/issue ...\n",
            "Installing new version of config file /etc/issue.net ...\n",
            "Installing new version of config file /etc/lsb-release ...\n",
            "(Reading database ... 144328 files and directories currently installed.)\n",
            "Preparing to unpack .../bsdutils_1%3a2.31.1-0.4ubuntu3.6_amd64.deb ...\n",
            "Unpacking bsdutils (1:2.31.1-0.4ubuntu3.6) over (1:2.31.1-0.4ubuntu3.4) ...\n",
            "Setting up bsdutils (1:2.31.1-0.4ubuntu3.6) ...\n",
            "(Reading database ... 144328 files and directories currently installed.)\n",
            "Preparing to unpack .../libext2fs2_1.44.1-1ubuntu1.3_amd64.deb ...\n",
            "Unpacking libext2fs2:amd64 (1.44.1-1ubuntu1.3) over (1.44.1-1ubuntu1.2) ...\n",
            "Setting up libext2fs2:amd64 (1.44.1-1ubuntu1.3) ...\n",
            "(Reading database ... 144328 files and directories currently installed.)\n",
            "Preparing to unpack .../e2fsprogs_1.44.1-1ubuntu1.3_amd64.deb ...\n",
            "Unpacking e2fsprogs (1.44.1-1ubuntu1.3) over (1.44.1-1ubuntu1.2) ...\n",
            "Setting up e2fsprogs (1.44.1-1ubuntu1.3) ...\n",
            "(Reading database ... 144328 files and directories currently installed.)\n",
            "Preparing to unpack .../libblkid1_2.31.1-0.4ubuntu3.6_amd64.deb ...\n",
            "Unpacking libblkid1:amd64 (2.31.1-0.4ubuntu3.6) over (2.31.1-0.4ubuntu3.4) ...\n",
            "Setting up libblkid1:amd64 (2.31.1-0.4ubuntu3.6) ...\n",
            "(Reading database ... 144328 files and directories currently installed.)\n",
            "Preparing to unpack .../libfdisk1_2.31.1-0.4ubuntu3.6_amd64.deb ...\n",
            "Unpacking libfdisk1:amd64 (2.31.1-0.4ubuntu3.6) over (2.31.1-0.4ubuntu3.4) ...\n",
            "Setting up libfdisk1:amd64 (2.31.1-0.4ubuntu3.6) ...\n",
            "(Reading database ... 144328 files and directories currently installed.)\n",
            "Preparing to unpack .../libmount1_2.31.1-0.4ubuntu3.6_amd64.deb ...\n",
            "Unpacking libmount1:amd64 (2.31.1-0.4ubuntu3.6) over (2.31.1-0.4ubuntu3.4) ...\n",
            "Setting up libmount1:amd64 (2.31.1-0.4ubuntu3.6) ...\n",
            "(Reading database ... 144328 files and directories currently installed.)\n",
            "Preparing to unpack .../libsmartcols1_2.31.1-0.4ubuntu3.6_amd64.deb ...\n",
            "Unpacking libsmartcols1:amd64 (2.31.1-0.4ubuntu3.6) over (2.31.1-0.4ubuntu3.4) ...\n",
            "Setting up libsmartcols1:amd64 (2.31.1-0.4ubuntu3.6) ...\n",
            "(Reading database ... 144328 files and directories currently installed.)\n",
            "Preparing to unpack .../fdisk_2.31.1-0.4ubuntu3.6_amd64.deb ...\n",
            "Unpacking fdisk (2.31.1-0.4ubuntu3.6) over (2.31.1-0.4ubuntu3.4) ...\n",
            "Setting up fdisk (2.31.1-0.4ubuntu3.6) ...\n",
            "(Reading database ... 144328 files and directories currently installed.)\n",
            "Preparing to unpack .../util-linux_2.31.1-0.4ubuntu3.6_amd64.deb ...\n",
            "Unpacking util-linux (2.31.1-0.4ubuntu3.6) over (2.31.1-0.4ubuntu3.4) ...\n",
            "Setting up util-linux (2.31.1-0.4ubuntu3.6) ...\n",
            "(Reading database ... 144328 files and directories currently installed.)\n",
            "Preparing to unpack .../mount_2.31.1-0.4ubuntu3.6_amd64.deb ...\n",
            "Unpacking mount (2.31.1-0.4ubuntu3.6) over (2.31.1-0.4ubuntu3.4) ...\n",
            "Preparing to unpack .../libcom-err2_1.44.1-1ubuntu1.3_amd64.deb ...\n",
            "Unpacking libcom-err2:amd64 (1.44.1-1ubuntu1.3) over (1.44.1-1ubuntu1.2) ...\n",
            "Setting up libcom-err2:amd64 (1.44.1-1ubuntu1.3) ...\n",
            "(Reading database ... 144328 files and directories currently installed.)\n",
            "Preparing to unpack .../libgcrypt20_1.8.1-4ubuntu1.2_amd64.deb ...\n",
            "Unpacking libgcrypt20:amd64 (1.8.1-4ubuntu1.2) over (1.8.1-4ubuntu1.1) ...\n",
            "Setting up libgcrypt20:amd64 (1.8.1-4ubuntu1.2) ...\n",
            "(Reading database ... 144328 files and directories currently installed.)\n",
            "Preparing to unpack .../libss2_1.44.1-1ubuntu1.3_amd64.deb ...\n",
            "Unpacking libss2:amd64 (1.44.1-1ubuntu1.3) over (1.44.1-1ubuntu1.2) ...\n",
            "Setting up libss2:amd64 (1.44.1-1ubuntu1.3) ...\n",
            "(Reading database ... 144328 files and directories currently installed.)\n",
            "Preparing to unpack .../libgnutls30_3.5.18-1ubuntu1.3_amd64.deb ...\n",
            "Unpacking libgnutls30:amd64 (3.5.18-1ubuntu1.3) over (3.5.18-1ubuntu1.1) ...\n",
            "Setting up libgnutls30:amd64 (3.5.18-1ubuntu1.3) ...\n",
            "(Reading database ... 144328 files and directories currently installed.)\n",
            "Preparing to unpack .../00-dbus_1.12.2-1ubuntu1.2_amd64.deb ...\n",
            "Unpacking dbus (1.12.2-1ubuntu1.2) over (1.12.2-1ubuntu1.1) ...\n",
            "Preparing to unpack .../01-libdbus-1-3_1.12.2-1ubuntu1.2_amd64.deb ...\n",
            "Unpacking libdbus-1-3:amd64 (1.12.2-1ubuntu1.2) over (1.12.2-1ubuntu1.1) ...\n",
            "Preparing to unpack .../02-libsqlite3-0_3.22.0-1ubuntu0.4_amd64.deb ...\n",
            "Unpacking libsqlite3-0:amd64 (3.22.0-1ubuntu0.4) over (3.22.0-1ubuntu0.1) ...\n",
            "Preparing to unpack .../03-openssl_1.1.1-1ubuntu2.1~18.04.6_amd64.deb ...\n",
            "Unpacking openssl (1.1.1-1ubuntu2.1~18.04.6) over (1.1.1-1ubuntu2.1~18.04.5) ...\n",
            "Preparing to unpack .../04-libdrm-common_2.4.101-2~18.04.1_all.deb ...\n",
            "Unpacking libdrm-common (2.4.101-2~18.04.1) over (2.4.99-1ubuntu1~18.04.2) ...\n",
            "Preparing to unpack .../05-libdrm-dev_2.4.101-2~18.04.1_amd64.deb ...\n",
            "Unpacking libdrm-dev:amd64 (2.4.101-2~18.04.1) over (2.4.99-1ubuntu1~18.04.2) ...\n",
            "Preparing to unpack .../06-libdrm-intel1_2.4.101-2~18.04.1_amd64.deb ...\n",
            "Unpacking libdrm-intel1:amd64 (2.4.101-2~18.04.1) over (2.4.99-1ubuntu1~18.04.2) ...\n",
            "Preparing to unpack .../07-libdrm-radeon1_2.4.101-2~18.04.1_amd64.deb ...\n",
            "Unpacking libdrm-radeon1:amd64 (2.4.101-2~18.04.1) over (2.4.99-1ubuntu1~18.04.2) ...\n",
            "Preparing to unpack .../08-libdrm-nouveau2_2.4.101-2~18.04.1_amd64.deb ...\n",
            "Unpacking libdrm-nouveau2:amd64 (2.4.101-2~18.04.1) over (2.4.99-1ubuntu1~18.04.2) ...\n",
            "Preparing to unpack .../09-libdrm-amdgpu1_2.4.101-2~18.04.1_amd64.deb ...\n",
            "Unpacking libdrm-amdgpu1:amd64 (2.4.101-2~18.04.1) over (2.4.99-1ubuntu1~18.04.2) ...\n",
            "Preparing to unpack .../10-libdrm2_2.4.101-2~18.04.1_amd64.deb ...\n",
            "Unpacking libdrm2:amd64 (2.4.101-2~18.04.1) over (2.4.99-1ubuntu1~18.04.2) ...\n",
            "Preparing to unpack .../11-binutils-x86-64-linux-gnu_2.30-21ubuntu1~18.04.3_amd64.deb ...\n",
            "Unpacking binutils-x86-64-linux-gnu (2.30-21ubuntu1~18.04.3) over (2.30-21ubuntu1~18.04.2) ...\n",
            "Preparing to unpack .../12-binutils-common_2.30-21ubuntu1~18.04.3_amd64.deb ...\n",
            "Unpacking binutils-common:amd64 (2.30-21ubuntu1~18.04.3) over (2.30-21ubuntu1~18.04.2) ...\n",
            "Preparing to unpack .../13-binutils_2.30-21ubuntu1~18.04.3_amd64.deb ...\n",
            "Unpacking binutils (2.30-21ubuntu1~18.04.3) over (2.30-21ubuntu1~18.04.2) ...\n",
            "Preparing to unpack .../14-libbinutils_2.30-21ubuntu1~18.04.3_amd64.deb ...\n",
            "Unpacking libbinutils:amd64 (2.30-21ubuntu1~18.04.3) over (2.30-21ubuntu1~18.04.2) ...\n",
            "Preparing to unpack .../15-libexif-dev_0.6.21-4ubuntu0.5_amd64.deb ...\n",
            "Unpacking libexif-dev:amd64 (0.6.21-4ubuntu0.5) over (0.6.21-4ubuntu0.2) ...\n",
            "Preparing to unpack .../16-libexif12_0.6.21-4ubuntu0.5_amd64.deb ...\n",
            "Unpacking libexif12:amd64 (0.6.21-4ubuntu0.5) over (0.6.21-4ubuntu0.2) ...\n",
            "Preparing to unpack .../17-libsasl2-modules-db_2.1.27~101-g0780600+dfsg-3ubuntu2.1_amd64.deb ...\n",
            "Unpacking libsasl2-modules-db:amd64 (2.1.27~101-g0780600+dfsg-3ubuntu2.1) over (2.1.27~101-g0780600+dfsg-3ubuntu2) ...\n",
            "Preparing to unpack .../18-libsasl2-2_2.1.27~101-g0780600+dfsg-3ubuntu2.1_amd64.deb ...\n",
            "Unpacking libsasl2-2:amd64 (2.1.27~101-g0780600+dfsg-3ubuntu2.1) over (2.1.27~101-g0780600+dfsg-3ubuntu2) ...\n",
            "Preparing to unpack .../19-libldap-common_2.4.45+dfsg-1ubuntu1.5_all.deb ...\n",
            "Unpacking libldap-common (2.4.45+dfsg-1ubuntu1.5) over (2.4.45+dfsg-1ubuntu1.4) ...\n",
            "Preparing to unpack .../20-libldap-2.4-2_2.4.45+dfsg-1ubuntu1.5_amd64.deb ...\n",
            "Unpacking libldap-2.4-2:amd64 (2.4.45+dfsg-1ubuntu1.5) over (2.4.45+dfsg-1ubuntu1.4) ...\n",
            "Preparing to unpack .../21-libnss3_2%3a3.35-2ubuntu2.8_amd64.deb ...\n",
            "Unpacking libnss3:amd64 (2:3.35-2ubuntu2.8) over (2:3.35-2ubuntu2.7) ...\n",
            "Preparing to unpack .../22-libnvidia-cfg1-450_450.36.06-0ubuntu1_amd64.deb ...\n",
            "Unpacking libnvidia-cfg1-450:amd64 (450.36.06-0ubuntu1) over (450.36.06-0ubuntu1) ...\n",
            "Preparing to unpack .../23-libnvidia-common-450_450.36.06-0ubuntu1_all.deb ...\n",
            "Checking for existing driver runfile install\n",
            "/var/lib/dpkg/tmp.ci/preinst: 6: /var/lib/dpkg/tmp.ci/preinst: [[: not found\n",
            "Unpacking libnvidia-common-450 (450.36.06-0ubuntu1) over (450.36.06-0ubuntu1) ...\n",
            "Preparing to unpack .../24-libnvidia-compute-450_450.36.06-0ubuntu1_amd64.deb ...\n",
            "Unpacking libnvidia-compute-450:amd64 (450.36.06-0ubuntu1) over (450.36.06-0ubuntu1) ...\n",
            "Preparing to unpack .../25-libnvidia-decode-450_450.36.06-0ubuntu1_amd64.deb ...\n",
            "Unpacking libnvidia-decode-450:amd64 (450.36.06-0ubuntu1) over (450.36.06-0ubuntu1) ...\n",
            "Preparing to unpack .../26-libnvidia-encode-450_450.36.06-0ubuntu1_amd64.deb ...\n",
            "Unpacking libnvidia-encode-450:amd64 (450.36.06-0ubuntu1) over (450.36.06-0ubuntu1) ...\n",
            "Preparing to unpack .../27-libnvidia-fbc1-450_450.36.06-0ubuntu1_amd64.deb ...\n",
            "Unpacking libnvidia-fbc1-450:amd64 (450.36.06-0ubuntu1) over (450.36.06-0ubuntu1) ...\n",
            "Preparing to unpack .../28-libnvidia-gl-450_450.36.06-0ubuntu1_amd64.deb ...\n",
            "Unpacking libnvidia-gl-450:amd64 (450.36.06-0ubuntu1) over (450.36.06-0ubuntu1) ...\n",
            "Preparing to unpack .../29-libnvidia-ifr1-450_450.36.06-0ubuntu1_amd64.deb ...\n",
            "Unpacking libnvidia-ifr1-450:amd64 (450.36.06-0ubuntu1) over (450.36.06-0ubuntu1) ...\n",
            "Preparing to unpack .../30-librbd1_12.2.13-0ubuntu0.18.04.2_amd64.deb ...\n",
            "Unpacking librbd1 (12.2.13-0ubuntu0.18.04.2) over (12.2.12-0ubuntu0.18.04.5) ...\n",
            "Preparing to unpack .../31-librados2_12.2.13-0ubuntu0.18.04.2_amd64.deb ...\n",
            "Unpacking librados2 (12.2.13-0ubuntu0.18.04.2) over (12.2.12-0ubuntu0.18.04.5) ...\n",
            "Preparing to unpack .../32-libxnvctrl0_450.36.06-0ubuntu1_amd64.deb ...\n",
            "Unpacking libxnvctrl0:amd64 (450.36.06-0ubuntu1) over (450.36.06-0ubuntu1) ...\n",
            "Preparing to unpack .../33-linux-libc-dev_4.15.0-106.107_amd64.deb ...\n",
            "Unpacking linux-libc-dev:amd64 (4.15.0-106.107) over (4.15.0-72.81) ...\n",
            "Preparing to unpack .../34-nvidia-dkms-450_450.36.06-0ubuntu1_amd64.deb ...\n",
            "Removing all DKMS Modules\n",
            "Done.\n",
            "Unpacking nvidia-dkms-450 (450.36.06-0ubuntu1) over (450.36.06-0ubuntu1) ...\n",
            "Preparing to unpack .../35-nvidia-kernel-source-450_450.36.06-0ubuntu1_amd64.deb ...\n",
            "Unpacking nvidia-kernel-source-450 (450.36.06-0ubuntu1) over (450.36.06-0ubuntu1) ...\n",
            "Preparing to unpack .../36-r-cran-backports_1.1.8-1cran1.1804.0_amd64.deb ...\n",
            "Unpacking r-cran-backports (1.1.8-1cran1.1804.0) over (1.1.7-1cran1.1804.0) ...\n",
            "Preparing to unpack .../37-r-cran-htmltools_0.5.0-1cran1.1804.0_amd64.deb ...\n",
            "Unpacking r-cran-htmltools (0.5.0-1cran1.1804.0) over (0.4.0-1cran1ppabionic0) ...\n",
            "Preparing to unpack .../38-r-cran-survival_3.2-3-1cran1.1804.0_amd64.deb ...\n",
            "Unpacking r-cran-survival (3.2-3-1cran1.1804.0) over (3.1-12-1cran1.1804.0) ...\n",
            "Preparing to unpack .../39-xserver-xorg-core-hwe-18.04_2%3a1.20.8-2ubuntu2.1~18.04.1_amd64.deb ...\n",
            "Unpacking xserver-xorg-core-hwe-18.04 (2:1.20.8-2ubuntu2.1~18.04.1) over (2:1.20.5+git20191008-0ubuntu1~18.04.1) ...\n",
            "Setting up libnvidia-compute-450:amd64 (450.36.06-0ubuntu1) ...\n",
            "Setting up libldap-common (2.4.45+dfsg-1ubuntu1.5) ...\n",
            "Setting up libsasl2-modules-db:amd64 (2.1.27~101-g0780600+dfsg-3ubuntu2.1) ...\n",
            "Setting up r-cran-backports (1.1.8-1cran1.1804.0) ...\n",
            "Setting up linux-libc-dev:amd64 (4.15.0-106.107) ...\n",
            "Setting up mount (2.31.1-0.4ubuntu3.6) ...\n",
            "Setting up libsasl2-2:amd64 (2.1.27~101-g0780600+dfsg-3ubuntu2.1) ...\n",
            "Setting up libnvidia-fbc1-450:amd64 (450.36.06-0ubuntu1) ...\n",
            "Setting up r-cran-htmltools (0.5.0-1cran1.1804.0) ...\n",
            "Setting up libdrm-common (2.4.101-2~18.04.1) ...\n",
            "Setting up binutils-common:amd64 (2.30-21ubuntu1~18.04.3) ...\n",
            "Setting up libldap-2.4-2:amd64 (2.4.45+dfsg-1ubuntu1.5) ...\n",
            "Setting up openssl (1.1.1-1ubuntu2.1~18.04.6) ...\n",
            "Setting up libsqlite3-0:amd64 (3.22.0-1ubuntu0.4) ...\n",
            "Setting up nvidia-kernel-source-450 (450.36.06-0ubuntu1) ...\n",
            "Setting up libnvidia-cfg1-450:amd64 (450.36.06-0ubuntu1) ...\n",
            "Setting up nvidia-dkms-450 (450.36.06-0ubuntu1) ...\n",
            "\n",
            "A modprobe blacklist file has been created at /etc/modprobe.d to prevent Nouveau\n",
            "from loading. This can be reverted by deleting the following file:\n",
            "/etc/modprobe.d/nvidia-graphics-drivers.conf\n",
            "\n",
            "A new initrd image has also been created. To revert, please regenerate your\n",
            "initrd by running the following command after deleting the modprobe.d file:\n",
            "`/usr/sbin/initramfs -u`\n",
            "\n",
            "*****************************************************************************\n",
            "*** Reboot your computer and verify that the NVIDIA graphics driver can   ***\n",
            "*** be loaded.                                                            ***\n",
            "*****************************************************************************\n",
            "\n",
            "Loading new nvidia-450.36.06 DKMS files...\n",
            "It is likely that 4.19.104+ belongs to a chroot's host\n",
            "Building for 4.15.0-106-generic\n",
            "Building for architecture x86_64\n",
            "Building initial module for 4.15.0-106-generic\n",
            "Done.\n",
            "\n",
            "nvidia:\n",
            "Running module version sanity check.\n",
            " - Original module\n",
            "   - No original module exists within this kernel\n",
            " - Installation\n",
            "   - Installing to /lib/modules/4.15.0-106-generic/updates/dkms/\n",
            "\n",
            "nvidia-modeset.ko:\n",
            "Running module version sanity check.\n",
            " - Original module\n",
            "   - No original module exists within this kernel\n",
            " - Installation\n",
            "   - Installing to /lib/modules/4.15.0-106-generic/updates/dkms/\n",
            "\n",
            "nvidia-drm.ko:\n",
            "Running module version sanity check.\n",
            " - Original module\n",
            "   - No original module exists within this kernel\n",
            " - Installation\n",
            "   - Installing to /lib/modules/4.15.0-106-generic/updates/dkms/\n",
            "\n",
            "nvidia-uvm.ko:\n",
            "Running module version sanity check.\n",
            " - Original module\n",
            "   - No original module exists within this kernel\n",
            " - Installation\n",
            "   - Installing to /lib/modules/4.15.0-106-generic/updates/dkms/\n",
            "\n",
            "depmod...\n",
            "\n",
            "DKMS: install completed.\n",
            "Setting up r-cran-survival (3.2-3-1cran1.1804.0) ...\n",
            "Setting up libexif12:amd64 (0.6.21-4ubuntu0.5) ...\n",
            "Setting up libnvidia-common-450 (450.36.06-0ubuntu1) ...\n",
            "Setting up libxnvctrl0:amd64 (450.36.06-0ubuntu1) ...\n",
            "Setting up libdbus-1-3:amd64 (1.12.2-1ubuntu1.2) ...\n",
            "Setting up libnvidia-decode-450:amd64 (450.36.06-0ubuntu1) ...\n",
            "Setting up libnvidia-encode-450:amd64 (450.36.06-0ubuntu1) ...\n",
            "Setting up libbinutils:amd64 (2.30-21ubuntu1~18.04.3) ...\n",
            "Setting up libnss3:amd64 (2:3.35-2ubuntu2.8) ...\n",
            "Setting up libdrm2:amd64 (2.4.101-2~18.04.1) ...\n",
            "Setting up librados2 (12.2.13-0ubuntu0.18.04.2) ...\n",
            "Setting up libdrm-intel1:amd64 (2.4.101-2~18.04.1) ...\n",
            "Setting up libexif-dev:amd64 (0.6.21-4ubuntu0.5) ...\n",
            "Setting up libnvidia-gl-450:amd64 (450.36.06-0ubuntu1) ...\n",
            "Setting up libdrm-radeon1:amd64 (2.4.101-2~18.04.1) ...\n",
            "Setting up dbus (1.12.2-1ubuntu1.2) ...\n",
            "Setting up libdrm-nouveau2:amd64 (2.4.101-2~18.04.1) ...\n",
            "Setting up xserver-xorg-core-hwe-18.04 (2:1.20.8-2ubuntu2.1~18.04.1) ...\n",
            "Setting up binutils-x86-64-linux-gnu (2.30-21ubuntu1~18.04.3) ...\n",
            "Setting up libnvidia-ifr1-450:amd64 (450.36.06-0ubuntu1) ...\n",
            "Setting up libdrm-amdgpu1:amd64 (2.4.101-2~18.04.1) ...\n",
            "Setting up libdrm-dev:amd64 (2.4.101-2~18.04.1) ...\n",
            "Setting up librbd1 (12.2.13-0ubuntu0.18.04.2) ...\n",
            "Setting up binutils (2.30-21ubuntu1~18.04.3) ...\n",
            "Processing triggers for libc-bin (2.27-3ubuntu1) ...\n",
            "/sbin/ldconfig.real: /usr/local/lib/python3.6/dist-packages/ideep4py/lib/libmkldnn.so.0 is not a symbolic link\n",
            "\n",
            "Processing triggers for systemd (237-3ubuntu10.41) ...\n",
            "Processing triggers for man-db (2.8.3-2ubuntu0.1) ...\n",
            "Processing triggers for mime-support (3.60ubuntu1) ...\n",
            "Collecting numpy==1.16\n",
            "\u001b[?25l  Downloading https://files.pythonhosted.org/packages/7b/74/54c5f9bb9bd4dae27a61ec1b39076a39d359b3fb7ba15da79ef23858a9d8/numpy-1.16.0-cp36-cp36m-manylinux1_x86_64.whl (17.3MB)\n",
            "\u001b[K     |████████████████████████████████| 17.3MB 244kB/s \n",
            "\u001b[31mERROR: umap-learn 0.4.4 has requirement numpy>=1.17, but you'll have numpy 1.16.0 which is incompatible.\u001b[0m\n",
            "\u001b[31mERROR: tensorflow-probability 0.10.0 has requirement gast>=0.3.2, but you'll have gast 0.2.2 which is incompatible.\u001b[0m\n",
            "\u001b[31mERROR: datascience 0.10.6 has requirement folium==0.2.1, but you'll have folium 0.8.3 which is incompatible.\u001b[0m\n",
            "\u001b[31mERROR: albumentations 0.1.12 has requirement imgaug<0.2.7,>=0.2.5, but you'll have imgaug 0.2.9 which is incompatible.\u001b[0m\n",
            "\u001b[?25hInstalling collected packages: numpy\n",
            "  Found existing installation: numpy 1.18.5\n",
            "    Uninstalling numpy-1.18.5:\n",
            "      Successfully uninstalled numpy-1.18.5\n",
            "Successfully installed numpy-1.16.0\n"
          ],
          "name": "stdout"
        },
        {
          "output_type": "display_data",
          "data": {
            "application/vnd.colab-display-data+json": {
              "pip_warning": {
                "packages": [
                  "numpy"
                ]
              }
            }
          },
          "metadata": {
            "tags": []
          }
        }
      ]
    },
    {
      "cell_type": "markdown",
      "metadata": {
        "id": "c4AnozPNzJrP",
        "colab_type": "text"
      },
      "source": [
        "Make sure you have `pycocotools` installed"
      ]
    },
    {
      "cell_type": "code",
      "metadata": {
        "id": "2o4597uwzIJO",
        "colab_type": "code",
        "colab": {
          "base_uri": "https://localhost:8080/",
          "height": 34
        },
        "outputId": "251d5435-5a58-4aa2-fb9c-11df9a0d8a7f"
      },
      "source": [
        "!pip install pycocotools"
      ],
      "execution_count": 1,
      "outputs": [
        {
          "output_type": "stream",
          "text": [
            "Requirement already satisfied: pycocotools in /usr/local/lib/python3.6/dist-packages (2.0.0)\n"
          ],
          "name": "stdout"
        }
      ]
    },
    {
      "cell_type": "markdown",
      "metadata": {
        "id": "kPpk7knJzQLe",
        "colab_type": "text"
      },
      "source": [
        "Get `tensorflow/models` or `cd` to parent directory of the repository."
      ]
    },
    {
      "cell_type": "code",
      "metadata": {
        "id": "OVVgHA7c7b4_",
        "colab_type": "code",
        "colab": {
          "base_uri": "https://localhost:8080/",
          "height": 1000
        },
        "outputId": "905134cf-8743-4332-c038-1306dca235a9"
      },
      "source": [
        "!apt-get install python-pil python-lxml \n",
        "\n",
        "!pip install Cython\n",
        "!pip install contextlib2\n",
        "#!pip install jupyter\n",
        "!pip install matplotlib\n",
        "!pip install wget\n",
        "\n",
        "import os\n",
        "import pathlib\n",
        "import wget\n",
        "\n",
        "\n",
        "if \"models\" in pathlib.Path.cwd().parts:\n",
        "  while \"models\" in pathlib.Path.cwd().parts:\n",
        "    os.chdir('..')\n",
        "elif not pathlib.Path('models').exists():\n",
        "  !git clone --depth 1 https://github.com/tensorflow/models\n",
        "\n",
        "os.environ['PYTHONPATH'] += \":/content/models/research/:/content/models/research/slim\""
      ],
      "execution_count": 2,
      "outputs": [
        {
          "output_type": "stream",
          "text": [
            "Reading package lists... Done\n",
            "Building dependency tree       \n",
            "Reading state information... Done\n",
            "The following package was automatically installed and is no longer required:\n",
            "  libnvidia-common-440\n",
            "Use 'apt autoremove' to remove it.\n",
            "The following additional packages will be installed:\n",
            "  python-bs4 python-chardet python-html5lib python-olefile\n",
            "  python-pkg-resources python-six python-webencodings\n",
            "Suggested packages:\n",
            "  python-genshi python-lxml-dbg python-lxml-doc python-pil-doc python-pil-dbg\n",
            "  python-setuptools\n",
            "The following NEW packages will be installed:\n",
            "  python-bs4 python-chardet python-html5lib python-lxml python-olefile\n",
            "  python-pil python-pkg-resources python-six python-webencodings\n",
            "0 upgraded, 9 newly installed, 0 to remove and 17 not upgraded.\n",
            "Need to get 1,818 kB of archives.\n",
            "After this operation, 7,685 kB of additional disk space will be used.\n",
            "Get:1 http://archive.ubuntu.com/ubuntu bionic/main amd64 python-bs4 all 4.6.0-1 [67.9 kB]\n",
            "Get:2 http://archive.ubuntu.com/ubuntu bionic/main amd64 python-pkg-resources all 39.0.1-2 [128 kB]\n",
            "Get:3 http://archive.ubuntu.com/ubuntu bionic/main amd64 python-chardet all 3.0.4-1 [80.3 kB]\n",
            "Get:4 http://archive.ubuntu.com/ubuntu bionic/main amd64 python-six all 1.11.0-2 [11.3 kB]\n",
            "Get:5 http://archive.ubuntu.com/ubuntu bionic/main amd64 python-webencodings all 0.5-2 [10.3 kB]\n",
            "Get:6 http://archive.ubuntu.com/ubuntu bionic/main amd64 python-html5lib all 0.999999999-1 [83.6 kB]\n",
            "Get:7 http://archive.ubuntu.com/ubuntu bionic-updates/main amd64 python-lxml amd64 4.2.1-1ubuntu0.1 [1,075 kB]\n",
            "Get:8 http://archive.ubuntu.com/ubuntu bionic/main amd64 python-olefile all 0.45.1-1 [33.2 kB]\n",
            "Get:9 http://archive.ubuntu.com/ubuntu bionic-updates/main amd64 python-pil amd64 5.1.0-1ubuntu0.2 [329 kB]\n",
            "Fetched 1,818 kB in 0s (12.6 MB/s)\n",
            "Selecting previously unselected package python-bs4.\n",
            "(Reading database ... 144328 files and directories currently installed.)\n",
            "Preparing to unpack .../0-python-bs4_4.6.0-1_all.deb ...\n",
            "Unpacking python-bs4 (4.6.0-1) ...\n",
            "Selecting previously unselected package python-pkg-resources.\n",
            "Preparing to unpack .../1-python-pkg-resources_39.0.1-2_all.deb ...\n",
            "Unpacking python-pkg-resources (39.0.1-2) ...\n",
            "Selecting previously unselected package python-chardet.\n",
            "Preparing to unpack .../2-python-chardet_3.0.4-1_all.deb ...\n",
            "Unpacking python-chardet (3.0.4-1) ...\n",
            "Selecting previously unselected package python-six.\n",
            "Preparing to unpack .../3-python-six_1.11.0-2_all.deb ...\n",
            "Unpacking python-six (1.11.0-2) ...\n",
            "Selecting previously unselected package python-webencodings.\n",
            "Preparing to unpack .../4-python-webencodings_0.5-2_all.deb ...\n",
            "Unpacking python-webencodings (0.5-2) ...\n",
            "Selecting previously unselected package python-html5lib.\n",
            "Preparing to unpack .../5-python-html5lib_0.999999999-1_all.deb ...\n",
            "Unpacking python-html5lib (0.999999999-1) ...\n",
            "Selecting previously unselected package python-lxml:amd64.\n",
            "Preparing to unpack .../6-python-lxml_4.2.1-1ubuntu0.1_amd64.deb ...\n",
            "Unpacking python-lxml:amd64 (4.2.1-1ubuntu0.1) ...\n",
            "Selecting previously unselected package python-olefile.\n",
            "Preparing to unpack .../7-python-olefile_0.45.1-1_all.deb ...\n",
            "Unpacking python-olefile (0.45.1-1) ...\n",
            "Selecting previously unselected package python-pil:amd64.\n",
            "Preparing to unpack .../8-python-pil_5.1.0-1ubuntu0.2_amd64.deb ...\n",
            "Unpacking python-pil:amd64 (5.1.0-1ubuntu0.2) ...\n",
            "Setting up python-pkg-resources (39.0.1-2) ...\n",
            "Setting up python-six (1.11.0-2) ...\n",
            "Setting up python-bs4 (4.6.0-1) ...\n",
            "Setting up python-lxml:amd64 (4.2.1-1ubuntu0.1) ...\n",
            "Setting up python-olefile (0.45.1-1) ...\n",
            "Setting up python-pil:amd64 (5.1.0-1ubuntu0.2) ...\n",
            "Setting up python-webencodings (0.5-2) ...\n",
            "Setting up python-chardet (3.0.4-1) ...\n",
            "Setting up python-html5lib (0.999999999-1) ...\n",
            "Processing triggers for man-db (2.8.3-2ubuntu0.1) ...\n",
            "Requirement already satisfied: Cython in /usr/local/lib/python3.6/dist-packages (0.29.20)\n",
            "Requirement already satisfied: contextlib2 in /usr/local/lib/python3.6/dist-packages (0.5.5)\n",
            "Requirement already satisfied: matplotlib in /usr/local/lib/python3.6/dist-packages (3.2.1)\n",
            "Requirement already satisfied: pyparsing!=2.0.4,!=2.1.2,!=2.1.6,>=2.0.1 in /usr/local/lib/python3.6/dist-packages (from matplotlib) (2.4.7)\n",
            "Requirement already satisfied: python-dateutil>=2.1 in /usr/local/lib/python3.6/dist-packages (from matplotlib) (2.8.1)\n",
            "Requirement already satisfied: numpy>=1.11 in /usr/local/lib/python3.6/dist-packages (from matplotlib) (1.16.0)\n",
            "Requirement already satisfied: cycler>=0.10 in /usr/local/lib/python3.6/dist-packages (from matplotlib) (0.10.0)\n",
            "Requirement already satisfied: kiwisolver>=1.0.1 in /usr/local/lib/python3.6/dist-packages (from matplotlib) (1.2.0)\n",
            "Requirement already satisfied: six>=1.5 in /usr/local/lib/python3.6/dist-packages (from python-dateutil>=2.1->matplotlib) (1.12.0)\n",
            "Collecting wget\n",
            "  Downloading https://files.pythonhosted.org/packages/47/6a/62e288da7bcda82b935ff0c6cfe542970f04e29c756b0e147251b2fb251f/wget-3.2.zip\n",
            "Building wheels for collected packages: wget\n",
            "  Building wheel for wget (setup.py) ... \u001b[?25l\u001b[?25hdone\n",
            "  Created wheel for wget: filename=wget-3.2-cp36-none-any.whl size=9682 sha256=964c95272442523f1ee2d0eb65ec9958da290ee0ada00686838d6a2e06115506\n",
            "  Stored in directory: /root/.cache/pip/wheels/40/15/30/7d8f7cea2902b4db79e3fea550d7d7b85ecb27ef992b618f3f\n",
            "Successfully built wget\n",
            "Installing collected packages: wget\n",
            "Successfully installed wget-3.2\n",
            "Cloning into 'models'...\n",
            "remote: Enumerating objects: 2713, done.\u001b[K\n",
            "remote: Counting objects: 100% (2713/2713), done.\u001b[K\n",
            "remote: Compressing objects: 100% (2378/2378), done.\u001b[K\n",
            "remote: Total 2713 (delta 519), reused 1371 (delta 301), pack-reused 0\u001b[K\n",
            "Receiving objects: 100% (2713/2713), 34.13 MiB | 23.69 MiB/s, done.\n",
            "Resolving deltas: 100% (519/519), done.\n"
          ],
          "name": "stdout"
        }
      ]
    },
    {
      "cell_type": "markdown",
      "metadata": {
        "id": "34KYahqQzWjm",
        "colab_type": "text"
      },
      "source": [
        "Compile protobufs and install the object_detection package"
      ]
    },
    {
      "cell_type": "code",
      "metadata": {
        "id": "6xsejajlEiyN",
        "colab_type": "code",
        "colab": {
          "base_uri": "https://localhost:8080/",
          "height": 34
        },
        "outputId": "74a8dfe8-4ce3-4e55-a79c-c7603bfa8795"
      },
      "source": [
        "%%bash\n",
        "cd models/research/\n",
        "protoc object_detection/protos/*.proto --python_out=."
      ],
      "execution_count": 3,
      "outputs": [
        {
          "output_type": "stream",
          "text": [
            "object_detection/protos/input_reader.proto: warning: Import object_detection/protos/image_resizer.proto but not used.\n"
          ],
          "name": "stderr"
        }
      ]
    },
    {
      "cell_type": "code",
      "metadata": {
        "id": "cr2-SfuPExVT",
        "colab_type": "code",
        "colab": {
          "base_uri": "https://localhost:8080/",
          "height": 329
        },
        "outputId": "21170e32-4a77-401c-e6bc-cb5c109f7e8b"
      },
      "source": [
        "%%bash \n",
        "cd models/research\n",
        "pip install ."
      ],
      "execution_count": 4,
      "outputs": [
        {
          "output_type": "stream",
          "text": [
            "Processing /content/models/research\n",
            "Requirement already satisfied: Pillow>=1.0 in /usr/local/lib/python3.6/dist-packages (from object-detection==0.1) (7.0.0)\n",
            "Requirement already satisfied: Matplotlib>=2.1 in /usr/local/lib/python3.6/dist-packages (from object-detection==0.1) (3.2.1)\n",
            "Requirement already satisfied: Cython>=0.28.1 in /usr/local/lib/python3.6/dist-packages (from object-detection==0.1) (0.29.20)\n",
            "Requirement already satisfied: kiwisolver>=1.0.1 in /usr/local/lib/python3.6/dist-packages (from Matplotlib>=2.1->object-detection==0.1) (1.2.0)\n",
            "Requirement already satisfied: cycler>=0.10 in /usr/local/lib/python3.6/dist-packages (from Matplotlib>=2.1->object-detection==0.1) (0.10.0)\n",
            "Requirement already satisfied: pyparsing!=2.0.4,!=2.1.2,!=2.1.6,>=2.0.1 in /usr/local/lib/python3.6/dist-packages (from Matplotlib>=2.1->object-detection==0.1) (2.4.7)\n",
            "Requirement already satisfied: python-dateutil>=2.1 in /usr/local/lib/python3.6/dist-packages (from Matplotlib>=2.1->object-detection==0.1) (2.8.1)\n",
            "Requirement already satisfied: numpy>=1.11 in /usr/local/lib/python3.6/dist-packages (from Matplotlib>=2.1->object-detection==0.1) (1.16.0)\n",
            "Requirement already satisfied: six in /usr/local/lib/python3.6/dist-packages (from cycler>=0.10->Matplotlib>=2.1->object-detection==0.1) (1.12.0)\n",
            "Building wheels for collected packages: object-detection\n",
            "  Building wheel for object-detection (setup.py): started\n",
            "  Building wheel for object-detection (setup.py): finished with status 'done'\n",
            "  Created wheel for object-detection: filename=object_detection-0.1-cp36-none-any.whl size=1253584 sha256=a6d323b60973a67e3a26333eda19e90102ab06155e9570a6323dbb7fcd3332c3\n",
            "  Stored in directory: /tmp/pip-ephem-wheel-cache-7qhzts6t/wheels/94/49/4b/39b051683087a22ef7e80ec52152a27249d1a644ccf4e442ea\n",
            "Successfully built object-detection\n",
            "Installing collected packages: object-detection\n",
            "Successfully installed object-detection-0.1\n"
          ],
          "name": "stdout"
        }
      ]
    },
    {
      "cell_type": "markdown",
      "metadata": {
        "id": "0rMllIVy-etr",
        "colab_type": "text"
      },
      "source": [
        "# Imports & Configuration"
      ]
    },
    {
      "cell_type": "code",
      "metadata": {
        "id": "jZYR0SROEzfr",
        "colab_type": "code",
        "colab": {
          "base_uri": "https://localhost:8080/",
          "height": 260
        },
        "outputId": "b4c0848a-3be5-4f81-82fb-7918c5b3031b"
      },
      "source": [
        "!wget https://raw.githubusercontent.com/cloud-commander/face-mask-detection/master/config/constants.py\n",
        "from constants import *\n",
        "!curl {PRETRAINED_MODEL_CONFIG} -o {CONFIG_DIR}pipeline.config"
      ],
      "execution_count": 9,
      "outputs": [
        {
          "output_type": "stream",
          "text": [
            "--2020-06-17 19:23:23--  https://raw.githubusercontent.com/cloud-commander/face-mask-detection/master/config/constants.py\n",
            "Resolving raw.githubusercontent.com (raw.githubusercontent.com)... 151.101.0.133, 151.101.64.133, 151.101.128.133, ...\n",
            "Connecting to raw.githubusercontent.com (raw.githubusercontent.com)|151.101.0.133|:443... connected.\n",
            "HTTP request sent, awaiting response... 200 OK\n",
            "Length: 6874 (6.7K) [text/plain]\n",
            "Saving to: ‘constants.py.1’\n",
            "\n",
            "\rconstants.py.1        0%[                    ]       0  --.-KB/s               \rconstants.py.1      100%[===================>]   6.71K  --.-KB/s    in 0s      \n",
            "\n",
            "2020-06-17 19:23:23 (84.4 MB/s) - ‘constants.py.1’ saved [6874/6874]\n",
            "\n",
            "  % Total    % Received % Xferd  Average Speed   Time    Time     Time  Current\n",
            "                                 Dload  Upload   Total   Spent    Left  Speed\n",
            "100  4527  100  4527    0     0  83833      0 --:--:-- --:--:-- --:--:-- 83833\n"
          ],
          "name": "stdout"
        }
      ]
    },
    {
      "cell_type": "markdown",
      "metadata": {
        "id": "aKsmrGMv-rS6",
        "colab_type": "text"
      },
      "source": [
        "## Copy dataset and extract"
      ]
    },
    {
      "cell_type": "code",
      "metadata": {
        "id": "l_lyTPtRR6qK",
        "colab_type": "code",
        "colab": {
          "base_uri": "https://localhost:8080/",
          "height": 433
        },
        "outputId": "4580a90c-2427-4227-a9b8-ba2fb06a0067"
      },
      "source": [
        "!gsutil cp {DRIVE_DEV}model_checkpointsv3.zip /content/\n",
        "!unzip -j model_checkpointsv3.zip -d {CKPT_DIR}"
      ],
      "execution_count": 11,
      "outputs": [
        {
          "output_type": "stream",
          "text": [
            "Copying file:///content/drive/My Drive/Machine Learning/Projects/Face-Mask-Detection/Dev/model_checkpointsv3.zip...\n",
            "-\n",
            "Operation completed over 1 objects/355.3 MiB.                                    \n",
            "Archive:  model_checkpointsv3.zip\n",
            "replace /content/Face-Mask-Detection/training/checkpoints/model.ckpt-5633.index? [y]es, [n]o, [A]ll, [N]one, [r]ename: A\n",
            "  inflating: /content/Face-Mask-Detection/training/checkpoints/model.ckpt-5633.index  \n",
            "  inflating: /content/Face-Mask-Detection/training/checkpoints/model.ckpt-4500.data-00000-of-00001  \n",
            "  inflating: /content/Face-Mask-Detection/training/checkpoints/events.out.tfevents.1592407452.ea5b7eeba55a  \n",
            "  inflating: /content/Face-Mask-Detection/training/checkpoints/model.ckpt-5067.data-00000-of-00001  \n",
            "  inflating: /content/Face-Mask-Detection/training/checkpoints/model.ckpt-3932.meta  \n",
            "  inflating: /content/Face-Mask-Detection/training/checkpoints/model.ckpt-3932.data-00000-of-00001  \n",
            "  inflating: /content/Face-Mask-Detection/training/checkpoints/model.ckpt-5067.index  \n",
            "  inflating: /content/Face-Mask-Detection/training/checkpoints/model.ckpt-4500.meta  \n",
            "  inflating: /content/Face-Mask-Detection/training/checkpoints/model.ckpt-5633.meta  \n",
            "  inflating: /content/Face-Mask-Detection/training/checkpoints/events.out.tfevents.1592408115.ea5b7eeba55a  \n",
            "  inflating: /content/Face-Mask-Detection/training/checkpoints/graph.pbtxt  \n",
            "  inflating: /content/Face-Mask-Detection/training/checkpoints/model.ckpt-5067.meta  \n",
            "  inflating: /content/Face-Mask-Detection/training/checkpoints/checkpoint  \n",
            "  inflating: /content/Face-Mask-Detection/training/checkpoints/model.ckpt-3364.meta  \n",
            "  inflating: /content/Face-Mask-Detection/training/checkpoints/model.ckpt-4500.index  \n",
            "  inflating: /content/Face-Mask-Detection/training/checkpoints/model.ckpt-3364.data-00000-of-00001  \n",
            "  inflating: /content/Face-Mask-Detection/training/checkpoints/model.ckpt-3364.index  \n",
            "  inflating: /content/Face-Mask-Detection/training/checkpoints/model.ckpt-3932.index  \n",
            "  inflating: /content/Face-Mask-Detection/training/checkpoints/model.ckpt-5633.data-00000-of-00001  \n"
          ],
          "name": "stdout"
        }
      ]
    },
    {
      "cell_type": "markdown",
      "metadata": {
        "id": "mhASrNmj0B-K",
        "colab_type": "text"
      },
      "source": [
        "# Conversions"
      ]
    },
    {
      "cell_type": "markdown",
      "metadata": {
        "id": "yHSx5ipKDWGR",
        "colab_type": "text"
      },
      "source": [
        "## Export inference graph\n",
        "\n",
        "Use this option if you want to convert to TFjs later"
      ]
    },
    {
      "cell_type": "code",
      "metadata": {
        "id": "nivCTJa2DV3h",
        "colab_type": "code",
        "colab": {
          "base_uri": "https://localhost:8080/",
          "height": 294
        },
        "outputId": "b77d9137-f712-423e-d3df-265b0c27114a"
      },
      "source": [
        "!python /content/models/research/object_detection/export_inference_graph.py \\\n",
        "  --pipeline_config_path={CONFIG_DIR}pipeline.config \\\n",
        "  --trained_checkpoint_prefix={CKPT_DIR}/model.ckpt-3932 \\\n",
        "  --output_directory={INF_GRAPH} \\\n",
        "  --add_postprocessing_op=true \\\n",
        "  --input_type=image_tensor \\\n",
        "  "
      ],
      "execution_count": 8,
      "outputs": [
        {
          "output_type": "stream",
          "text": [
            "Traceback (most recent call last):\n",
            "  File \"/content/models/research/object_detection/export_inference_graph.py\", line 206, in <module>\n",
            "    tf.app.run()\n",
            "  File \"/usr/local/lib/python3.6/dist-packages/tensorflow_core/python/platform/app.py\", line 40, in run\n",
            "    _run(main=main, argv=argv, flags_parser=_parse_flags_tolerate_undef)\n",
            "  File \"/usr/local/lib/python3.6/dist-packages/absl/app.py\", line 299, in run\n",
            "    _run_main(main, args)\n",
            "  File \"/usr/local/lib/python3.6/dist-packages/absl/app.py\", line 250, in _run_main\n",
            "    sys.exit(main(argv))\n",
            "  File \"/content/models/research/object_detection/export_inference_graph.py\", line 170, in main\n",
            "    text_format.Merge(f.read(), pipeline_config)\n",
            "  File \"/usr/local/lib/python3.6/dist-packages/tensorflow_core/python/lib/io/file_io.py\", line 122, in read\n",
            "    self._preread_check()\n",
            "  File \"/usr/local/lib/python3.6/dist-packages/tensorflow_core/python/lib/io/file_io.py\", line 84, in _preread_check\n",
            "    compat.as_bytes(self.__name), 1024 * 512)\n",
            "tensorflow.python.framework.errors_impl.NotFoundError: /content/Face-Mask-Detection/training/config/pipeline.config; No such file or directory\n"
          ],
          "name": "stdout"
        }
      ]
    },
    {
      "cell_type": "markdown",
      "metadata": {
        "id": "q55KT3nJDbK6",
        "colab_type": "text"
      },
      "source": [
        "## Export TF Lite SSD inference graph\n",
        "\n",
        "Use this option for TF Lite conversion"
      ]
    },
    {
      "cell_type": "code",
      "metadata": {
        "id": "tiY8_GzVDbVq",
        "colab_type": "code",
        "colab": {
          "base_uri": "https://localhost:8080/",
          "height": 1000
        },
        "outputId": "44c9546a-a400-4718-cd57-47ee06eba764"
      },
      "source": [
        "!python {BASE_DIR}/models/research/object_detection/export_tflite_ssd_graph.py \\\n",
        "--pipeline_config_path={CONFIG_DIR}/pipeline.config \\\n",
        "--trained_checkpoint_prefix={CKPT_DIR}/model.ckpt-3932 \\\n",
        "--output_directory={TF_LITE_GRAPH} \\\n",
        "--add_postprocessing_op=true"
      ],
      "execution_count": 12,
      "outputs": [
        {
          "output_type": "stream",
          "text": [
            "WARNING:tensorflow:From /usr/local/lib/python3.6/dist-packages/tf_slim/layers/layers.py:1089: Layer.apply (from tensorflow.python.keras.engine.base_layer) is deprecated and will be removed in a future version.\n",
            "Instructions for updating:\n",
            "Please use `layer.__call__` method instead.\n",
            "W0617 19:25:47.943305 140516218288000 deprecation.py:323] From /usr/local/lib/python3.6/dist-packages/tf_slim/layers/layers.py:1089: Layer.apply (from tensorflow.python.keras.engine.base_layer) is deprecated and will be removed in a future version.\n",
            "Instructions for updating:\n",
            "Please use `layer.__call__` method instead.\n",
            "INFO:tensorflow:depth of additional conv before box predictor: 0\n",
            "I0617 19:25:50.156424 140516218288000 convolutional_box_predictor.py:156] depth of additional conv before box predictor: 0\n",
            "INFO:tensorflow:depth of additional conv before box predictor: 0\n",
            "I0617 19:25:50.188123 140516218288000 convolutional_box_predictor.py:156] depth of additional conv before box predictor: 0\n",
            "INFO:tensorflow:depth of additional conv before box predictor: 0\n",
            "I0617 19:25:50.223891 140516218288000 convolutional_box_predictor.py:156] depth of additional conv before box predictor: 0\n",
            "INFO:tensorflow:depth of additional conv before box predictor: 0\n",
            "I0617 19:25:50.256144 140516218288000 convolutional_box_predictor.py:156] depth of additional conv before box predictor: 0\n",
            "INFO:tensorflow:depth of additional conv before box predictor: 0\n",
            "I0617 19:25:50.288212 140516218288000 convolutional_box_predictor.py:156] depth of additional conv before box predictor: 0\n",
            "INFO:tensorflow:depth of additional conv before box predictor: 0\n",
            "I0617 19:25:50.319881 140516218288000 convolutional_box_predictor.py:156] depth of additional conv before box predictor: 0\n",
            "2020-06-17 19:25:50.363516: I tensorflow/core/platform/cpu_feature_guard.cc:142] Your CPU supports instructions that this TensorFlow binary was not compiled to use: AVX2 AVX512F FMA\n",
            "2020-06-17 19:25:50.367727: I tensorflow/core/platform/profile_utils/cpu_utils.cc:94] CPU Frequency: 2000165000 Hz\n",
            "2020-06-17 19:25:50.368008: I tensorflow/compiler/xla/service/service.cc:168] XLA service 0x25bc840 initialized for platform Host (this does not guarantee that XLA will be used). Devices:\n",
            "2020-06-17 19:25:50.368044: I tensorflow/compiler/xla/service/service.cc:176]   StreamExecutor device (0): Host, Default Version\n",
            "INFO:tensorflow:Skipping quant after FeatureExtractor/MobilenetV2/Conv/add_fold\n",
            "I0617 19:25:52.035677 140516218288000 quantize.py:299] Skipping quant after FeatureExtractor/MobilenetV2/Conv/add_fold\n",
            "INFO:tensorflow:Skipping quant after FeatureExtractor/MobilenetV2/expanded_conv/depthwise/add_fold\n",
            "I0617 19:25:52.036087 140516218288000 quantize.py:299] Skipping quant after FeatureExtractor/MobilenetV2/expanded_conv/depthwise/add_fold\n",
            "INFO:tensorflow:Skipping quant after FeatureExtractor/MobilenetV2/expanded_conv_1/expand/add_fold\n",
            "I0617 19:25:52.036416 140516218288000 quantize.py:299] Skipping quant after FeatureExtractor/MobilenetV2/expanded_conv_1/expand/add_fold\n",
            "INFO:tensorflow:Skipping quant after FeatureExtractor/MobilenetV2/expanded_conv_1/depthwise/add_fold\n",
            "I0617 19:25:52.036631 140516218288000 quantize.py:299] Skipping quant after FeatureExtractor/MobilenetV2/expanded_conv_1/depthwise/add_fold\n",
            "INFO:tensorflow:Skipping quant after FeatureExtractor/MobilenetV2/expanded_conv_2/expand/add_fold\n",
            "I0617 19:25:52.036936 140516218288000 quantize.py:299] Skipping quant after FeatureExtractor/MobilenetV2/expanded_conv_2/expand/add_fold\n",
            "INFO:tensorflow:Skipping quant after FeatureExtractor/MobilenetV2/expanded_conv_2/depthwise/add_fold\n",
            "I0617 19:25:52.037149 140516218288000 quantize.py:299] Skipping quant after FeatureExtractor/MobilenetV2/expanded_conv_2/depthwise/add_fold\n",
            "INFO:tensorflow:Skipping quant after FeatureExtractor/MobilenetV2/expanded_conv_3/expand/add_fold\n",
            "I0617 19:25:52.037432 140516218288000 quantize.py:299] Skipping quant after FeatureExtractor/MobilenetV2/expanded_conv_3/expand/add_fold\n",
            "INFO:tensorflow:Skipping quant after FeatureExtractor/MobilenetV2/expanded_conv_3/depthwise/add_fold\n",
            "I0617 19:25:52.037633 140516218288000 quantize.py:299] Skipping quant after FeatureExtractor/MobilenetV2/expanded_conv_3/depthwise/add_fold\n",
            "INFO:tensorflow:Skipping quant after FeatureExtractor/MobilenetV2/expanded_conv_4/expand/add_fold\n",
            "I0617 19:25:52.037935 140516218288000 quantize.py:299] Skipping quant after FeatureExtractor/MobilenetV2/expanded_conv_4/expand/add_fold\n",
            "INFO:tensorflow:Skipping quant after FeatureExtractor/MobilenetV2/expanded_conv_4/depthwise/add_fold\n",
            "I0617 19:25:52.038141 140516218288000 quantize.py:299] Skipping quant after FeatureExtractor/MobilenetV2/expanded_conv_4/depthwise/add_fold\n",
            "INFO:tensorflow:Skipping quant after FeatureExtractor/MobilenetV2/expanded_conv_5/expand/add_fold\n",
            "I0617 19:25:52.038420 140516218288000 quantize.py:299] Skipping quant after FeatureExtractor/MobilenetV2/expanded_conv_5/expand/add_fold\n",
            "INFO:tensorflow:Skipping quant after FeatureExtractor/MobilenetV2/expanded_conv_5/depthwise/add_fold\n",
            "I0617 19:25:52.038620 140516218288000 quantize.py:299] Skipping quant after FeatureExtractor/MobilenetV2/expanded_conv_5/depthwise/add_fold\n",
            "INFO:tensorflow:Skipping quant after FeatureExtractor/MobilenetV2/expanded_conv_6/expand/add_fold\n",
            "I0617 19:25:52.038920 140516218288000 quantize.py:299] Skipping quant after FeatureExtractor/MobilenetV2/expanded_conv_6/expand/add_fold\n",
            "INFO:tensorflow:Skipping quant after FeatureExtractor/MobilenetV2/expanded_conv_6/depthwise/add_fold\n",
            "I0617 19:25:52.039125 140516218288000 quantize.py:299] Skipping quant after FeatureExtractor/MobilenetV2/expanded_conv_6/depthwise/add_fold\n",
            "INFO:tensorflow:Skipping quant after FeatureExtractor/MobilenetV2/expanded_conv_7/expand/add_fold\n",
            "I0617 19:25:52.039406 140516218288000 quantize.py:299] Skipping quant after FeatureExtractor/MobilenetV2/expanded_conv_7/expand/add_fold\n",
            "INFO:tensorflow:Skipping quant after FeatureExtractor/MobilenetV2/expanded_conv_7/depthwise/add_fold\n",
            "I0617 19:25:52.039606 140516218288000 quantize.py:299] Skipping quant after FeatureExtractor/MobilenetV2/expanded_conv_7/depthwise/add_fold\n",
            "INFO:tensorflow:Skipping quant after FeatureExtractor/MobilenetV2/expanded_conv_8/expand/add_fold\n",
            "I0617 19:25:52.039903 140516218288000 quantize.py:299] Skipping quant after FeatureExtractor/MobilenetV2/expanded_conv_8/expand/add_fold\n",
            "INFO:tensorflow:Skipping quant after FeatureExtractor/MobilenetV2/expanded_conv_8/depthwise/add_fold\n",
            "I0617 19:25:52.040104 140516218288000 quantize.py:299] Skipping quant after FeatureExtractor/MobilenetV2/expanded_conv_8/depthwise/add_fold\n",
            "INFO:tensorflow:Skipping quant after FeatureExtractor/MobilenetV2/expanded_conv_9/expand/add_fold\n",
            "I0617 19:25:52.040393 140516218288000 quantize.py:299] Skipping quant after FeatureExtractor/MobilenetV2/expanded_conv_9/expand/add_fold\n",
            "INFO:tensorflow:Skipping quant after FeatureExtractor/MobilenetV2/expanded_conv_9/depthwise/add_fold\n",
            "I0617 19:25:52.040588 140516218288000 quantize.py:299] Skipping quant after FeatureExtractor/MobilenetV2/expanded_conv_9/depthwise/add_fold\n",
            "INFO:tensorflow:Skipping quant after FeatureExtractor/MobilenetV2/expanded_conv_10/expand/add_fold\n",
            "I0617 19:25:52.040885 140516218288000 quantize.py:299] Skipping quant after FeatureExtractor/MobilenetV2/expanded_conv_10/expand/add_fold\n",
            "INFO:tensorflow:Skipping quant after FeatureExtractor/MobilenetV2/expanded_conv_10/depthwise/add_fold\n",
            "I0617 19:25:52.041086 140516218288000 quantize.py:299] Skipping quant after FeatureExtractor/MobilenetV2/expanded_conv_10/depthwise/add_fold\n",
            "INFO:tensorflow:Skipping quant after FeatureExtractor/MobilenetV2/expanded_conv_11/expand/add_fold\n",
            "I0617 19:25:52.041362 140516218288000 quantize.py:299] Skipping quant after FeatureExtractor/MobilenetV2/expanded_conv_11/expand/add_fold\n",
            "INFO:tensorflow:Skipping quant after FeatureExtractor/MobilenetV2/expanded_conv_11/depthwise/add_fold\n",
            "I0617 19:25:52.041562 140516218288000 quantize.py:299] Skipping quant after FeatureExtractor/MobilenetV2/expanded_conv_11/depthwise/add_fold\n",
            "INFO:tensorflow:Skipping quant after FeatureExtractor/MobilenetV2/expanded_conv_12/expand/add_fold\n",
            "I0617 19:25:52.041861 140516218288000 quantize.py:299] Skipping quant after FeatureExtractor/MobilenetV2/expanded_conv_12/expand/add_fold\n",
            "INFO:tensorflow:Skipping quant after FeatureExtractor/MobilenetV2/expanded_conv_12/depthwise/add_fold\n",
            "I0617 19:25:52.042062 140516218288000 quantize.py:299] Skipping quant after FeatureExtractor/MobilenetV2/expanded_conv_12/depthwise/add_fold\n",
            "INFO:tensorflow:Skipping quant after FeatureExtractor/MobilenetV2/expanded_conv_13/expand/add_fold\n",
            "I0617 19:25:52.042339 140516218288000 quantize.py:299] Skipping quant after FeatureExtractor/MobilenetV2/expanded_conv_13/expand/add_fold\n",
            "INFO:tensorflow:Skipping quant after FeatureExtractor/MobilenetV2/expanded_conv_13/depthwise/add_fold\n",
            "I0617 19:25:52.042534 140516218288000 quantize.py:299] Skipping quant after FeatureExtractor/MobilenetV2/expanded_conv_13/depthwise/add_fold\n",
            "INFO:tensorflow:Skipping quant after FeatureExtractor/MobilenetV2/expanded_conv_14/expand/add_fold\n",
            "I0617 19:25:52.042830 140516218288000 quantize.py:299] Skipping quant after FeatureExtractor/MobilenetV2/expanded_conv_14/expand/add_fold\n",
            "INFO:tensorflow:Skipping quant after FeatureExtractor/MobilenetV2/expanded_conv_14/depthwise/add_fold\n",
            "I0617 19:25:52.043031 140516218288000 quantize.py:299] Skipping quant after FeatureExtractor/MobilenetV2/expanded_conv_14/depthwise/add_fold\n",
            "INFO:tensorflow:Skipping quant after FeatureExtractor/MobilenetV2/expanded_conv_15/expand/add_fold\n",
            "I0617 19:25:52.043312 140516218288000 quantize.py:299] Skipping quant after FeatureExtractor/MobilenetV2/expanded_conv_15/expand/add_fold\n",
            "INFO:tensorflow:Skipping quant after FeatureExtractor/MobilenetV2/expanded_conv_15/depthwise/add_fold\n",
            "I0617 19:25:52.043506 140516218288000 quantize.py:299] Skipping quant after FeatureExtractor/MobilenetV2/expanded_conv_15/depthwise/add_fold\n",
            "INFO:tensorflow:Skipping quant after FeatureExtractor/MobilenetV2/expanded_conv_16/expand/add_fold\n",
            "I0617 19:25:52.043803 140516218288000 quantize.py:299] Skipping quant after FeatureExtractor/MobilenetV2/expanded_conv_16/expand/add_fold\n",
            "INFO:tensorflow:Skipping quant after FeatureExtractor/MobilenetV2/expanded_conv_16/depthwise/add_fold\n",
            "I0617 19:25:52.044002 140516218288000 quantize.py:299] Skipping quant after FeatureExtractor/MobilenetV2/expanded_conv_16/depthwise/add_fold\n",
            "INFO:tensorflow:Skipping quant after FeatureExtractor/MobilenetV2/Conv_1/add_fold\n",
            "I0617 19:25:52.044278 140516218288000 quantize.py:299] Skipping quant after FeatureExtractor/MobilenetV2/Conv_1/add_fold\n",
            "INFO:tensorflow:Skipping quant after FeatureExtractor/MobilenetV2/layer_19_1_Conv2d_2_1x1_256/add_fold\n",
            "I0617 19:25:52.044466 140516218288000 quantize.py:299] Skipping quant after FeatureExtractor/MobilenetV2/layer_19_1_Conv2d_2_1x1_256/add_fold\n",
            "INFO:tensorflow:Skipping quant after FeatureExtractor/MobilenetV2/layer_19_2_Conv2d_2_3x3_s2_512/add_fold\n",
            "I0617 19:25:52.044649 140516218288000 quantize.py:299] Skipping quant after FeatureExtractor/MobilenetV2/layer_19_2_Conv2d_2_3x3_s2_512/add_fold\n",
            "INFO:tensorflow:Skipping quant after FeatureExtractor/MobilenetV2/layer_19_1_Conv2d_3_1x1_128/add_fold\n",
            "I0617 19:25:52.044856 140516218288000 quantize.py:299] Skipping quant after FeatureExtractor/MobilenetV2/layer_19_1_Conv2d_3_1x1_128/add_fold\n",
            "INFO:tensorflow:Skipping quant after FeatureExtractor/MobilenetV2/layer_19_2_Conv2d_3_3x3_s2_256/add_fold\n",
            "I0617 19:25:52.045061 140516218288000 quantize.py:299] Skipping quant after FeatureExtractor/MobilenetV2/layer_19_2_Conv2d_3_3x3_s2_256/add_fold\n",
            "INFO:tensorflow:Skipping quant after FeatureExtractor/MobilenetV2/layer_19_1_Conv2d_4_1x1_128/add_fold\n",
            "I0617 19:25:52.045254 140516218288000 quantize.py:299] Skipping quant after FeatureExtractor/MobilenetV2/layer_19_1_Conv2d_4_1x1_128/add_fold\n",
            "INFO:tensorflow:Skipping quant after FeatureExtractor/MobilenetV2/layer_19_2_Conv2d_4_3x3_s2_256/add_fold\n",
            "I0617 19:25:52.045446 140516218288000 quantize.py:299] Skipping quant after FeatureExtractor/MobilenetV2/layer_19_2_Conv2d_4_3x3_s2_256/add_fold\n",
            "INFO:tensorflow:Skipping quant after FeatureExtractor/MobilenetV2/layer_19_1_Conv2d_5_1x1_64/add_fold\n",
            "I0617 19:25:52.045636 140516218288000 quantize.py:299] Skipping quant after FeatureExtractor/MobilenetV2/layer_19_1_Conv2d_5_1x1_64/add_fold\n",
            "INFO:tensorflow:Skipping quant after FeatureExtractor/MobilenetV2/layer_19_2_Conv2d_5_3x3_s2_128/add_fold\n",
            "I0617 19:25:52.045844 140516218288000 quantize.py:299] Skipping quant after FeatureExtractor/MobilenetV2/layer_19_2_Conv2d_5_3x3_s2_128/add_fold\n",
            "WARNING:tensorflow:From /usr/local/lib/python3.6/dist-packages/tensorflow_core/python/tools/freeze_graph.py:127: checkpoint_exists (from tensorflow.python.training.checkpoint_management) is deprecated and will be removed in a future version.\n",
            "Instructions for updating:\n",
            "Use standard file APIs to check for files with this prefix.\n",
            "W0617 19:25:52.584870 140516218288000 deprecation.py:323] From /usr/local/lib/python3.6/dist-packages/tensorflow_core/python/tools/freeze_graph.py:127: checkpoint_exists (from tensorflow.python.training.checkpoint_management) is deprecated and will be removed in a future version.\n",
            "Instructions for updating:\n",
            "Use standard file APIs to check for files with this prefix.\n",
            "INFO:tensorflow:Restoring parameters from /content/Face-Mask-Detection/training/checkpoints/model.ckpt-3932\n",
            "I0617 19:25:53.361039 140516218288000 saver.py:1284] Restoring parameters from /content/Face-Mask-Detection/training/checkpoints/model.ckpt-3932\n",
            "WARNING:tensorflow:From /usr/local/lib/python3.6/dist-packages/tensorflow_core/python/tools/freeze_graph.py:233: convert_variables_to_constants (from tensorflow.python.framework.graph_util_impl) is deprecated and will be removed in a future version.\n",
            "Instructions for updating:\n",
            "Use `tf.compat.v1.graph_util.convert_variables_to_constants`\n",
            "W0617 19:25:54.221392 140516218288000 deprecation.py:323] From /usr/local/lib/python3.6/dist-packages/tensorflow_core/python/tools/freeze_graph.py:233: convert_variables_to_constants (from tensorflow.python.framework.graph_util_impl) is deprecated and will be removed in a future version.\n",
            "Instructions for updating:\n",
            "Use `tf.compat.v1.graph_util.convert_variables_to_constants`\n",
            "WARNING:tensorflow:From /usr/local/lib/python3.6/dist-packages/tensorflow_core/python/framework/graph_util_impl.py:277: extract_sub_graph (from tensorflow.python.framework.graph_util_impl) is deprecated and will be removed in a future version.\n",
            "Instructions for updating:\n",
            "Use `tf.compat.v1.graph_util.extract_sub_graph`\n",
            "W0617 19:25:54.221661 140516218288000 deprecation.py:323] From /usr/local/lib/python3.6/dist-packages/tensorflow_core/python/framework/graph_util_impl.py:277: extract_sub_graph (from tensorflow.python.framework.graph_util_impl) is deprecated and will be removed in a future version.\n",
            "Instructions for updating:\n",
            "Use `tf.compat.v1.graph_util.extract_sub_graph`\n",
            "INFO:tensorflow:Froze 632 variables.\n",
            "I0617 19:25:54.696524 140516218288000 graph_util_impl.py:334] Froze 632 variables.\n",
            "INFO:tensorflow:Converted 632 variables to const ops.\n",
            "I0617 19:25:54.784411 140516218288000 graph_util_impl.py:394] Converted 632 variables to const ops.\n",
            "2020-06-17 19:25:54.917469: I tensorflow/tools/graph_transforms/transform_graph.cc:317] Applying strip_unused_nodes\n"
          ],
          "name": "stdout"
        }
      ]
    },
    {
      "cell_type": "markdown",
      "metadata": {
        "id": "KgfBoodbDmx6",
        "colab_type": "text"
      },
      "source": [
        "## Convert graph to TF Lite"
      ]
    },
    {
      "cell_type": "code",
      "metadata": {
        "id": "od3jjP2NzAWs",
        "colab_type": "code",
        "colab": {
          "base_uri": "https://localhost:8080/",
          "height": 86
        },
        "outputId": "f87e86e8-b920-432f-cf9b-d33e827265cd"
      },
      "source": [
        "!tflite_convert \\\n",
        "--output_file=\"{TF_LITE_MODEL}/detect.tflite\" \\\n",
        "--graph_def_file=\"{TF_LITE_GRAPH}/tflite_graph.pb\" \\\n",
        "--inference_type=QUANTIZED_UINT8 \\\n",
        "--input_arrays=\"{INPUT_TENSORS}\" \\\n",
        "--output_arrays=\"{OUTPUT_TENSORS}\"  \\\n",
        "--mean_values=128 \\\n",
        "--std_dev_values=128 \\\n",
        "--input_shapes=1,300,300,3 \\\n",
        "--change_concat_input_ranges=false \\\n",
        "--allow_nudging_weights_to_use_fast_gemm_kernel=true \\\n",
        "--allow_custom_ops \\\n",
        "--output_format=TFLITE \\\n",
        "--default_ranges_min=0 \\\n",
        "--default_ranges_max=255"
      ],
      "execution_count": 13,
      "outputs": [
        {
          "output_type": "stream",
          "text": [
            "2020-06-17 19:26:13.673817: I tensorflow/core/platform/cpu_feature_guard.cc:142] Your CPU supports instructions that this TensorFlow binary was not compiled to use: AVX2 AVX512F FMA\n",
            "2020-06-17 19:26:13.678031: I tensorflow/core/platform/profile_utils/cpu_utils.cc:94] CPU Frequency: 2000165000 Hz\n",
            "2020-06-17 19:26:13.678244: I tensorflow/compiler/xla/service/service.cc:168] XLA service 0x2550a00 initialized for platform Host (this does not guarantee that XLA will be used). Devices:\n",
            "2020-06-17 19:26:13.678276: I tensorflow/compiler/xla/service/service.cc:176]   StreamExecutor device (0): Host, Default Version\n"
          ],
          "name": "stdout"
        }
      ]
    },
    {
      "cell_type": "markdown",
      "metadata": {
        "id": "_DqazGvph3wi",
        "colab_type": "text"
      },
      "source": [
        "# Save "
      ]
    },
    {
      "cell_type": "markdown",
      "metadata": {
        "id": "qXq9F_wFAKEM",
        "colab_type": "text"
      },
      "source": [
        "## Archive the inference graph"
      ]
    },
    {
      "cell_type": "code",
      "metadata": {
        "id": "Oh7Laulzh9ci",
        "colab_type": "code",
        "colab": {
          "base_uri": "https://localhost:8080/",
          "height": 242
        },
        "outputId": "5bc380e4-0830-4ab6-9e73-4139807cb768"
      },
      "source": [
        "!zip -r part5-inf-graphv1.zip {INF_GRAPH}\n",
        "!gsutil cp part5-inf-graphv1.zip {DRIVE_DEV}"
      ],
      "execution_count": null,
      "outputs": [
        {
          "output_type": "stream",
          "text": [
            "  adding: content/Face-Mask-Detection/training/trained_graphs/inference_graph/ (stored 0%)\n",
            "  adding: content/Face-Mask-Detection/training/trained_graphs/inference_graph/pipeline.config (deflated 69%)\n",
            "  adding: content/Face-Mask-Detection/training/trained_graphs/inference_graph/model.ckpt.index (deflated 67%)\n",
            "  adding: content/Face-Mask-Detection/training/trained_graphs/inference_graph/model.ckpt.meta (deflated 94%)\n",
            "  adding: content/Face-Mask-Detection/training/trained_graphs/inference_graph/model.ckpt.data-00000-of-00001 (deflated 6%)\n",
            "  adding: content/Face-Mask-Detection/training/trained_graphs/inference_graph/checkpoint (deflated 42%)\n",
            "  adding: content/Face-Mask-Detection/training/trained_graphs/inference_graph/saved_model/ (stored 0%)\n",
            "  adding: content/Face-Mask-Detection/training/trained_graphs/inference_graph/saved_model/saved_model.pb (deflated 12%)\n",
            "  adding: content/Face-Mask-Detection/training/trained_graphs/inference_graph/saved_model/variables/ (stored 0%)\n",
            "  adding: content/Face-Mask-Detection/training/trained_graphs/inference_graph/frozen_inference_graph.pb (deflated 11%)\n",
            "Copying file://part5-inf-graphv1.zip...\n",
            "/ [1 files][ 36.1 MiB/ 36.1 MiB]                                                \n",
            "Operation completed over 1 objects/36.1 MiB.                                     \n"
          ],
          "name": "stdout"
        }
      ]
    },
    {
      "cell_type": "markdown",
      "metadata": {
        "id": "4pWMC8c_ApUw",
        "colab_type": "text"
      },
      "source": [
        "## Archive the TF Lite graph"
      ]
    },
    {
      "cell_type": "code",
      "metadata": {
        "id": "rcrntnLmiRI0",
        "colab_type": "code",
        "colab": {
          "base_uri": "https://localhost:8080/",
          "height": 121
        },
        "outputId": "e3a93e0d-cccb-4680-ba53-7d3867a28c24"
      },
      "source": [
        "!zip -r part5-tflite-graphv1.zip {TF_LITE_GRAPH}\n",
        "!gsutil cp part5-tflite-graphv1.zip {DRIVE_DEV}"
      ],
      "execution_count": null,
      "outputs": [
        {
          "output_type": "stream",
          "text": [
            "  adding: content/Face-Mask-Detection/training/trained_graphs/tf_lite_graph/ (stored 0%)\n",
            "  adding: content/Face-Mask-Detection/training/trained_graphs/tf_lite_graph/tflite_graph.pb (deflated 9%)\n",
            "  adding: content/Face-Mask-Detection/training/trained_graphs/tf_lite_graph/tflite_graph.pbtxt (deflated 56%)\n",
            "Copying file://part5-tflite-graphv1.zip...\n",
            "/ [1 files][ 28.1 MiB/ 28.1 MiB]                                                \n",
            "Operation completed over 1 objects/28.1 MiB.                                     \n"
          ],
          "name": "stdout"
        }
      ]
    },
    {
      "cell_type": "markdown",
      "metadata": {
        "id": "a8n_7QYrAd4n",
        "colab_type": "text"
      },
      "source": [
        "## Archive the TF Lite model"
      ]
    },
    {
      "cell_type": "code",
      "metadata": {
        "id": "Jgf18Hp_iD_w",
        "colab_type": "code",
        "colab": {
          "base_uri": "https://localhost:8080/",
          "height": 104
        },
        "outputId": "69aa50e5-238f-49ac-e7ca-a28f8700505e"
      },
      "source": [
        "!zip -r part5-tflite-modelv3.zip {TF_LITE_MODEL}\n",
        "!gsutil cp part5-tflite-modelv3.zip {DRIVE_DEV}"
      ],
      "execution_count": 14,
      "outputs": [
        {
          "output_type": "stream",
          "text": [
            "  adding: content/Face-Mask-Detection/training/trained-models/tflite/ (stored 0%)\n",
            "  adding: content/Face-Mask-Detection/training/trained-models/tflite/detect.tflite (deflated 28%)\n",
            "Copying file://part5-tflite-modelv3.zip...\n",
            "/ [1 files][  3.2 MiB/  3.2 MiB]                                                \n",
            "Operation completed over 1 objects/3.2 MiB.                                      \n"
          ],
          "name": "stdout"
        }
      ]
    }
  ]
}