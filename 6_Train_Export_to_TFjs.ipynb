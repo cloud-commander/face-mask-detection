{
  "nbformat": 4,
  "nbformat_minor": 0,
  "metadata": {
    "kernelspec": {
      "display_name": "Python 3",
      "language": "python",
      "name": "python3"
    },
    "language_info": {
      "codemirror_mode": {
        "name": "ipython",
        "version": 3
      },
      "file_extension": ".py",
      "mimetype": "text/x-python",
      "name": "python",
      "nbconvert_exporter": "python",
      "pygments_lexer": "ipython3",
      "version": "3.7.6"
    },
    "colab": {
      "name": "6_Train_Export_to_TFjs.ipynb",
      "provenance": [],
      "toc_visible": true
    }
  },
  "cells": [
    {
      "cell_type": "markdown",
      "metadata": {
        "id": "yQiaYamV3qMV",
        "colab_type": "text"
      },
          },
   
      "source": [
        "<a href=\"https://blog.cloudcommander.net\" target=\"_parent\"><img src=\"https://raw.githubusercontent.com/cloud-commander/hexoblog/master/cloud.png\" alt=\"Visit my Blog\">\n",
        "</a>\n",
        "<br> \n",
        "# <span style=\"font-family:Didot; font-size:3em;\"> Cloud Commander </span>"
      ]
    },
    {
      "cell_type": "markdown",
      "metadata": {
        "id": "sjhMcCa0CYb2",
        "colab_type": "text"
      },
      "source": [
        "<a href=\"https://colab.research.google.com/github/cloud-commander/face-mask-detection/blob/master/6_Train_Export_to_TFjs.ipynb\" target=\"_parent\"><img src=\"https://colab.research.google.com/assets/colab-badge.svg\" alt=\"Open in Colab\"></a>\n",
        "&nbsp;&nbsp;&nbsp;&nbsp;\n",
        "<a href=\"https://github.com/cloud-commander/face-mask-detection/blob/master/6_Train_Export_to_TFjs.ipynb\" target=\"_parent\"><img src=\"https://img.shields.io/static/v1?logo=GitHub&label=&color=333333&style=flat&message=View%20on%20GitHub\" alt=\"View in GitHub\"></a>"
      ]
    },
    {
      "cell_type": "markdown",
      "metadata": {
        "id": "Uomh24gCCYi1",
        "colab_type": "text"
      },
      "source": [
        "# TensorFlow JS Conversion #\n",
        "\n",
        "<img src=\"https://deeplizard.com/images/logo-tensorflow-js.png\"  alt=\"Visit my Blog\"> \n",
        "[link text](https://)\n",
        "\n",
        "If you want to make use of your model on the web then you need to convert it to TensorFlow JS format.\n"
      ]
    },
    {
      "cell_type": "markdown",
      "metadata": {
        "id": "Sre7pFmLCYoH",
        "colab_type": "text"
      },
      "source": [
        "### Install required libraries"
      ]
    },
    {
      "cell_type": "code",
      "metadata": {
        "id": "f9asM3bKCUHK",
        "colab_type": "code",
        "colab": {
          "base_uri": "https://localhost:8080/",
          "height": 212
        },
        "outputId": "0c4bba32-fe87-4f92-d8c4-8c593935fd31"
      },
      "source": [
        "%tensorflow_version 2.x\n",
        "!wget https://raw.githubusercontent.com/cloud-commander/face-mask-detection/master/config/constants.py\n",
        "from constants import * \n",
        "!pip install tensorflowjs"
      ],
      "execution_count": 1,
      "outputs": [
        {
          "output_type": "stream",
          "text": [
            "--2020-06-11 11:03:48--  https://raw.githubusercontent.com/cloud-commander/face-mask-detection/master/config/constants.py\n",
            "Resolving raw.githubusercontent.com (raw.githubusercontent.com)... 151.101.0.133, 151.101.64.133, 151.101.128.133, ...\n",
            "Connecting to raw.githubusercontent.com (raw.githubusercontent.com)|151.101.0.133|:443... connected.\n",
            "HTTP request sent, awaiting response... 200 OK\n",
            "Length: 4840 (4.7K) [text/plain]\n",
            "Saving to: ‘constants.py’\n",
            "\n",
            "\rconstants.py          0%[                    ]       0  --.-KB/s               \rconstants.py        100%[===================>]   4.73K  --.-KB/s    in 0s      \n",
            "\n",
            "2020-06-11 11:03:48 (74.6 MB/s) - ‘constants.py’ saved [4840/4840]\n",
            "\n"
          ],
          "name": "stdout"
        }
      ]
    },
    {
      "cell_type": "markdown",
      "metadata": {
        "id": "w_oavkbTHA6l",
        "colab_type": "text"
      },
      "source": [
        "### Prepare dataset ###"
      ]
    },
    {
      "cell_type": "markdown",
      "metadata": {
        "id": "cMgfbe3WG7Sl",
        "colab_type": "text"
      },
      "source": [
        "#### Connect to Google Drive"
      ]
    },
    {
      "cell_type": "code",
      "metadata": {
        "id": "0Ob6TdFsG7nM",
        "colab_type": "code",
        "colab": {
          "base_uri": "https://localhost:8080/",
          "height": 125
        },
        "outputId": "03ed009e-91d6-453d-acc0-b4d2f140298e"
      },
      "source": [
        "from google.colab import drive\n",
        "\n",
        "drive.mount('/content/drive/')"
      ],
      "execution_count": 6,
      "outputs": [
        {
          "output_type": "stream",
          "text": [
            "Go to this URL in a browser: https://accounts.google.com/o/oauth2/auth?client_id=947318989803-6bn6qk8qdgf4n4g3pfee6491hc0brc4i.apps.googleusercontent.com&redirect_uri=urn%3aietf%3awg%3aoauth%3a2.0%3aoob&response_type=code&scope=email%20https%3a%2f%2fwww.googleapis.com%2fauth%2fdocs.test%20https%3a%2f%2fwww.googleapis.com%2fauth%2fdrive%20https%3a%2f%2fwww.googleapis.com%2fauth%2fdrive.photos.readonly%20https%3a%2f%2fwww.googleapis.com%2fauth%2fpeopleapi.readonly\n",
            "\n",
            "Enter your authorization code:\n",
            "··········\n",
            "Mounted at /content/drive/\n"
          ],
          "name": "stdout"
        }
      ]
    },
    {
      "cell_type": "markdown",
      "metadata": {
        "id": "3JDkQmPiHH_l",
        "colab_type": "text"
      },
      "source": [
        "#### Copy and extract saved inference graph "
      ]
    },
    {
      "cell_type": "code",
      "metadata": {
        "id": "8VJoPpj8HII1",
        "colab_type": "code",
        "colab": {
          "base_uri": "https://localhost:8080/",
          "height": 283
        },
        "outputId": "5871ac60-f1f4-41b6-f4f2-95ce046bb03e"
      },
      "source": [
        "!gsutil cp {DRIVE_DEV}/inf-graphv1.zip {DATASET_DIR_TMP1}\n",
        "!unzip {DATASET_DIR_TMP1}/inf-graphv1.zip -d /"
      ],
      "execution_count": 10,
      "outputs": [
        {
          "output_type": "stream",
          "text": [
            "Copying file:///content/drive/My Drive/Machine Learning/Projects/Face-Mask-Detection/Dev//inf-graphv1.zip...\n",
            "/ [1 files][ 67.4 MiB/ 67.4 MiB]                                                \n",
            "Operation completed over 1 objects/67.4 MiB.                                     \n",
            "Archive:  /content/tensorflow/workspace/Face-Mask-Detection/dataset/tmp1/inf-graphv1.zip\n",
            "   creating: /content/tensorflow/workspace/Face-Mask-Detection/training/model/trained_graphs/inference_graph/saved_model/\n",
            "   creating: /content/tensorflow/workspace/Face-Mask-Detection/training/model/trained_graphs/inference_graph/saved_model/variables/\n",
            "  inflating: /content/tensorflow/workspace/Face-Mask-Detection/training/model/trained_graphs/inference_graph/saved_model/saved_model.pb  \n",
            "replace /content/tensorflow/workspace/Face-Mask-Detection/training/model/trained_graphs/inference_graph/model.ckpt.index? [y]es, [n]o, [A]ll, [N]one, [r]ename: A\n",
            "  inflating: /content/tensorflow/workspace/Face-Mask-Detection/training/model/trained_graphs/inference_graph/model.ckpt.index  \n",
            "  inflating: /content/tensorflow/workspace/Face-Mask-Detection/training/model/trained_graphs/inference_graph/frozen_inference_graph.pb  \n",
            "  inflating: /content/tensorflow/workspace/Face-Mask-Detection/training/model/trained_graphs/inference_graph/checkpoint  \n",
            "  inflating: /content/tensorflow/workspace/Face-Mask-Detection/training/model/trained_graphs/inference_graph/model.ckpt.data-00000-of-00001  \n",
            "  inflating: /content/tensorflow/workspace/Face-Mask-Detection/training/model/trained_graphs/inference_graph/saved_model.pb  \n",
            "  inflating: /content/tensorflow/workspace/Face-Mask-Detection/training/model/trained_graphs/inference_graph/model.ckpt.meta  \n",
            "  inflating: /content/tensorflow/workspace/Face-Mask-Detection/training/model/trained_graphs/inference_graph/pipeline.config  \n"
          ],
          "name": "stdout"
        }
      ]
    },
    {
      "cell_type": "markdown",
      "metadata": {
        "id": "bjWRMp2-Gr-G",
        "colab_type": "text"
      },
      "source": [
        "## Convert saved model to TF js"
      ]
    },
    {
      "cell_type": "code",
      "metadata": {
        "id": "Fa7iCZ-PDwdX",
        "colab_type": "code",
        "colab": {
          "base_uri": "https://localhost:8080/",
          "height": 692
        },
        "outputId": "9c82ce0f-66d3-48be-8c39-1ecf8676825d"
      },
      "source": [
        "!tensorflowjs_converter \\\n",
        "--input_format=tf_saved_model \\\n",
        "--output_node_names='TFLite_Detection_PostProcess','TFLite_Detection_PostProcess:1','TFLite_Detection_PostProcess:2','TFLite_Detection_PostProcess:3' \\\n",
        "--saved_model_tags=serve \\\n",
        "\"{INF_GRAPH}/\" \\\n",
        "\"{TF_JS_MODEL}/\""
      ],
      "execution_count": 13,
      "outputs": [
        {
          "output_type": "stream",
          "text": [
            "2020-06-11 11:29:15.832483: I tensorflow/core/platform/cpu_feature_guard.cc:143] Your CPU supports instructions that this TensorFlow binary was not compiled to use: AVX2 FMA\n",
            "2020-06-11 11:29:15.836218: I tensorflow/core/platform/profile_utils/cpu_utils.cc:102] CPU Frequency: 2300000000 Hz\n",
            "2020-06-11 11:29:15.836494: I tensorflow/compiler/xla/service/service.cc:168] XLA service 0x3080f40 initialized for platform Host (this does not guarantee that XLA will be used). Devices:\n",
            "2020-06-11 11:29:15.836533: I tensorflow/compiler/xla/service/service.cc:176]   StreamExecutor device (0): Host, Default Version\n",
            "2020-06-11 11:29:18.241324: I tensorflow/core/grappler/devices.cc:60] Number of eligible GPUs (core count >= 8, compute capability >= 0.0): 0 (Note: TensorFlow was not compiled with CUDA support)\n",
            "2020-06-11 11:29:18.241535: I tensorflow/core/grappler/clusters/single_machine.cc:356] Starting new session\n",
            "2020-06-11 11:29:18.319361: I tensorflow/core/grappler/optimizers/meta_optimizer.cc:797] Optimization results for grappler item: graph_to_optimize\n",
            "2020-06-11 11:29:18.319431: I tensorflow/core/grappler/optimizers/meta_optimizer.cc:799]   function_optimizer: function_optimizer did nothing. time = 0.004ms.\n",
            "2020-06-11 11:29:18.319442: I tensorflow/core/grappler/optimizers/meta_optimizer.cc:799]   function_optimizer: function_optimizer did nothing. time = 0ms.\n",
            "2020-06-11 11:29:22.413222: I tensorflow/core/grappler/optimizers/meta_optimizer.cc:797] Optimization results for grappler item: graph_to_optimize\n",
            "2020-06-11 11:29:22.413289: I tensorflow/core/grappler/optimizers/meta_optimizer.cc:799]   debug_stripper: Graph size after: 3973 nodes (0), 4507 edges (0), time = 2.895ms.\n",
            "2020-06-11 11:29:22.413306: I tensorflow/core/grappler/optimizers/meta_optimizer.cc:799]   model_pruner: Graph size after: 3250 nodes (-723), 3784 edges (-723), time = 24.179ms.\n",
            "2020-06-11 11:29:22.413320: I tensorflow/core/grappler/optimizers/meta_optimizer.cc:799]   constant_folding: Graph size after: 1438 nodes (-1812), 1758 edges (-2026), time = 241.078ms.\n",
            "2020-06-11 11:29:22.413333: I tensorflow/core/grappler/optimizers/meta_optimizer.cc:799]   arithmetic_optimizer: Graph size after: 1123 nodes (-315), 1533 edges (-225), time = 54.376ms.\n",
            "2020-06-11 11:29:22.413346: I tensorflow/core/grappler/optimizers/meta_optimizer.cc:799]   dependency_optimizer: Graph size after: 1104 nodes (-19), 1503 edges (-30), time = 17.273ms.\n",
            "2020-06-11 11:29:22.413359: I tensorflow/core/grappler/optimizers/meta_optimizer.cc:799]   model_pruner: Graph size after: 1104 nodes (0), 1503 edges (0), time = 10.746ms.\n",
            "2020-06-11 11:29:22.413371: I tensorflow/core/grappler/optimizers/meta_optimizer.cc:799]   constant_folding: Graph size after: 1104 nodes (0), 1503 edges (0), time = 67.391ms.\n",
            "2020-06-11 11:29:22.413384: I tensorflow/core/grappler/optimizers/meta_optimizer.cc:799]   arithmetic_optimizer: Graph size after: 1102 nodes (-2), 1499 edges (-4), time = 50.229ms.\n",
            "2020-06-11 11:29:22.413398: I tensorflow/core/grappler/optimizers/meta_optimizer.cc:799]   dependency_optimizer: Graph size after: 1101 nodes (-1), 1498 edges (-1), time = 16.653ms.\n",
            "2020-06-11 11:29:22.413410: I tensorflow/core/grappler/optimizers/meta_optimizer.cc:799]   debug_stripper: debug_stripper did nothing. time = 1.58ms.\n",
            "2020-06-11 11:29:22.413423: I tensorflow/core/grappler/optimizers/meta_optimizer.cc:799]   model_pruner: Graph size after: 1101 nodes (0), 1498 edges (0), time = 10.164ms.\n",
            "2020-06-11 11:29:22.413435: I tensorflow/core/grappler/optimizers/meta_optimizer.cc:799]   constant_folding: Graph size after: 1101 nodes (0), 1498 edges (0), time = 38.604ms.\n",
            "2020-06-11 11:29:22.413448: I tensorflow/core/grappler/optimizers/meta_optimizer.cc:799]   arithmetic_optimizer: Graph size after: 1101 nodes (0), 1498 edges (0), time = 51.485ms.\n",
            "2020-06-11 11:29:22.413460: I tensorflow/core/grappler/optimizers/meta_optimizer.cc:799]   dependency_optimizer: Graph size after: 1101 nodes (0), 1498 edges (0), time = 17.336ms.\n",
            "2020-06-11 11:29:22.413473: I tensorflow/core/grappler/optimizers/meta_optimizer.cc:799]   model_pruner: Graph size after: 1101 nodes (0), 1498 edges (0), time = 11.033ms.\n",
            "2020-06-11 11:29:22.413486: I tensorflow/core/grappler/optimizers/meta_optimizer.cc:799]   constant_folding: Graph size after: 1101 nodes (0), 1498 edges (0), time = 37.779ms.\n",
            "2020-06-11 11:29:22.413499: I tensorflow/core/grappler/optimizers/meta_optimizer.cc:799]   arithmetic_optimizer: Graph size after: 1101 nodes (0), 1498 edges (0), time = 51.43ms.\n",
            "2020-06-11 11:29:22.413512: I tensorflow/core/grappler/optimizers/meta_optimizer.cc:799]   dependency_optimizer: Graph size after: 1101 nodes (0), 1498 edges (0), time = 18.188ms.\n",
            "2020-06-11 11:29:23.234657: I tensorflow/core/grappler/optimizers/meta_optimizer.cc:797] Optimization results for grappler item: graph_to_optimize\n",
            "2020-06-11 11:29:23.234727: I tensorflow/core/grappler/optimizers/meta_optimizer.cc:799]   remapper: Graph size after: 1089 nodes (-12), 1486 edges (-12), time = 27.227ms.\n",
            "2020-06-11 11:29:23.234738: I tensorflow/core/grappler/optimizers/meta_optimizer.cc:799]   constant_folding: Graph size after: 1089 nodes (0), 1486 edges (0), time = 38.264ms.\n",
            "2020-06-11 11:29:23.234747: I tensorflow/core/grappler/optimizers/meta_optimizer.cc:799]   arithmetic_optimizer: Graph size after: 1089 nodes (0), 1486 edges (0), time = 48.887ms.\n",
            "2020-06-11 11:29:23.234757: I tensorflow/core/grappler/optimizers/meta_optimizer.cc:799]   dependency_optimizer: Graph size after: 1089 nodes (0), 1486 edges (0), time = 16.255ms.\n",
            "2020-06-11 11:29:23.234770: I tensorflow/core/grappler/optimizers/meta_optimizer.cc:799]   remapper: Graph size after: 1089 nodes (0), 1486 edges (0), time = 18.082ms.\n",
            "2020-06-11 11:29:23.234780: I tensorflow/core/grappler/optimizers/meta_optimizer.cc:799]   constant_folding: Graph size after: 1089 nodes (0), 1486 edges (0), time = 37.72ms.\n",
            "2020-06-11 11:29:23.234790: I tensorflow/core/grappler/optimizers/meta_optimizer.cc:799]   arithmetic_optimizer: Graph size after: 1089 nodes (0), 1486 edges (0), time = 50.128ms.\n",
            "2020-06-11 11:29:23.234799: I tensorflow/core/grappler/optimizers/meta_optimizer.cc:799]   dependency_optimizer: Graph size after: 1089 nodes (0), 1486 edges (0), time = 17.258ms.\n",
            "Writing weight file /content/tensorflow/workspace/Face-Mask-Detection/training/model/trained-models/tfjs/model.json...\n"
          ],
          "name": "stdout"
        }
      ]
    },
    {
      "cell_type": "markdown",
      "metadata": {
        "id": "T37PjKC2J6U3",
        "colab_type": "text"
      },
      "source": [
        "## Save "
      ]
    },
    {
      "cell_type": "markdown",
      "metadata": {
        "id": "cqc22d9dJ9gV",
        "colab_type": "text"
      },
      "source": [
        "#### Archive the TF js model"
      ]
    },
    {
      "cell_type": "code",
      "metadata": {
        "id": "oja8Ybk7J6h9",
        "colab_type": "code",
        "colab": {
          "base_uri": "https://localhost:8080/",
          "height": 194
        },
        "outputId": "e4f230f5-e091-4f84-cffc-ce9ae8ef9111"
      },
      "source": [
        "!zip -r tfjs_modelv1.zip {TF_JS_MODEL}\n",
        "!gsutil cp tfjs_modelv1.zip {DRIVE_DEV}"
      ],
      "execution_count": 14,
      "outputs": [
        {
          "output_type": "stream",
          "text": [
            "  adding: content/tensorflow/workspace/Face-Mask-Detection/training/model/trained-models/tfjs/ (stored 0%)\n",
            "  adding: content/tensorflow/workspace/Face-Mask-Detection/training/model/trained-models/tfjs/model.json (deflated 95%)\n",
            "  adding: content/tensorflow/workspace/Face-Mask-Detection/training/model/trained-models/tfjs/group1-shard4of5.bin (deflated 81%)\n",
            "  adding: content/tensorflow/workspace/Face-Mask-Detection/training/model/trained-models/tfjs/group1-shard2of5.bin (deflated 70%)\n",
            "  adding: content/tensorflow/workspace/Face-Mask-Detection/training/model/trained-models/tfjs/group1-shard5of5.bin (deflated 85%)\n",
            "  adding: content/tensorflow/workspace/Face-Mask-Detection/training/model/trained-models/tfjs/group1-shard1of5.bin (deflated 68%)\n",
            "  adding: content/tensorflow/workspace/Face-Mask-Detection/training/model/trained-models/tfjs/group1-shard3of5.bin (deflated 80%)\n",
            "Copying file://tfjs_modelv1.zip...\n",
            "/ [1 files][  4.3 MiB/  4.3 MiB]                                                \n",
            "Operation completed over 1 objects/4.3 MiB.                                      \n"
          ],
          "name": "stdout"
        }
      ]
    }
  ]
}
