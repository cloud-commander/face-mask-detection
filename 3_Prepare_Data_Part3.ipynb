{
  "nbformat": 4,
  "nbformat_minor": 0,
  "metadata": {
    "kernelspec": {
      "display_name": "Python 3",
      "language": "python",
      "name": "python3"
    },
    "language_info": {
      "codemirror_mode": {
        "name": "ipython",
        "version": 3
      },
      "file_extension": ".py",
      "mimetype": "text/x-python",
      "name": "python",
      "nbconvert_exporter": "python",
      "pygments_lexer": "ipython3",
      "version": "3.7.6"
    },
    "colab": {
      "name": "3_Prepare_Data_Part3.ipynb",
      "provenance": [],
      "toc_visible": true
    }
  },
  "cells": [
    {
      "cell_type": "markdown",
      "metadata": {
        "id": "C2rSZZiB7oNf",
        "colab_type": "text"
      },
      "source": [
        "\n",
        "<a href=\"https://blog.cloudcommander.net\" target=\"_parent\"><img src=\"https://raw.githubusercontent.com/cloud-commander/hexoblog/master/cloud.png\" alt=\"Visit my Blog\">\n",
        "</a>\n",
        "<br> \n",
        "# <span style=\"font-family:Didot; font-size:3em;\"> Cloud Commander </span>\n"
      ]
    },
    {
      "cell_type": "markdown",
      "metadata": {
        "id": "kol4WCzI7oNg",
        "colab_type": "text"
      },
      "source": [
        "<a href=\"https://colab.research.google.com/github/cloud-commander/face-mask-detection/blob/master/3_Prepare_Data_Part3.ipynb\" target=\"_parent\"><img src=\"https://colab.research.google.com/assets/colab-badge.svg\" alt=\"Open in Colab\"></a>\n",
        "&nbsp;&nbsp;&nbsp;&nbsp;\n",
        "<a href=\"https://github.com/cloud-commander/face-mask-detection/blob/master/3_Prepare_Data_Part3.ipynb\" target=\"_parent\"><img src=\"https://img.shields.io/static/v1?logo=GitHub&label=&color=333333&style=flat&message=View%20on%20GitHub\" alt=\"View in GitHub\"></a>\n"
      ]
    },
    {
      "cell_type": "markdown",
      "metadata": {
        "id": "A6FW1epJwWRM",
        "colab_type": "text"
      },
      "source": [
        "### Import necessary libraries"
      ]
    },
    {
      "cell_type": "code",
      "metadata": {
        "id": "jXTPLlbr7oNm",
        "colab_type": "code",
        "colab": {}
      },
      "source": [
        "!wget https://raw.githubusercontent.com/cloud-commander/face-mask-detection/master/config/constants.py\n",
        "from constants import * \n",
        "!wget {XML_TO_CSV}\n",
        "!wget {PARTITION}\n",
        "!pip install wget\n",
        "\n",
        "from xml_to_csv import *\n",
        "from partition import *\n",
        "from PIL import Image\n",
        "import os\n",
        "#import shutil\n",
        "import wget\n"
      ],
      "execution_count": null,
      "outputs": []
    },
    {
      "cell_type": "markdown",
      "metadata": {
        "id": "7WULBQy8wGu7",
        "colab_type": "text"
      },
      "source": [
        "## Prepare dataset ###"
      ]
    },
    {
      "cell_type": "markdown",
      "metadata": {
        "id": "7b7IBZf9vXeO",
        "colab_type": "text"
      },
      "source": [
        "### Connect to Google Drive"
      ]
    },
    {
      "cell_type": "code",
      "metadata": {
        "id": "jejIO9OQvbTs",
        "colab_type": "code",
        "colab": {}
      },
      "source": [
        "from google.colab import drive\n",
        "\n",
        "drive.mount('/content/drive/')"
      ],
      "execution_count": null,
      "outputs": []
    },
    {
      "cell_type": "markdown",
      "metadata": {
        "id": "bmgMWUaH_auN",
        "colab_type": "text"
      },
      "source": [
        "#### Copy dataset and extract\n"
      ]
    },
    {
      "cell_type": "code",
      "metadata": {
        "id": "2Vmz31ip7oNj",
        "colab_type": "code",
        "colab": {}
      },
      "source": [
        "!cp {DRIVE_DEV}part1-datasetv1.zip /\n",
        "!cp {DRIVE_DEV}part2-datasetv1.zip /\n",
        "%cd /\n",
        "!unzip -o part1-datasetv1.zip\n",
        "!unzip -o part2-datasetv1.zip\n",
        "%cd /content/"
      ],
      "execution_count": null,
      "outputs": []
    },
    {
      "cell_type": "markdown",
      "metadata": {
        "id": "Wz13pUNE7oNh",
        "colab_type": "text"
      },
      "source": [
        "## Partitioning the images\n",
        "\n",
        "We continue our data preparation by splitting our dataset into training and test sets.\n",
        "\n",
        "Typically, the ratio is 90%/10%, i.e. 90% of the images are used for training and the rest 10% is maintained for testing, but you can chose whatever ratio suits your needs.\n"
      ]
    },
    {
      "cell_type": "code",
      "metadata": {
        "id": "UbFdyL317oNq",
        "colab_type": "code",
        "colab": {}
      },
      "source": [
        "ratio = 0.1\n",
        "partition_dir(DATASET_DIR_UNPREP_IMG, DATASET_DIR_UNPREP_ANNO,  DATASET_DIR_PREP_TRAIN_IMG , DATASET_DIR_PREP_TRAIN_ANNO, DATASET_DIR_PREP_TEST_IMG, DATASET_DIR_PREP_TEST_ANNO, ratio) "
      ],
      "execution_count": null,
      "outputs": []
    },
    {
      "cell_type": "markdown",
      "metadata": {
        "id": "i0XrMsoL7oN1",
        "colab_type": "text"
      },
      "source": [
        "## XML to CSV\n",
        "\n",
        "And finally we need to generate a CSV file containing all image detail / classes from the individual XML files."
      ]
    },
    {
      "cell_type": "markdown",
      "metadata": {
        "id": "AETyio927oN7",
        "colab_type": "text"
      },
      "source": [
        "### Generate CSV files\n",
        "\n",
        "For the train and test folders and place result in annotations folder"
      ]
    },
    {
      "cell_type": "code",
      "metadata": {
        "id": "2Bpko7rd7oN7",
        "colab_type": "code",
        "colab": {}
      },
      "source": [
        "generate_csv(DATASET_DIR_PREP_TRAIN_ANNO, DATASET_DIR_PREP_RECORD )\n",
        "generate_csv(DATASET_DIR_PREP_TEST_ANNO, DATASET_DIR_PREP_RECORD )"
      ],
      "execution_count": null,
      "outputs": []
    },
    {
      "cell_type": "markdown",
      "metadata": {
        "id": "mh2BsmQUBBYh",
        "colab_type": "text"
      },
      "source": [
        "## Save"
      ]
    },
    {
      "cell_type": "code",
      "metadata": {
        "id": "VytE7LNy8RjJ",
        "colab_type": "code",
        "colab": {}
      },
      "source": [
        "!zip -r part3-datasetv1.zip {DATASET_DIR_PREP}\n",
        "!gsutil cp part3-datasetv1.zip {DRIVE_DEV}"
      ],
      "execution_count": null,
      "outputs": []
    }
  ]
}