{
  "nbformat": 4,
  "nbformat_minor": 0,
  "metadata": {
    "kernelspec": {
      "display_name": "Python 3",
      "language": "python",
      "name": "python3"
    },
    "language_info": {
      "codemirror_mode": {
        "name": "ipython",
        "version": 3
      },
      "file_extension": ".py",
      "mimetype": "text/x-python",
      "name": "python",
      "nbconvert_exporter": "python",
      "pygments_lexer": "ipython3",
      "version": "3.7.6"
    },
    "colab": {
      "name": "2_Prepare_Data_Part2.ipynb",
      "provenance": [],
      "toc_visible": true,
      "include_colab_link": true
    },
    "accelerator": "GPU"
  },
  "cells": [
    {
      "cell_type": "markdown",
      "metadata": {
        "id": "view-in-github",
        "colab_type": "text"
      },
      "source": [
        "<a href=\"https://colab.research.google.com/github/cloud-commander/face-mask-detection/blob/master/2_Prepare_Data_Part2.ipynb\" target=\"_parent\"><img src=\"https://colab.research.google.com/assets/colab-badge.svg\" alt=\"Open In Colab\"/></a>"
      ]
    },
    {
      "cell_type": "markdown",
      "metadata": {
        "id": "-5MH8NbF6ql3",
        "colab_type": "text"
      },
      "source": [
        "\n",
        "<a href=\"https://blog.cloudcommander.net\" target=\"_parent\"><img src=\"https://raw.githubusercontent.com/cloud-commander/hexoblog/master/cloud.png\" alt=\"Visit my Blog\">\n",
        "</a>\n",
        "<br> \n",
        "# <span style=\"font-family:Didot; font-size:3em;\"> Cloud Commander </span>\n"
      ]
    },
    {
      "cell_type": "markdown",
      "metadata": {
        "id": "_4J1SAqq6ql3",
        "colab_type": "text"
      },
      "source": [
        "<a href=\"https://colab.research.google.com/github/cloud-commander/face-mask-detection/blob/master/2_Prepare_Data_Part2.ipynb\" target=\"_parent\"><img src=\"https://colab.research.google.com/assets/colab-badge.svg\" alt=\"Open in Colab\"></a>\n",
        "&nbsp;&nbsp;&nbsp;&nbsp;\n",
        "<a href=\"https://github.com/cloud-commander/face-mask-detection/blob/master/2_Prepare_Data_Part2.ipynb\" target=\"_parent\"><img src=\"https://img.shields.io/static/v1?logo=GitHub&label=&color=333333&style=flat&message=View%20on%20GitHub\" alt=\"View in GitHub\"></a>\n"
      ]
    },
    {
      "cell_type": "markdown",
      "metadata": {
        "id": "wZ2bhLAV6ql4",
        "colab_type": "text"
      },
      "source": [
        "# Automatic Face Image Annotation & Masked Photo Generation ##\n",
        "\n",
        "In the previous notebook, we prepared the unmasked photos in the dataset. In this notebook we will look at pre-processing the images for our masked photo dataset.\n",
        "\n",
        "Firstly we will identify the bounding boxes for the faces as with the unmasked photos but additionally we will then also place a series of masked into those faces thus making them masked photos."
      ]
    },
    {
      "cell_type": "markdown",
      "metadata": {
        "id": "nhWJ4Pes6ql5",
        "colab_type": "text"
      },
      "source": [
        "## Import required libraries"
      ]
    },
    {
      "cell_type": "code",
      "metadata": {
        "id": "bOWuNP4e6ql5",
        "colab_type": "code",
        "colab": {
          "base_uri": "https://localhost:8080/",
          "height": 1000
        },
        "outputId": "355d1d91-adc2-4b9f-9d8f-cd9aa01d2376"
      },
      "source": [
        "!wget https://raw.githubusercontent.com/cloud-commander/face-mask-detection/master/config/constants.py\n",
        "from constants import * \n",
        "!wget {ANNOTATE}\n",
        "!wget {PLACE_MASKS}\n",
        "!wget {MOVE_FILES}\n",
        "\n",
        "!pip install face_recognition\n",
        "!pip install wget\n",
        "\n",
        "from annotate import *\n",
        "from place_masks import * \n",
        "from move_files import * \n",
        "\n",
        "import os\n",
        "import glob\n",
        "import tarfile\n",
        "\n",
        "import sys\n",
        "import random"
      ],
      "execution_count": 1,
      "outputs": [
        {
          "output_type": "stream",
          "text": [
            "--2020-06-16 18:30:57--  https://raw.githubusercontent.com/cloud-commander/face-mask-detection/master/config/constants.py\n",
            "Resolving raw.githubusercontent.com (raw.githubusercontent.com)... 151.101.0.133, 151.101.64.133, 151.101.128.133, ...\n",
            "Connecting to raw.githubusercontent.com (raw.githubusercontent.com)|151.101.0.133|:443... connected.\n",
            "HTTP request sent, awaiting response... 200 OK\n",
            "Length: 6063 (5.9K) [text/plain]\n",
            "Saving to: ‘constants.py’\n",
            "\n",
            "\rconstants.py          0%[                    ]       0  --.-KB/s               \rconstants.py        100%[===================>]   5.92K  --.-KB/s    in 0s      \n",
            "\n",
            "2020-06-16 18:30:58 (40.3 MB/s) - ‘constants.py’ saved [6063/6063]\n",
            "\n",
            "--2020-06-16 18:30:59--  https://raw.githubusercontent.com/cloud-commander/face-mask-detection/master/utils/annotate.py\n",
            "Resolving raw.githubusercontent.com (raw.githubusercontent.com)... 151.101.0.133, 151.101.64.133, 151.101.128.133, ...\n",
            "Connecting to raw.githubusercontent.com (raw.githubusercontent.com)|151.101.0.133|:443... connected.\n",
            "HTTP request sent, awaiting response... 200 OK\n",
            "Length: 2289 (2.2K) [text/plain]\n",
            "Saving to: ‘annotate.py’\n",
            "\n",
            "annotate.py         100%[===================>]   2.24K  --.-KB/s    in 0s      \n",
            "\n",
            "2020-06-16 18:30:59 (34.8 MB/s) - ‘annotate.py’ saved [2289/2289]\n",
            "\n",
            "--2020-06-16 18:31:00--  https://raw.githubusercontent.com/cloud-commander/face-mask-detection/master/utils/place_masks.py\n",
            "Resolving raw.githubusercontent.com (raw.githubusercontent.com)... 151.101.0.133, 151.101.64.133, 151.101.128.133, ...\n",
            "Connecting to raw.githubusercontent.com (raw.githubusercontent.com)|151.101.0.133|:443... connected.\n",
            "HTTP request sent, awaiting response... 200 OK\n",
            "Length: 4332 (4.2K) [text/plain]\n",
            "Saving to: ‘place_masks.py’\n",
            "\n",
            "place_masks.py      100%[===================>]   4.23K  --.-KB/s    in 0s      \n",
            "\n",
            "2020-06-16 18:31:01 (51.5 MB/s) - ‘place_masks.py’ saved [4332/4332]\n",
            "\n",
            "--2020-06-16 18:31:02--  https://raw.githubusercontent.com/cloud-commander/face-mask-detection/master/utils/move_files.py\n",
            "Resolving raw.githubusercontent.com (raw.githubusercontent.com)... 151.101.0.133, 151.101.64.133, 151.101.128.133, ...\n",
            "Connecting to raw.githubusercontent.com (raw.githubusercontent.com)|151.101.0.133|:443... connected.\n",
            "HTTP request sent, awaiting response... 200 OK\n",
            "Length: 687 [text/plain]\n",
            "Saving to: ‘move_files.py’\n",
            "\n",
            "move_files.py       100%[===================>]     687  --.-KB/s    in 0s      \n",
            "\n",
            "2020-06-16 18:31:03 (36.9 MB/s) - ‘move_files.py’ saved [687/687]\n",
            "\n",
            "Collecting face_recognition\n",
            "  Downloading https://files.pythonhosted.org/packages/1e/95/f6c9330f54ab07bfa032bf3715c12455a381083125d8880c43cbe76bb3d0/face_recognition-1.3.0-py2.py3-none-any.whl\n",
            "Requirement already satisfied: numpy in /usr/local/lib/python3.6/dist-packages (from face_recognition) (1.18.5)\n",
            "Collecting face-recognition-models>=0.3.0\n",
            "\u001b[?25l  Downloading https://files.pythonhosted.org/packages/cf/3b/4fd8c534f6c0d1b80ce0973d01331525538045084c73c153ee6df20224cf/face_recognition_models-0.3.0.tar.gz (100.1MB)\n",
            "\u001b[K     |████████████████████████████████| 100.2MB 42kB/s \n",
            "\u001b[?25hRequirement already satisfied: Click>=6.0 in /usr/local/lib/python3.6/dist-packages (from face_recognition) (7.1.2)\n",
            "Requirement already satisfied: dlib>=19.7 in /usr/local/lib/python3.6/dist-packages (from face_recognition) (19.18.0)\n",
            "Requirement already satisfied: Pillow in /usr/local/lib/python3.6/dist-packages (from face_recognition) (7.0.0)\n",
            "Building wheels for collected packages: face-recognition-models\n",
            "  Building wheel for face-recognition-models (setup.py) ... \u001b[?25l\u001b[?25hdone\n",
            "  Created wheel for face-recognition-models: filename=face_recognition_models-0.3.0-py2.py3-none-any.whl size=100566172 sha256=2d25e4d5386ed8aa1873a273ebe56f37e1585a0e4945495ccd8908b18562b591\n",
            "  Stored in directory: /root/.cache/pip/wheels/d2/99/18/59c6c8f01e39810415c0e63f5bede7d83dfb0ffc039865465f\n",
            "Successfully built face-recognition-models\n",
            "Installing collected packages: face-recognition-models, face-recognition\n",
            "Successfully installed face-recognition-1.3.0 face-recognition-models-0.3.0\n",
            "Collecting wget\n",
            "  Downloading https://files.pythonhosted.org/packages/47/6a/62e288da7bcda82b935ff0c6cfe542970f04e29c756b0e147251b2fb251f/wget-3.2.zip\n",
            "Building wheels for collected packages: wget\n",
            "  Building wheel for wget (setup.py) ... \u001b[?25l\u001b[?25hdone\n",
            "  Created wheel for wget: filename=wget-3.2-cp36-none-any.whl size=9682 sha256=bb1a7359ca81d8f5dad77e3c85936297e9febb30e48d44ba9ccb9c143f3fbd00\n",
            "  Stored in directory: /root/.cache/pip/wheels/40/15/30/7d8f7cea2902b4db79e3fea550d7d7b85ecb27ef992b618f3f\n",
            "Successfully built wget\n",
            "Installing collected packages: wget\n",
            "Successfully installed wget-3.2\n"
          ],
          "name": "stdout"
        }
      ]
    },
    {
      "cell_type": "markdown",
      "metadata": {
        "id": "4i5y1btm6ql9",
        "colab_type": "text"
      },
      "source": [
        "## Prepare dataset ###"
      ]
    },
    {
      "cell_type": "markdown",
      "metadata": {
        "id": "RQmBZATLcN5X",
        "colab_type": "text"
      },
      "source": [
        "### Connect to Google Drive\n"
      ]
    },
    {
      "cell_type": "code",
      "metadata": {
        "id": "_gWndC7ncNpa",
        "colab_type": "code",
        "colab": {
          "base_uri": "https://localhost:8080/",
          "height": 124
        },
        "outputId": "1f10d26b-935a-42f2-b5e3-639569615378"
      },
      "source": [
        "from google.colab import drive\n",
        "\n",
        "drive.mount('/content/drive/')"
      ],
      "execution_count": 2,
      "outputs": [
        {
          "output_type": "stream",
          "text": [
            "Go to this URL in a browser: https://accounts.google.com/o/oauth2/auth?client_id=947318989803-6bn6qk8qdgf4n4g3pfee6491hc0brc4i.apps.googleusercontent.com&redirect_uri=urn%3aietf%3awg%3aoauth%3a2.0%3aoob&response_type=code&scope=email%20https%3a%2f%2fwww.googleapis.com%2fauth%2fdocs.test%20https%3a%2f%2fwww.googleapis.com%2fauth%2fdrive%20https%3a%2f%2fwww.googleapis.com%2fauth%2fdrive.photos.readonly%20https%3a%2f%2fwww.googleapis.com%2fauth%2fpeopleapi.readonly\n",
            "\n",
            "Enter your authorization code:\n",
            "··········\n",
            "Mounted at /content/drive/\n"
          ],
          "name": "stdout"
        }
      ]
    },
    {
      "cell_type": "markdown",
      "metadata": {
        "id": "ILcY--uZcXE-",
        "colab_type": "text"
      },
      "source": [
        "### Download faces dataset"
      ]
    },
    {
      "cell_type": "code",
      "metadata": {
        "id": "K4yX5ZyEcWwe",
        "colab_type": "code",
        "colab": {
          "base_uri": "https://localhost:8080/",
          "height": 1000
        },
        "outputId": "93f1a089-ef7a-4e0c-8261-70c70b6232e1"
      },
      "source": [
        "%cd {DATASET_DIR_TMP1}\n",
        "!wget https://raw.githubusercontent.com/cloud-commander/face-mask-detection/master/data/100_faces_320x320_dataset_set_2.zip\n",
        "!unzip -j 100_faces_320x320_dataset_set_2.zip '*.jpg'\n",
        "!rm 100_faces_320x320_dataset_set_2.zip"
      ],
      "execution_count": 3,
      "outputs": [
        {
          "output_type": "stream",
          "text": [
            "/content/Face-Mask-Detection/dataset/tmp1\n",
            "--2020-06-16 18:32:10--  https://raw.githubusercontent.com/cloud-commander/face-mask-detection/master/data/100_faces_320x320_dataset_set_2.zip\n",
            "Resolving raw.githubusercontent.com (raw.githubusercontent.com)... 151.101.0.133, 151.101.64.133, 151.101.128.133, ...\n",
            "Connecting to raw.githubusercontent.com (raw.githubusercontent.com)|151.101.0.133|:443... connected.\n",
            "HTTP request sent, awaiting response... 200 OK\n",
            "Length: 3307366 (3.2M) [application/zip]\n",
            "Saving to: ‘100_faces_320x320_dataset_set_2.zip’\n",
            "\n",
            "100_faces_320x320_d 100%[===================>]   3.15M  15.6MB/s    in 0.2s    \n",
            "\n",
            "2020-06-16 18:32:12 (15.6 MB/s) - ‘100_faces_320x320_dataset_set_2.zip’ saved [3307366/3307366]\n",
            "\n",
            "Archive:  100_faces_320x320_dataset_set_2.zip\n",
            "  inflating: 07UJWYHLCD.jpg          \n",
            "  inflating: 0VYZK4SWM5.jpg          \n",
            "  inflating: 0W6R2QIU5A.jpg          \n",
            "  inflating: 0WF57M1IBJ.jpg          \n",
            "  inflating: 0WXKO4TSI6.jpg          \n",
            "  inflating: 19309Q6KY4.jpg          \n",
            "  inflating: 1E4W1761R6.jpg          \n",
            "  inflating: 1MQFFVTO5I.jpg          \n",
            "  inflating: 1Y6HSX6TJ1.jpg          \n",
            "  inflating: 1YY4K6YJU4.jpg          \n",
            "  inflating: 2BAUR0UILD.jpg          \n",
            "  inflating: 2I9MFY4KPJ.jpg          \n",
            "  inflating: 3GB9NPCIP7.jpg          \n",
            "  inflating: 3JQ6I4N3EB.jpg          \n",
            "  inflating: 3V4EDIYT96.jpg          \n",
            "  inflating: 4SKU0XPGZG.jpg          \n",
            "  inflating: 51010MY82L.jpg          \n",
            "  inflating: 53MFUERP5Y.jpg          \n",
            "  inflating: 53ZBP8BQFI.jpg          \n",
            "  inflating: 5EHDHMB62U.jpg          \n",
            "  inflating: 66P2GRSK7T.jpg          \n",
            "  inflating: 697T4CDL5L.jpg          \n",
            "  inflating: 6DYYX8HQLU.jpg          \n",
            "  inflating: 6L35X1271N.jpg          \n",
            "  inflating: 6S5P5OB41M.jpg          \n",
            "  inflating: 6UGMKTSLSW.jpg          \n",
            "  inflating: 6ZTPY3WQ0V.jpg          \n",
            "  inflating: 71742CU863.jpg          \n",
            "  inflating: 7DV67VMGZM.jpg          \n",
            "  inflating: 7UOR6ZVGCW.jpg          \n",
            "  inflating: 8ZQXIRXNJF.jpg          \n",
            "  inflating: 91YNUCMFZZ.jpg          \n",
            "  inflating: 99XOH68P4O.jpg          \n",
            "  inflating: 9NU2BBTWZW.jpg          \n",
            "  inflating: A9MPW3G1UB.jpg          \n",
            "  inflating: AMR0BX0LMY.jpg          \n",
            "  inflating: ARC5ZFW0Z0.jpg          \n",
            "  inflating: B3NH5EJZ2F.jpg          \n",
            "  inflating: BNWGVF9UQL.jpg          \n",
            "  inflating: C29YVSEIQQ.jpg          \n",
            "  inflating: CO4JS0CV45.jpg          \n",
            "  inflating: CY0S90J9VU.jpg          \n",
            "  inflating: CZD7SEP5WO.jpg          \n",
            "  inflating: D1BKJ3GBXS.jpg          \n",
            "  inflating: D76FUW9UU1.jpg          \n",
            "  inflating: EZGLA2LLRT.jpg          \n",
            "  inflating: FMGGHF095L.jpg          \n",
            "  inflating: H6TZZE5VGB.jpg          \n",
            "  inflating: I2GN0G9Q27.jpg          \n",
            "  inflating: I8JKAW7E7J.jpg          \n",
            "  inflating: IPYZZ1EMPK.jpg          \n",
            "  inflating: IVOUZ7AO71.jpg          \n",
            "  inflating: J60881A5Y5.jpg          \n",
            "  inflating: J9KV0D4ZLL.jpg          \n",
            "  inflating: JX8B043G7J.jpg          \n",
            "  inflating: K9TAQ5FCBU.jpg          \n",
            "  inflating: LG8BGPUKAX.jpg          \n",
            "  inflating: LIHWIEX7KR.jpg          \n",
            "  inflating: MHJCTK2WPE.jpg          \n",
            "  inflating: MLV279HNDF.jpg          \n",
            "  inflating: MMCFZFXSXM.jpg          \n",
            "  inflating: N47QGWCI0O.jpg          \n",
            "  inflating: NYU4CF7ZZW.jpg          \n",
            "  inflating: O1WVDKBUAE.jpg          \n",
            "  inflating: OUTLOOCZLZ.jpg          \n",
            "  inflating: P9K1JRRLNF.jpg          \n",
            "  inflating: P9ZO41AO08.jpg          \n",
            "  inflating: PDER94I8ND.jpg          \n",
            "  inflating: PJC0D2WWX4.jpg          \n",
            "  inflating: PJSNLE919O.jpg          \n",
            "  inflating: QB6IQ6GN2M.jpg          \n",
            "  inflating: RECOK3KVZ0.jpg          \n",
            "  inflating: RW2SBYEG0X.jpg          \n",
            "  inflating: S5806SVA63.jpg          \n",
            "  inflating: SNRT2AWMP2.jpg          \n",
            "  inflating: SOEWWYU3KM.jpg          \n",
            "  inflating: SUR07RHZ4Y.jpg          \n",
            "  inflating: T5AD07K975.jpg          \n",
            "  inflating: TMLUG56C5G.jpg          \n",
            "  inflating: U8UPYXV8P7.jpg          \n",
            "  inflating: UDP58J2N6K.jpg          \n",
            "  inflating: UE8YEFXD9E.jpg          \n",
            "  inflating: UQ82D92CFE.jpg          \n",
            "  inflating: UR0NFD1IYD.jpg          \n",
            "  inflating: VAXTDDCWN6.jpg          \n",
            "  inflating: VDR3W38N8Q.jpg          \n",
            "  inflating: W2872BT4OT.jpg          \n",
            "  inflating: W8SC2V6842.jpg          \n",
            "  inflating: WAKALYUD0V.jpg          \n",
            "  inflating: WCR7QIAYAG.jpg          \n",
            "  inflating: WGV6VSLAGC.jpg          \n",
            "  inflating: WSM1KIJBMG.jpg          \n",
            "  inflating: WSR7Z0EI0L.jpg          \n",
            "  inflating: XMBF6AT9XR.jpg          \n",
            "  inflating: Y0YN36DVLT.jpg          \n",
            "  inflating: YFFS732A8A.jpg          \n",
            "  inflating: Z84C1DEY9V.jpg          \n",
            "  inflating: ZE0CNJJJQE.jpg          \n",
            "  inflating: ZJUQXAHAKW.jpg          \n",
            "  inflating: ZKJ5U0WVQV.jpg          \n"
          ],
          "name": "stdout"
        }
      ]
    },
    {
      "cell_type": "markdown",
      "metadata": {
        "id": "WnSzHa736ql-",
        "colab_type": "text"
      },
      "source": [
        "## Annotate the images\n",
        "Calls the annotate function to automatically annotate the faces in our image folder and outputs XML files"
      ]
    },
    {
      "cell_type": "code",
      "metadata": {
        "id": "jNWh_JoY6qmH",
        "colab_type": "code",
        "colab": {}
      },
      "source": [
        "annotate(DATASET_DIR_TMP1,DATASET_DIR_TMP2,\"MASKED\")"
      ],
      "execution_count": 4,
      "outputs": []
    },
    {
      "cell_type": "markdown",
      "metadata": {
        "id": "j2UfvGB-6qmM",
        "colab_type": "text"
      },
      "source": [
        "## Generate Masked Photos"
      ]
    },
    {
      "cell_type": "markdown",
      "metadata": {
        "id": "MJ3sB0dxfW_u",
        "colab_type": "text"
      },
      "source": [
        "### Download required dependency and extract to folder"
      ]
    },
    {
      "cell_type": "code",
      "metadata": {
        "id": "vNx4xN7_fW12",
        "colab_type": "code",
        "colab": {}
      },
      "source": [
        "os.chdir(DATASET_DIR_UNPREP)\n",
        "tf = tarfile.open(wget.download(MASKS_DATASET))\n",
        "tf.extractall()"
      ],
      "execution_count": 5,
      "outputs": []
    },
    {
      "cell_type": "markdown",
      "metadata": {
        "id": "sBZZh1Lv6qmQ",
        "colab_type": "text"
      },
      "source": [
        "### Cycle through photos and place mask images"
      ]
    },
    {
      "cell_type": "code",
      "metadata": {
        "id": "cjRNlGIs6qmQ",
        "colab_type": "code",
        "colab": {
          "base_uri": "https://localhost:8080/",
          "height": 1000
        },
        "outputId": "346c776d-21f3-4a4e-9a03-31c930a730ad"
      },
      "source": [
        "model = \"cnn\" # Select facial recognition model; Available options areh 'hog' or 'cnn'. Hog is faster, cnn is more accurate.\n",
        "\n",
        "input_folder_list = [os.path.join(DATASET_DIR_TMP1, f) for f in os.listdir(DATASET_DIR_TMP1) if os.path.isfile(os.path.join(DATASET_DIR_TMP1, f))]\n",
        "mask_folder_list = [os.path.join(DATASET_DIR_UNPREP_MASKS, f) for f in os.listdir(DATASET_DIR_UNPREP_MASKS) if os.path.isfile(os.path.join(DATASET_DIR_UNPREP_MASKS, f))]\n",
        "\n",
        "for i in range(len(input_folder_list)):\n",
        "     # get a random mask from from the mask folder\n",
        "     random_mask_file = random.choice(list(mask_folder_list))\n",
        "        \n",
        "     if random_mask_file.endswith(('.png', '.jpg', '.jpeg')): \n",
        "      # get the next image from the image folder\n",
        "      current_image_file = input_folder_list[i]\n",
        "      if current_image_file.endswith(('.png', '.jpg', '.jpeg')):\n",
        "        create_mask(current_image_file, random_mask_file, model)\n"
      ],
      "execution_count": 6,
      "outputs": [
        {
          "output_type": "stream",
          "text": [
            "Save to /content/Face-Mask-Detection/dataset/tmp1/2I9MFY4KPJ.jpg\n",
            "Save to /content/Face-Mask-Detection/dataset/tmp1/U8UPYXV8P7.jpg\n",
            "Save to /content/Face-Mask-Detection/dataset/tmp1/NYU4CF7ZZW.jpg\n",
            "Save to /content/Face-Mask-Detection/dataset/tmp1/IVOUZ7AO71.jpg\n",
            "Save to /content/Face-Mask-Detection/dataset/tmp1/P9K1JRRLNF.jpg\n",
            "Save to /content/Face-Mask-Detection/dataset/tmp1/1Y6HSX6TJ1.jpg\n",
            "Save to /content/Face-Mask-Detection/dataset/tmp1/Y0YN36DVLT.jpg\n",
            "Save to /content/Face-Mask-Detection/dataset/tmp1/5EHDHMB62U.jpg\n",
            "Save to /content/Face-Mask-Detection/dataset/tmp1/6UGMKTSLSW.jpg\n",
            "Save to /content/Face-Mask-Detection/dataset/tmp1/J9KV0D4ZLL.jpg\n",
            "Save to /content/Face-Mask-Detection/dataset/tmp1/53MFUERP5Y.jpg\n",
            "Save to /content/Face-Mask-Detection/dataset/tmp1/W2872BT4OT.jpg\n",
            "Save to /content/Face-Mask-Detection/dataset/tmp1/I2GN0G9Q27.jpg\n",
            "Save to /content/Face-Mask-Detection/dataset/tmp1/Z84C1DEY9V.jpg\n",
            "Save to /content/Face-Mask-Detection/dataset/tmp1/0VYZK4SWM5.jpg\n",
            "Save to /content/Face-Mask-Detection/dataset/tmp1/0WXKO4TSI6.jpg\n",
            "Save to /content/Face-Mask-Detection/dataset/tmp1/C29YVSEIQQ.jpg\n",
            "Save to /content/Face-Mask-Detection/dataset/tmp1/4SKU0XPGZG.jpg\n",
            "Save to /content/Face-Mask-Detection/dataset/tmp1/SUR07RHZ4Y.jpg\n",
            "Save to /content/Face-Mask-Detection/dataset/tmp1/53ZBP8BQFI.jpg\n",
            "Save to /content/Face-Mask-Detection/dataset/tmp1/TMLUG56C5G.jpg\n",
            "Save to /content/Face-Mask-Detection/dataset/tmp1/PDER94I8ND.jpg\n",
            "Save to /content/Face-Mask-Detection/dataset/tmp1/8ZQXIRXNJF.jpg\n",
            "Save to /content/Face-Mask-Detection/dataset/tmp1/W8SC2V6842.jpg\n",
            "Save to /content/Face-Mask-Detection/dataset/tmp1/T5AD07K975.jpg\n",
            "Save to /content/Face-Mask-Detection/dataset/tmp1/J60881A5Y5.jpg\n",
            "Save to /content/Face-Mask-Detection/dataset/tmp1/3V4EDIYT96.jpg\n",
            "Save to /content/Face-Mask-Detection/dataset/tmp1/697T4CDL5L.jpg\n",
            "Save to /content/Face-Mask-Detection/dataset/tmp1/3JQ6I4N3EB.jpg\n",
            "Save to /content/Face-Mask-Detection/dataset/tmp1/ARC5ZFW0Z0.jpg\n",
            "Save to /content/Face-Mask-Detection/dataset/tmp1/UDP58J2N6K.jpg\n",
            "Save to /content/Face-Mask-Detection/dataset/tmp1/2BAUR0UILD.jpg\n",
            "Save to /content/Face-Mask-Detection/dataset/tmp1/19309Q6KY4.jpg\n",
            "Save to /content/Face-Mask-Detection/dataset/tmp1/A9MPW3G1UB.jpg\n",
            "Save to /content/Face-Mask-Detection/dataset/tmp1/7UOR6ZVGCW.jpg\n",
            "Save to /content/Face-Mask-Detection/dataset/tmp1/VAXTDDCWN6.jpg\n",
            "Save to /content/Face-Mask-Detection/dataset/tmp1/71742CU863.jpg\n",
            "Save to /content/Face-Mask-Detection/dataset/tmp1/N47QGWCI0O.jpg\n",
            "Save to /content/Face-Mask-Detection/dataset/tmp1/EZGLA2LLRT.jpg\n",
            "Save to /content/Face-Mask-Detection/dataset/tmp1/I8JKAW7E7J.jpg\n",
            "Save to /content/Face-Mask-Detection/dataset/tmp1/WAKALYUD0V.jpg\n",
            "Save to /content/Face-Mask-Detection/dataset/tmp1/BNWGVF9UQL.jpg\n",
            "Save to /content/Face-Mask-Detection/dataset/tmp1/PJSNLE919O.jpg\n",
            "Save to /content/Face-Mask-Detection/dataset/tmp1/FMGGHF095L.jpg\n",
            "Save to /content/Face-Mask-Detection/dataset/tmp1/51010MY82L.jpg\n",
            "Save to /content/Face-Mask-Detection/dataset/tmp1/07UJWYHLCD.jpg\n",
            "Save to /content/Face-Mask-Detection/dataset/tmp1/6S5P5OB41M.jpg\n",
            "Save to /content/Face-Mask-Detection/dataset/tmp1/66P2GRSK7T.jpg\n",
            "Save to /content/Face-Mask-Detection/dataset/tmp1/ZKJ5U0WVQV.jpg\n",
            "Save to /content/Face-Mask-Detection/dataset/tmp1/UQ82D92CFE.jpg\n",
            "Save to /content/Face-Mask-Detection/dataset/tmp1/UR0NFD1IYD.jpg\n",
            "Save to /content/Face-Mask-Detection/dataset/tmp1/WSR7Z0EI0L.jpg\n",
            "Save to /content/Face-Mask-Detection/dataset/tmp1/SNRT2AWMP2.jpg\n",
            "Save to /content/Face-Mask-Detection/dataset/tmp1/CO4JS0CV45.jpg\n",
            "Save to /content/Face-Mask-Detection/dataset/tmp1/LG8BGPUKAX.jpg\n",
            "Save to /content/Face-Mask-Detection/dataset/tmp1/6DYYX8HQLU.jpg\n",
            "Save to /content/Face-Mask-Detection/dataset/tmp1/XMBF6AT9XR.jpg\n",
            "Save to /content/Face-Mask-Detection/dataset/tmp1/1E4W1761R6.jpg\n",
            "Save to /content/Face-Mask-Detection/dataset/tmp1/SOEWWYU3KM.jpg\n",
            "Save to /content/Face-Mask-Detection/dataset/tmp1/K9TAQ5FCBU.jpg\n",
            "Save to /content/Face-Mask-Detection/dataset/tmp1/P9ZO41AO08.jpg\n",
            "Save to /content/Face-Mask-Detection/dataset/tmp1/WCR7QIAYAG.jpg\n",
            "Save to /content/Face-Mask-Detection/dataset/tmp1/D1BKJ3GBXS.jpg\n",
            "Save to /content/Face-Mask-Detection/dataset/tmp1/VDR3W38N8Q.jpg\n",
            "Save to /content/Face-Mask-Detection/dataset/tmp1/0W6R2QIU5A.jpg\n",
            "Save to /content/Face-Mask-Detection/dataset/tmp1/RW2SBYEG0X.jpg\n",
            "Save to /content/Face-Mask-Detection/dataset/tmp1/YFFS732A8A.jpg\n",
            "Save to /content/Face-Mask-Detection/dataset/tmp1/9NU2BBTWZW.jpg\n",
            "Save to /content/Face-Mask-Detection/dataset/tmp1/CZD7SEP5WO.jpg\n",
            "Save to /content/Face-Mask-Detection/dataset/tmp1/H6TZZE5VGB.jpg\n",
            "Save to /content/Face-Mask-Detection/dataset/tmp1/0WF57M1IBJ.jpg\n",
            "Save to /content/Face-Mask-Detection/dataset/tmp1/91YNUCMFZZ.jpg\n",
            "Save to /content/Face-Mask-Detection/dataset/tmp1/3GB9NPCIP7.jpg\n",
            "Save to /content/Face-Mask-Detection/dataset/tmp1/WSM1KIJBMG.jpg\n",
            "Save to /content/Face-Mask-Detection/dataset/tmp1/7DV67VMGZM.jpg\n",
            "Save to /content/Face-Mask-Detection/dataset/tmp1/6ZTPY3WQ0V.jpg\n",
            "Save to /content/Face-Mask-Detection/dataset/tmp1/6L35X1271N.jpg\n",
            "Save to /content/Face-Mask-Detection/dataset/tmp1/S5806SVA63.jpg\n",
            "Save to /content/Face-Mask-Detection/dataset/tmp1/99XOH68P4O.jpg\n",
            "Save to /content/Face-Mask-Detection/dataset/tmp1/1MQFFVTO5I.jpg\n",
            "Save to /content/Face-Mask-Detection/dataset/tmp1/ZJUQXAHAKW.jpg\n",
            "Save to /content/Face-Mask-Detection/dataset/tmp1/IPYZZ1EMPK.jpg\n",
            "Save to /content/Face-Mask-Detection/dataset/tmp1/1YY4K6YJU4.jpg\n",
            "Save to /content/Face-Mask-Detection/dataset/tmp1/RECOK3KVZ0.jpg\n",
            "Save to /content/Face-Mask-Detection/dataset/tmp1/OUTLOOCZLZ.jpg\n",
            "Save to /content/Face-Mask-Detection/dataset/tmp1/WGV6VSLAGC.jpg\n",
            "Save to /content/Face-Mask-Detection/dataset/tmp1/QB6IQ6GN2M.jpg\n",
            "Save to /content/Face-Mask-Detection/dataset/tmp1/LIHWIEX7KR.jpg\n",
            "Save to /content/Face-Mask-Detection/dataset/tmp1/MLV279HNDF.jpg\n",
            "Save to /content/Face-Mask-Detection/dataset/tmp1/MHJCTK2WPE.jpg\n",
            "Save to /content/Face-Mask-Detection/dataset/tmp1/ZE0CNJJJQE.jpg\n",
            "Save to /content/Face-Mask-Detection/dataset/tmp1/PJC0D2WWX4.jpg\n",
            "Save to /content/Face-Mask-Detection/dataset/tmp1/CY0S90J9VU.jpg\n",
            "Save to /content/Face-Mask-Detection/dataset/tmp1/D76FUW9UU1.jpg\n",
            "Save to /content/Face-Mask-Detection/dataset/tmp1/AMR0BX0LMY.jpg\n",
            "Save to /content/Face-Mask-Detection/dataset/tmp1/UE8YEFXD9E.jpg\n",
            "Save to /content/Face-Mask-Detection/dataset/tmp1/O1WVDKBUAE.jpg\n",
            "Save to /content/Face-Mask-Detection/dataset/tmp1/B3NH5EJZ2F.jpg\n",
            "Save to /content/Face-Mask-Detection/dataset/tmp1/JX8B043G7J.jpg\n",
            "Save to /content/Face-Mask-Detection/dataset/tmp1/MMCFZFXSXM.jpg\n"
          ],
          "name": "stdout"
        }
      ]
    },
    {
      "cell_type": "markdown",
      "metadata": {
        "id": "Su9xJTm5ujqs",
        "colab_type": "text"
      },
      "source": [
        "## Save"
      ]
    },
    {
      "cell_type": "markdown",
      "metadata": {
        "id": "90IkC8G26qmY",
        "colab_type": "text"
      },
      "source": [
        "### Save the generated images and archive them"
      ]
    },
    {
      "cell_type": "code",
      "metadata": {
        "id": "3zV9q08ZRaOt",
        "colab_type": "code",
        "colab": {
          "base_uri": "https://localhost:8080/",
          "height": 52
        },
        "outputId": "00d72300-fe1f-43f2-80f8-82b160e35b05"
      },
      "source": [
        "#Return a list of items that have both images and XML files\n",
        "matches = compare_intersect(DATASET_DIR_TMP1,DATASET_DIR_TMP2)\n",
        "\n",
        "#Move the images and the annotations from the temp location\n",
        "move_files(DATASET_DIR_TMP1,DATASET_DIR_UNPREP_IMG, matches)\n",
        "move_files(DATASET_DIR_TMP2,DATASET_DIR_UNPREP_ANNO, matches)"
      ],
      "execution_count": 7,
      "outputs": [
        {
          "output_type": "stream",
          "text": [
            "Files moved: 100\n",
            "Files moved: 100\n"
          ],
          "name": "stdout"
        }
      ]
    },
    {
      "cell_type": "markdown",
      "metadata": {
        "id": "kVkC_KeV6qmb",
        "colab_type": "text"
      },
      "source": [
        "### Compress Dataset and Save Dataset to Google Drive\n",
        "\n",
        "Follow this step if you wish to archive your dataset for future use"
      ]
    },
    {
      "cell_type": "code",
      "metadata": {
        "id": "mKOfdMzD6qmb",
        "colab_type": "code",
        "colab": {
          "base_uri": "https://localhost:8080/",
          "height": 1000
        },
        "outputId": "3590e261-8083-48ed-d6b2-242bf241ea05"
      },
      "source": [
        "!zip -r part2-datasetv1.zip {DATASET_DIR_UNPREP}\n",
        "!gsutil cp part2-datasetv1.zip {DRIVE_DEV}"
      ],
      "execution_count": 8,
      "outputs": [
        {
          "output_type": "stream",
          "text": [
            "  adding: content/Face-Mask-Detection/dataset/unprepared/ (stored 0%)\n",
            "  adding: content/Face-Mask-Detection/dataset/unprepared/images/ (stored 0%)\n",
            "  adding: content/Face-Mask-Detection/dataset/unprepared/images/2I9MFY4KPJ.jpg (deflated 1%)\n",
            "  adding: content/Face-Mask-Detection/dataset/unprepared/images/U8UPYXV8P7.jpg (deflated 1%)\n",
            "  adding: content/Face-Mask-Detection/dataset/unprepared/images/NYU4CF7ZZW.jpg (deflated 1%)\n",
            "  adding: content/Face-Mask-Detection/dataset/unprepared/images/IVOUZ7AO71.jpg (deflated 1%)\n",
            "  adding: content/Face-Mask-Detection/dataset/unprepared/images/P9K1JRRLNF.jpg (deflated 1%)\n",
            "  adding: content/Face-Mask-Detection/dataset/unprepared/images/1Y6HSX6TJ1.jpg (deflated 1%)\n",
            "  adding: content/Face-Mask-Detection/dataset/unprepared/images/Y0YN36DVLT.jpg (deflated 1%)\n",
            "  adding: content/Face-Mask-Detection/dataset/unprepared/images/5EHDHMB62U.jpg (deflated 1%)\n",
            "  adding: content/Face-Mask-Detection/dataset/unprepared/images/6UGMKTSLSW.jpg (deflated 1%)\n",
            "  adding: content/Face-Mask-Detection/dataset/unprepared/images/J9KV0D4ZLL.jpg (deflated 1%)\n",
            "  adding: content/Face-Mask-Detection/dataset/unprepared/images/53MFUERP5Y.jpg (deflated 1%)\n",
            "  adding: content/Face-Mask-Detection/dataset/unprepared/images/W2872BT4OT.jpg (deflated 1%)\n",
            "  adding: content/Face-Mask-Detection/dataset/unprepared/images/I2GN0G9Q27.jpg (deflated 1%)\n",
            "  adding: content/Face-Mask-Detection/dataset/unprepared/images/Z84C1DEY9V.jpg (deflated 1%)\n",
            "  adding: content/Face-Mask-Detection/dataset/unprepared/images/0VYZK4SWM5.jpg (deflated 1%)\n",
            "  adding: content/Face-Mask-Detection/dataset/unprepared/images/0WXKO4TSI6.jpg (deflated 1%)\n",
            "  adding: content/Face-Mask-Detection/dataset/unprepared/images/C29YVSEIQQ.jpg (deflated 1%)\n",
            "  adding: content/Face-Mask-Detection/dataset/unprepared/images/4SKU0XPGZG.jpg (deflated 1%)\n",
            "  adding: content/Face-Mask-Detection/dataset/unprepared/images/SUR07RHZ4Y.jpg (deflated 1%)\n",
            "  adding: content/Face-Mask-Detection/dataset/unprepared/images/53ZBP8BQFI.jpg (deflated 1%)\n",
            "  adding: content/Face-Mask-Detection/dataset/unprepared/images/TMLUG56C5G.jpg (deflated 1%)\n",
            "  adding: content/Face-Mask-Detection/dataset/unprepared/images/PDER94I8ND.jpg (deflated 1%)\n",
            "  adding: content/Face-Mask-Detection/dataset/unprepared/images/8ZQXIRXNJF.jpg (deflated 1%)\n",
            "  adding: content/Face-Mask-Detection/dataset/unprepared/images/W8SC2V6842.jpg (deflated 1%)\n",
            "  adding: content/Face-Mask-Detection/dataset/unprepared/images/T5AD07K975.jpg (deflated 1%)\n",
            "  adding: content/Face-Mask-Detection/dataset/unprepared/images/J60881A5Y5.jpg (deflated 1%)\n",
            "  adding: content/Face-Mask-Detection/dataset/unprepared/images/3V4EDIYT96.jpg (deflated 1%)\n",
            "  adding: content/Face-Mask-Detection/dataset/unprepared/images/697T4CDL5L.jpg (deflated 1%)\n",
            "  adding: content/Face-Mask-Detection/dataset/unprepared/images/3JQ6I4N3EB.jpg (deflated 1%)\n",
            "  adding: content/Face-Mask-Detection/dataset/unprepared/images/ARC5ZFW0Z0.jpg (deflated 1%)\n",
            "  adding: content/Face-Mask-Detection/dataset/unprepared/images/UDP58J2N6K.jpg (deflated 1%)\n",
            "  adding: content/Face-Mask-Detection/dataset/unprepared/images/2BAUR0UILD.jpg (deflated 1%)\n",
            "  adding: content/Face-Mask-Detection/dataset/unprepared/images/19309Q6KY4.jpg (deflated 1%)\n",
            "  adding: content/Face-Mask-Detection/dataset/unprepared/images/A9MPW3G1UB.jpg (deflated 1%)\n",
            "  adding: content/Face-Mask-Detection/dataset/unprepared/images/7UOR6ZVGCW.jpg (deflated 1%)\n",
            "  adding: content/Face-Mask-Detection/dataset/unprepared/images/VAXTDDCWN6.jpg (deflated 1%)\n",
            "  adding: content/Face-Mask-Detection/dataset/unprepared/images/71742CU863.jpg (deflated 1%)\n",
            "  adding: content/Face-Mask-Detection/dataset/unprepared/images/N47QGWCI0O.jpg (deflated 1%)\n",
            "  adding: content/Face-Mask-Detection/dataset/unprepared/images/EZGLA2LLRT.jpg (deflated 1%)\n",
            "  adding: content/Face-Mask-Detection/dataset/unprepared/images/I8JKAW7E7J.jpg (deflated 1%)\n",
            "  adding: content/Face-Mask-Detection/dataset/unprepared/images/WAKALYUD0V.jpg (deflated 1%)\n",
            "  adding: content/Face-Mask-Detection/dataset/unprepared/images/BNWGVF9UQL.jpg (deflated 1%)\n",
            "  adding: content/Face-Mask-Detection/dataset/unprepared/images/PJSNLE919O.jpg (deflated 1%)\n",
            "  adding: content/Face-Mask-Detection/dataset/unprepared/images/FMGGHF095L.jpg (deflated 1%)\n",
            "  adding: content/Face-Mask-Detection/dataset/unprepared/images/51010MY82L.jpg (deflated 1%)\n",
            "  adding: content/Face-Mask-Detection/dataset/unprepared/images/07UJWYHLCD.jpg (deflated 1%)\n",
            "  adding: content/Face-Mask-Detection/dataset/unprepared/images/6S5P5OB41M.jpg (deflated 1%)\n",
            "  adding: content/Face-Mask-Detection/dataset/unprepared/images/66P2GRSK7T.jpg (deflated 1%)\n",
            "  adding: content/Face-Mask-Detection/dataset/unprepared/images/ZKJ5U0WVQV.jpg (deflated 1%)\n",
            "  adding: content/Face-Mask-Detection/dataset/unprepared/images/UQ82D92CFE.jpg (deflated 1%)\n",
            "  adding: content/Face-Mask-Detection/dataset/unprepared/images/UR0NFD1IYD.jpg (deflated 1%)\n",
            "  adding: content/Face-Mask-Detection/dataset/unprepared/images/WSR7Z0EI0L.jpg (deflated 1%)\n",
            "  adding: content/Face-Mask-Detection/dataset/unprepared/images/SNRT2AWMP2.jpg (deflated 1%)\n",
            "  adding: content/Face-Mask-Detection/dataset/unprepared/images/CO4JS0CV45.jpg (deflated 1%)\n",
            "  adding: content/Face-Mask-Detection/dataset/unprepared/images/LG8BGPUKAX.jpg (deflated 1%)\n",
            "  adding: content/Face-Mask-Detection/dataset/unprepared/images/6DYYX8HQLU.jpg (deflated 1%)\n",
            "  adding: content/Face-Mask-Detection/dataset/unprepared/images/XMBF6AT9XR.jpg (deflated 1%)\n",
            "  adding: content/Face-Mask-Detection/dataset/unprepared/images/1E4W1761R6.jpg (deflated 1%)\n",
            "  adding: content/Face-Mask-Detection/dataset/unprepared/images/SOEWWYU3KM.jpg (deflated 1%)\n",
            "  adding: content/Face-Mask-Detection/dataset/unprepared/images/K9TAQ5FCBU.jpg (deflated 1%)\n",
            "  adding: content/Face-Mask-Detection/dataset/unprepared/images/P9ZO41AO08.jpg (deflated 1%)\n",
            "  adding: content/Face-Mask-Detection/dataset/unprepared/images/WCR7QIAYAG.jpg (deflated 1%)\n",
            "  adding: content/Face-Mask-Detection/dataset/unprepared/images/D1BKJ3GBXS.jpg (deflated 1%)\n",
            "  adding: content/Face-Mask-Detection/dataset/unprepared/images/VDR3W38N8Q.jpg (deflated 1%)\n",
            "  adding: content/Face-Mask-Detection/dataset/unprepared/images/0W6R2QIU5A.jpg (deflated 1%)\n",
            "  adding: content/Face-Mask-Detection/dataset/unprepared/images/RW2SBYEG0X.jpg (deflated 1%)\n",
            "  adding: content/Face-Mask-Detection/dataset/unprepared/images/YFFS732A8A.jpg (deflated 1%)\n",
            "  adding: content/Face-Mask-Detection/dataset/unprepared/images/9NU2BBTWZW.jpg (deflated 1%)\n",
            "  adding: content/Face-Mask-Detection/dataset/unprepared/images/CZD7SEP5WO.jpg (deflated 1%)\n",
            "  adding: content/Face-Mask-Detection/dataset/unprepared/images/H6TZZE5VGB.jpg (deflated 1%)\n",
            "  adding: content/Face-Mask-Detection/dataset/unprepared/images/0WF57M1IBJ.jpg (deflated 1%)\n",
            "  adding: content/Face-Mask-Detection/dataset/unprepared/images/91YNUCMFZZ.jpg (deflated 1%)\n",
            "  adding: content/Face-Mask-Detection/dataset/unprepared/images/3GB9NPCIP7.jpg (deflated 1%)\n",
            "  adding: content/Face-Mask-Detection/dataset/unprepared/images/WSM1KIJBMG.jpg (deflated 1%)\n",
            "  adding: content/Face-Mask-Detection/dataset/unprepared/images/7DV67VMGZM.jpg (deflated 1%)\n",
            "  adding: content/Face-Mask-Detection/dataset/unprepared/images/6ZTPY3WQ0V.jpg (deflated 1%)\n",
            "  adding: content/Face-Mask-Detection/dataset/unprepared/images/6L35X1271N.jpg (deflated 1%)\n",
            "  adding: content/Face-Mask-Detection/dataset/unprepared/images/S5806SVA63.jpg (deflated 1%)\n",
            "  adding: content/Face-Mask-Detection/dataset/unprepared/images/99XOH68P4O.jpg (deflated 1%)\n",
            "  adding: content/Face-Mask-Detection/dataset/unprepared/images/1MQFFVTO5I.jpg (deflated 1%)\n",
            "  adding: content/Face-Mask-Detection/dataset/unprepared/images/ZJUQXAHAKW.jpg (deflated 1%)\n",
            "  adding: content/Face-Mask-Detection/dataset/unprepared/images/IPYZZ1EMPK.jpg (deflated 1%)\n",
            "  adding: content/Face-Mask-Detection/dataset/unprepared/images/1YY4K6YJU4.jpg (deflated 1%)\n",
            "  adding: content/Face-Mask-Detection/dataset/unprepared/images/RECOK3KVZ0.jpg (deflated 1%)\n",
            "  adding: content/Face-Mask-Detection/dataset/unprepared/images/OUTLOOCZLZ.jpg (deflated 1%)\n",
            "  adding: content/Face-Mask-Detection/dataset/unprepared/images/WGV6VSLAGC.jpg (deflated 1%)\n",
            "  adding: content/Face-Mask-Detection/dataset/unprepared/images/QB6IQ6GN2M.jpg (deflated 1%)\n",
            "  adding: content/Face-Mask-Detection/dataset/unprepared/images/LIHWIEX7KR.jpg (deflated 1%)\n",
            "  adding: content/Face-Mask-Detection/dataset/unprepared/images/MLV279HNDF.jpg (deflated 1%)\n",
            "  adding: content/Face-Mask-Detection/dataset/unprepared/images/MHJCTK2WPE.jpg (deflated 1%)\n",
            "  adding: content/Face-Mask-Detection/dataset/unprepared/images/ZE0CNJJJQE.jpg (deflated 1%)\n",
            "  adding: content/Face-Mask-Detection/dataset/unprepared/images/PJC0D2WWX4.jpg (deflated 1%)\n",
            "  adding: content/Face-Mask-Detection/dataset/unprepared/images/CY0S90J9VU.jpg (deflated 1%)\n",
            "  adding: content/Face-Mask-Detection/dataset/unprepared/images/D76FUW9UU1.jpg (deflated 1%)\n",
            "  adding: content/Face-Mask-Detection/dataset/unprepared/images/AMR0BX0LMY.jpg (deflated 1%)\n",
            "  adding: content/Face-Mask-Detection/dataset/unprepared/images/UE8YEFXD9E.jpg (deflated 1%)\n",
            "  adding: content/Face-Mask-Detection/dataset/unprepared/images/O1WVDKBUAE.jpg (deflated 1%)\n",
            "  adding: content/Face-Mask-Detection/dataset/unprepared/images/B3NH5EJZ2F.jpg (deflated 1%)\n",
            "  adding: content/Face-Mask-Detection/dataset/unprepared/images/JX8B043G7J.jpg (deflated 1%)\n",
            "  adding: content/Face-Mask-Detection/dataset/unprepared/images/MMCFZFXSXM.jpg (deflated 1%)\n",
            "  adding: content/Face-Mask-Detection/dataset/unprepared/mask/ (stored 0%)\n",
            "  adding: content/Face-Mask-Detection/dataset/unprepared/mask/Mask 02.png (stored 0%)\n",
            "  adding: content/Face-Mask-Detection/dataset/unprepared/mask/Mask 07.png (deflated 1%)\n",
            "  adding: content/Face-Mask-Detection/dataset/unprepared/mask/Mask 01.png (deflated 0%)\n",
            "  adding: content/Face-Mask-Detection/dataset/unprepared/mask/Mask 09.png (deflated 0%)\n",
            "  adding: content/Face-Mask-Detection/dataset/unprepared/mask/Mask 08.png (stored 0%)\n",
            "  adding: content/Face-Mask-Detection/dataset/unprepared/mask/Mask 03.png (deflated 0%)\n",
            "  adding: content/Face-Mask-Detection/dataset/unprepared/mask/Mask 05.png (deflated 3%)\n",
            "  adding: content/Face-Mask-Detection/dataset/unprepared/mask/Mask 06.png (deflated 2%)\n",
            "  adding: content/Face-Mask-Detection/dataset/unprepared/mask_photos.tar.xz (deflated 0%)\n",
            "  adding: content/Face-Mask-Detection/dataset/unprepared/annotations/ (stored 0%)\n",
            "  adding: content/Face-Mask-Detection/dataset/unprepared/annotations/PJC0D2WWX4.xml (deflated 41%)\n",
            "  adding: content/Face-Mask-Detection/dataset/unprepared/annotations/OUTLOOCZLZ.xml (deflated 41%)\n",
            "  adding: content/Face-Mask-Detection/dataset/unprepared/annotations/5EHDHMB62U.xml (deflated 42%)\n",
            "  adding: content/Face-Mask-Detection/dataset/unprepared/annotations/66P2GRSK7T.xml (deflated 42%)\n",
            "  adding: content/Face-Mask-Detection/dataset/unprepared/annotations/IVOUZ7AO71.xml (deflated 41%)\n",
            "  adding: content/Face-Mask-Detection/dataset/unprepared/annotations/VAXTDDCWN6.xml (deflated 42%)\n",
            "  adding: content/Face-Mask-Detection/dataset/unprepared/annotations/1Y6HSX6TJ1.xml (deflated 41%)\n",
            "  adding: content/Face-Mask-Detection/dataset/unprepared/annotations/J9KV0D4ZLL.xml (deflated 41%)\n",
            "  adding: content/Face-Mask-Detection/dataset/unprepared/annotations/D1BKJ3GBXS.xml (deflated 42%)\n",
            "  adding: content/Face-Mask-Detection/dataset/unprepared/annotations/LIHWIEX7KR.xml (deflated 41%)\n",
            "  adding: content/Face-Mask-Detection/dataset/unprepared/annotations/WCR7QIAYAG.xml (deflated 42%)\n",
            "  adding: content/Face-Mask-Detection/dataset/unprepared/annotations/PJSNLE919O.xml (deflated 42%)\n",
            "  adding: content/Face-Mask-Detection/dataset/unprepared/annotations/JX8B043G7J.xml (deflated 42%)\n",
            "  adding: content/Face-Mask-Detection/dataset/unprepared/annotations/O1WVDKBUAE.xml (deflated 41%)\n",
            "  adding: content/Face-Mask-Detection/dataset/unprepared/annotations/I8JKAW7E7J.xml (deflated 42%)\n",
            "  adding: content/Face-Mask-Detection/dataset/unprepared/annotations/MLV279HNDF.xml (deflated 42%)\n",
            "  adding: content/Face-Mask-Detection/dataset/unprepared/annotations/0VYZK4SWM5.xml (deflated 41%)\n",
            "  adding: content/Face-Mask-Detection/dataset/unprepared/annotations/XMBF6AT9XR.xml (deflated 41%)\n",
            "  adding: content/Face-Mask-Detection/dataset/unprepared/annotations/EZGLA2LLRT.xml (deflated 42%)\n",
            "  adding: content/Face-Mask-Detection/dataset/unprepared/annotations/1MQFFVTO5I.xml (deflated 42%)\n",
            "  adding: content/Face-Mask-Detection/dataset/unprepared/annotations/BNWGVF9UQL.xml (deflated 41%)\n",
            "  adding: content/Face-Mask-Detection/dataset/unprepared/annotations/MMCFZFXSXM.xml (deflated 42%)\n",
            "  adding: content/Face-Mask-Detection/dataset/unprepared/annotations/UR0NFD1IYD.xml (deflated 41%)\n",
            "  adding: content/Face-Mask-Detection/dataset/unprepared/annotations/91YNUCMFZZ.xml (deflated 41%)\n",
            "  adding: content/Face-Mask-Detection/dataset/unprepared/annotations/ZE0CNJJJQE.xml (deflated 42%)\n",
            "  adding: content/Face-Mask-Detection/dataset/unprepared/annotations/0W6R2QIU5A.xml (deflated 41%)\n",
            "  adding: content/Face-Mask-Detection/dataset/unprepared/annotations/99XOH68P4O.xml (deflated 41%)\n",
            "  adding: content/Face-Mask-Detection/dataset/unprepared/annotations/Y0YN36DVLT.xml (deflated 41%)\n",
            "  adding: content/Face-Mask-Detection/dataset/unprepared/annotations/53MFUERP5Y.xml (deflated 41%)\n",
            "  adding: content/Face-Mask-Detection/dataset/unprepared/annotations/QB6IQ6GN2M.xml (deflated 41%)\n",
            "  adding: content/Face-Mask-Detection/dataset/unprepared/annotations/VDR3W38N8Q.xml (deflated 42%)\n",
            "  adding: content/Face-Mask-Detection/dataset/unprepared/annotations/8ZQXIRXNJF.xml (deflated 42%)\n",
            "  adding: content/Face-Mask-Detection/dataset/unprepared/annotations/ZJUQXAHAKW.xml (deflated 41%)\n",
            "  adding: content/Face-Mask-Detection/dataset/unprepared/annotations/TMLUG56C5G.xml (deflated 42%)\n",
            "  adding: content/Face-Mask-Detection/dataset/unprepared/annotations/UQ82D92CFE.xml (deflated 42%)\n",
            "  adding: content/Face-Mask-Detection/dataset/unprepared/annotations/7UOR6ZVGCW.xml (deflated 41%)\n",
            "  adding: content/Face-Mask-Detection/dataset/unprepared/annotations/SNRT2AWMP2.xml (deflated 42%)\n",
            "  adding: content/Face-Mask-Detection/dataset/unprepared/annotations/9NU2BBTWZW.xml (deflated 41%)\n",
            "  adding: content/Face-Mask-Detection/dataset/unprepared/annotations/CO4JS0CV45.xml (deflated 42%)\n",
            "  adding: content/Face-Mask-Detection/dataset/unprepared/annotations/0WF57M1IBJ.xml (deflated 42%)\n",
            "  adding: content/Face-Mask-Detection/dataset/unprepared/annotations/K9TAQ5FCBU.xml (deflated 42%)\n",
            "  adding: content/Face-Mask-Detection/dataset/unprepared/annotations/CZD7SEP5WO.xml (deflated 41%)\n",
            "  adding: content/Face-Mask-Detection/dataset/unprepared/annotations/AMR0BX0LMY.xml (deflated 41%)\n",
            "  adding: content/Face-Mask-Detection/dataset/unprepared/annotations/U8UPYXV8P7.xml (deflated 41%)\n",
            "  adding: content/Face-Mask-Detection/dataset/unprepared/annotations/2I9MFY4KPJ.xml (deflated 42%)\n",
            "  adding: content/Face-Mask-Detection/dataset/unprepared/annotations/ZKJ5U0WVQV.xml (deflated 41%)\n",
            "  adding: content/Face-Mask-Detection/dataset/unprepared/annotations/6UGMKTSLSW.xml (deflated 42%)\n",
            "  adding: content/Face-Mask-Detection/dataset/unprepared/annotations/A9MPW3G1UB.xml (deflated 41%)\n",
            "  adding: content/Face-Mask-Detection/dataset/unprepared/annotations/3V4EDIYT96.xml (deflated 41%)\n",
            "  adding: content/Face-Mask-Detection/dataset/unprepared/annotations/2BAUR0UILD.xml (deflated 41%)\n",
            "  adding: content/Face-Mask-Detection/dataset/unprepared/annotations/53ZBP8BQFI.xml (deflated 42%)\n",
            "  adding: content/Face-Mask-Detection/dataset/unprepared/annotations/H6TZZE5VGB.xml (deflated 41%)\n",
            "  adding: content/Face-Mask-Detection/dataset/unprepared/annotations/6ZTPY3WQ0V.xml (deflated 41%)\n",
            "  adding: content/Face-Mask-Detection/dataset/unprepared/annotations/71742CU863.xml (deflated 42%)\n",
            "  adding: content/Face-Mask-Detection/dataset/unprepared/annotations/WSR7Z0EI0L.xml (deflated 41%)\n",
            "  adding: content/Face-Mask-Detection/dataset/unprepared/annotations/1E4W1761R6.xml (deflated 42%)\n",
            "  adding: content/Face-Mask-Detection/dataset/unprepared/annotations/T5AD07K975.xml (deflated 42%)\n",
            "  adding: content/Face-Mask-Detection/dataset/unprepared/annotations/SUR07RHZ4Y.xml (deflated 42%)\n",
            "  adding: content/Face-Mask-Detection/dataset/unprepared/annotations/1YY4K6YJU4.xml (deflated 41%)\n",
            "  adding: content/Face-Mask-Detection/dataset/unprepared/annotations/MHJCTK2WPE.xml (deflated 41%)\n",
            "  adding: content/Face-Mask-Detection/dataset/unprepared/annotations/I2GN0G9Q27.xml (deflated 42%)\n",
            "  adding: content/Face-Mask-Detection/dataset/unprepared/annotations/FMGGHF095L.xml (deflated 42%)\n",
            "  adding: content/Face-Mask-Detection/dataset/unprepared/annotations/6DYYX8HQLU.xml (deflated 42%)\n",
            "  adding: content/Face-Mask-Detection/dataset/unprepared/annotations/WAKALYUD0V.xml (deflated 42%)\n",
            "  adding: content/Face-Mask-Detection/dataset/unprepared/annotations/J60881A5Y5.xml (deflated 42%)\n",
            "  adding: content/Face-Mask-Detection/dataset/unprepared/annotations/WGV6VSLAGC.xml (deflated 41%)\n",
            "  adding: content/Face-Mask-Detection/dataset/unprepared/annotations/51010MY82L.xml (deflated 43%)\n",
            "  adding: content/Face-Mask-Detection/dataset/unprepared/annotations/IPYZZ1EMPK.xml (deflated 41%)\n",
            "  adding: content/Face-Mask-Detection/dataset/unprepared/annotations/D76FUW9UU1.xml (deflated 42%)\n",
            "  adding: content/Face-Mask-Detection/dataset/unprepared/annotations/P9ZO41AO08.xml (deflated 42%)\n",
            "  adding: content/Face-Mask-Detection/dataset/unprepared/annotations/Z84C1DEY9V.xml (deflated 42%)\n",
            "  adding: content/Face-Mask-Detection/dataset/unprepared/annotations/WSM1KIJBMG.xml (deflated 42%)\n",
            "  adding: content/Face-Mask-Detection/dataset/unprepared/annotations/UDP58J2N6K.xml (deflated 41%)\n",
            "  adding: content/Face-Mask-Detection/dataset/unprepared/annotations/19309Q6KY4.xml (deflated 43%)\n",
            "  adding: content/Face-Mask-Detection/dataset/unprepared/annotations/CY0S90J9VU.xml (deflated 42%)\n",
            "  adding: content/Face-Mask-Detection/dataset/unprepared/annotations/LG8BGPUKAX.xml (deflated 41%)\n",
            "  adding: content/Face-Mask-Detection/dataset/unprepared/annotations/3JQ6I4N3EB.xml (deflated 42%)\n",
            "  adding: content/Face-Mask-Detection/dataset/unprepared/annotations/W8SC2V6842.xml (deflated 42%)\n",
            "  adding: content/Face-Mask-Detection/dataset/unprepared/annotations/697T4CDL5L.xml (deflated 42%)\n",
            "  adding: content/Face-Mask-Detection/dataset/unprepared/annotations/7DV67VMGZM.xml (deflated 42%)\n",
            "  adding: content/Face-Mask-Detection/dataset/unprepared/annotations/4SKU0XPGZG.xml (deflated 41%)\n",
            "  adding: content/Face-Mask-Detection/dataset/unprepared/annotations/P9K1JRRLNF.xml (deflated 41%)\n",
            "  adding: content/Face-Mask-Detection/dataset/unprepared/annotations/PDER94I8ND.xml (deflated 42%)\n",
            "  adding: content/Face-Mask-Detection/dataset/unprepared/annotations/UE8YEFXD9E.xml (deflated 42%)\n",
            "  adding: content/Face-Mask-Detection/dataset/unprepared/annotations/B3NH5EJZ2F.xml (deflated 41%)\n",
            "  adding: content/Face-Mask-Detection/dataset/unprepared/annotations/W2872BT4OT.xml (deflated 42%)\n",
            "  adding: content/Face-Mask-Detection/dataset/unprepared/annotations/0WXKO4TSI6.xml (deflated 41%)\n",
            "  adding: content/Face-Mask-Detection/dataset/unprepared/annotations/C29YVSEIQQ.xml (deflated 42%)\n",
            "  adding: content/Face-Mask-Detection/dataset/unprepared/annotations/YFFS732A8A.xml (deflated 42%)\n",
            "  adding: content/Face-Mask-Detection/dataset/unprepared/annotations/N47QGWCI0O.xml (deflated 41%)\n",
            "  adding: content/Face-Mask-Detection/dataset/unprepared/annotations/6S5P5OB41M.xml (deflated 42%)\n",
            "  adding: content/Face-Mask-Detection/dataset/unprepared/annotations/6L35X1271N.xml (deflated 42%)\n",
            "  adding: content/Face-Mask-Detection/dataset/unprepared/annotations/S5806SVA63.xml (deflated 43%)\n",
            "  adding: content/Face-Mask-Detection/dataset/unprepared/annotations/ARC5ZFW0Z0.xml (deflated 41%)\n",
            "  adding: content/Face-Mask-Detection/dataset/unprepared/annotations/RECOK3KVZ0.xml (deflated 41%)\n",
            "  adding: content/Face-Mask-Detection/dataset/unprepared/annotations/NYU4CF7ZZW.xml (deflated 41%)\n",
            "  adding: content/Face-Mask-Detection/dataset/unprepared/annotations/RW2SBYEG0X.xml (deflated 41%)\n",
            "  adding: content/Face-Mask-Detection/dataset/unprepared/annotations/3GB9NPCIP7.xml (deflated 42%)\n",
            "  adding: content/Face-Mask-Detection/dataset/unprepared/annotations/07UJWYHLCD.xml (deflated 41%)\n",
            "  adding: content/Face-Mask-Detection/dataset/unprepared/annotations/SOEWWYU3KM.xml (deflated 41%)\n",
            "Copying file://part2-datasetv1.zip...\n",
            "/ [1 files][  5.1 MiB/  5.1 MiB]                                                \n",
            "Operation completed over 1 objects/5.1 MiB.                                      \n"
          ],
          "name": "stdout"
        }
      ]
    }
  ]
}