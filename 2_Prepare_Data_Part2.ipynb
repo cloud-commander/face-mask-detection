{
  "nbformat": 4,
  "nbformat_minor": 0,
  "metadata": {
    "kernelspec": {
      "display_name": "Python 3",
      "language": "python",
      "name": "python3"
    },
    "language_info": {
      "codemirror_mode": {
        "name": "ipython",
        "version": 3
      },
      "file_extension": ".py",
      "mimetype": "text/x-python",
      "name": "python",
      "nbconvert_exporter": "python",
      "pygments_lexer": "ipython3",
      "version": "3.7.6"
    },
    "colab": {
      "name": "2_Prepare_Data_Part2.ipynb",
      "provenance": [],
      "toc_visible": true,
      "include_colab_link": true
    },
    "accelerator": "GPU"
  },
  "cells": [
    {
      "cell_type": "markdown",
      "metadata": {
        "id": "view-in-github",
        "colab_type": "text"
      },
      "source": [
        "<a href=\"https://colab.research.google.com/github/cloud-commander/face-mask-detection/blob/master/2_Prepare_Data_Part2.ipynb\" target=\"_parent\"><img src=\"https://colab.research.google.com/assets/colab-badge.svg\" alt=\"Open In Colab\"/></a>"
      ]
    },
    {
      "cell_type": "markdown",
      "metadata": {
        "id": "-5MH8NbF6ql3",
        "colab_type": "text"
      },
      "source": [
        "\n",
        "<a href=\"https://blog.cloudcommander.net\" target=\"_parent\"><img src=\"https://raw.githubusercontent.com/cloud-commander/hexoblog/master/cloud.png\" alt=\"Visit my Blog\">\n",
        "</a>\n",
        "<br> \n",
        "# <span style=\"font-family:Didot; font-size:3em;\"> Cloud Commander </span>\n"
      ]
    },
    {
      "cell_type": "markdown",
      "metadata": {
        "id": "_4J1SAqq6ql3",
        "colab_type": "text"
      },
      "source": [
        "<a href=\"https://colab.research.google.com/github/cloud-commander/face-mask-detection/blob/master/2_Prepare_Data_Part2.ipynb\" target=\"_parent\"><img src=\"https://colab.research.google.com/assets/colab-badge.svg\" alt=\"Open in Colab\"></a>\n",
        "&nbsp;&nbsp;&nbsp;&nbsp;\n",
        "<a href=\"https://github.com/cloud-commander/face-mask-detection/blob/master/2_Prepare_Data_Part2.ipynb\" target=\"_parent\"><img src=\"https://img.shields.io/static/v1?logo=GitHub&label=&color=333333&style=flat&message=View%20on%20GitHub\" alt=\"View in GitHub\"></a>\n"
      ]
    },
    {
      "cell_type": "markdown",
      "metadata": {
        "id": "wZ2bhLAV6ql4",
        "colab_type": "text"
      },
      "source": [
        "# Automatic Face Image Annotation & Masked Photo Generation ##\n",
        "\n",
        "In the previous notebook, we prepared the unmasked photos in the dataset. In this notebook we will look at pre-processing the images for our masked photo dataset.\n",
        "\n",
        "Firstly we will identify the bounding boxes for the faces as with the unmasked photos but additionally we will then also place a series of masked into those faces thus making them masked photos."
      ]
    },
    {
      "cell_type": "markdown",
      "metadata": {
        "id": "nhWJ4Pes6ql5",
        "colab_type": "text"
      },
      "source": [
        "## Import required libraries"
      ]
    },
    {
      "cell_type": "code",
      "metadata": {
        "id": "bOWuNP4e6ql5",
        "colab_type": "code",
        "colab": {}
      },
      "source": [
        "!wget https://raw.githubusercontent.com/cloud-commander/face-mask-detection/master/config/constants.py\n",
        "from constants import * \n",
        "!wget {ANNOTATE}\n",
        "!wget {PLACE_MASKS}\n",
        "!wget {MOVE_FILES}\n",
        "\n",
        "!pip install face_recognition\n",
        "!pip install wget\n",
        "\n",
        "from annotate import *\n",
        "from place_masks import * \n",
        "from move_files import * \n",
        "\n",
        "import os\n",
        "import glob\n",
        "import tarfile\n",
        "\n",
        "import sys\n",
        "import random"
      ],
      "execution_count": null,
      "outputs": []
    },
    {
      "cell_type": "markdown",
      "metadata": {
        "id": "4i5y1btm6ql9",
        "colab_type": "text"
      },
      "source": [
        "## Prepare dataset ###"
      ]
    },
    {
      "cell_type": "markdown",
      "metadata": {
        "id": "RQmBZATLcN5X",
        "colab_type": "text"
      },
      "source": [
        "### Connect to Google Drive\n"
      ]
    },
    {
      "cell_type": "code",
      "metadata": {
        "id": "_gWndC7ncNpa",
        "colab_type": "code",
        "colab": {}
      },
      "source": [
        "from google.colab import drive\n",
        "\n",
        "drive.mount('/content/drive/')"
      ],
      "execution_count": null,
      "outputs": []
    },
    {
      "cell_type": "markdown",
      "metadata": {
        "id": "ILcY--uZcXE-",
        "colab_type": "text"
      },
      "source": [
        "### Download faces dataset"
      ]
    },
    {
      "cell_type": "code",
      "metadata": {
        "id": "K4yX5ZyEcWwe",
        "colab_type": "code",
        "colab": {}
      },
      "source": [
        "%cd {DATASET_DIR_TMP1}\n",
        "!wget https://raw.githubusercontent.com/cloud-commander/face-mask-detection/master/data/100_faces_320x320_dataset_set_2.zip\n",
        "!unzip -j 100_faces_320x320_dataset_set_2.zip '*.jpg'\n",
        "!rm 100_faces_320x320_dataset_set_2.zip"
      ],
      "execution_count": null,
      "outputs": []
    },
    {
      "cell_type": "markdown",
      "metadata": {
        "id": "WnSzHa736ql-",
        "colab_type": "text"
      },
      "source": [
        "## Annotate the images\n",
        "Calls the annotate function to automatically annotate the faces in our image folder and outputs XML files"
      ]
    },
    {
      "cell_type": "code",
      "metadata": {
        "id": "jNWh_JoY6qmH",
        "colab_type": "code",
        "colab": {}
      },
      "source": [
        "annotate(DATASET_DIR_TMP1,DATASET_DIR_TMP2,\"MASKED\")"
      ],
      "execution_count": null,
      "outputs": []
    },
    {
      "cell_type": "markdown",
      "metadata": {
        "id": "j2UfvGB-6qmM",
        "colab_type": "text"
      },
      "source": [
        "## Generate Masked Photos"
      ]
    },
    {
      "cell_type": "markdown",
      "metadata": {
        "id": "MJ3sB0dxfW_u",
        "colab_type": "text"
      },
      "source": [
        "### Download required dependency and extract to folder"
      ]
    },
    {
      "cell_type": "code",
      "metadata": {
        "id": "vNx4xN7_fW12",
        "colab_type": "code",
        "colab": {}
      },
      "source": [
        "os.chdir(DATASET_DIR_UNPREP)\n",
        "tf = tarfile.open(wget.download(MASKS_DATASET))\n",
        "tf.extractall()"
      ],
      "execution_count": null,
      "outputs": []
    },
    {
      "cell_type": "markdown",
      "metadata": {
        "id": "sBZZh1Lv6qmQ",
        "colab_type": "text"
      },
      "source": [
        "### Cycle through photos and place mask images"
      ]
    },
    {
      "cell_type": "code",
      "metadata": {
        "id": "cjRNlGIs6qmQ",
        "colab_type": "code",
        "colab": {}
      },
      "source": [
        "model = \"cnn\" # Select facial recognition model; Available options areh 'hog' or 'cnn'. Hog is faster, cnn is more accurate.\n",
        "\n",
        "input_folder_list = [os.path.join(DATASET_DIR_TMP1, f) for f in os.listdir(DATASET_DIR_TMP1) if os.path.isfile(os.path.join(DATASET_DIR_TMP1, f))]\n",
        "mask_folder_list = [os.path.join(DATASET_DIR_UNPREP_MASKS, f) for f in os.listdir(DATASET_DIR_UNPREP_MASKS) if os.path.isfile(os.path.join(DATASET_DIR_UNPREP_MASKS, f))]\n",
        "\n",
        "for i in range(len(input_folder_list)):\n",
        "     # get a random mask from from the mask folder\n",
        "     random_mask_file = random.choice(list(mask_folder_list))\n",
        "        \n",
        "     if random_mask_file.endswith(('.png', '.jpg', '.jpeg')): \n",
        "      # get the next image from the image folder\n",
        "      current_image_file = input_folder_list[i]\n",
        "      if current_image_file.endswith(('.png', '.jpg', '.jpeg')):\n",
        "        create_mask(current_image_file, random_mask_file, model)\n"
      ],
      "execution_count": null,
      "outputs": []
    },
    {
      "cell_type": "markdown",
      "metadata": {
        "id": "Su9xJTm5ujqs",
        "colab_type": "text"
      },
      "source": [
        "## Save"
      ]
    },
    {
      "cell_type": "markdown",
      "metadata": {
        "id": "90IkC8G26qmY",
        "colab_type": "text"
      },
      "source": [
        "### Save the generated images and archive them"
      ]
    },
    {
      "cell_type": "code",
      "metadata": {
        "id": "3zV9q08ZRaOt",
        "colab_type": "code",
        "colab": {}
      },
      "source": [
        "#Return a list of items that have both images and XML files\n",
        "matches = compare_intersect(DATASET_DIR_TMP1,DATASET_DIR_TMP2)\n",
        "\n",
        "#Move the images and the annotations from the temp location\n",
        "move_files(DATASET_DIR_TMP1,DATASET_DIR_UNPREP_IMG, matches)\n",
        "move_files(DATASET_DIR_TMP2,DATASET_DIR_UNPREP_ANNO, matches)"
      ],
      "execution_count": null,
      "outputs": []
    },
    {
      "cell_type": "markdown",
      "metadata": {
        "id": "kVkC_KeV6qmb",
        "colab_type": "text"
      },
      "source": [
        "### Compress Dataset and Save Dataset to Google Drive\n",
        "\n",
        "Follow this step if you wish to archive your dataset for future use"
      ]
    },
    {
      "cell_type": "code",
      "metadata": {
        "id": "mKOfdMzD6qmb",
        "colab_type": "code",
        "colab": {}
      },
      "source": [
        "!zip -r part2-datasetv1.zip {DATASET_DIR_UNPREP}\n",
        "!gsutil cp part2-datasetv1.zip {DRIVE_DEV}"
      ],
      "execution_count": null,
      "outputs": []
    }
  ]
}