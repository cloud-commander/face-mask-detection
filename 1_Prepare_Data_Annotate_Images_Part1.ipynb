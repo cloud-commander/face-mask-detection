{
 "cells": [
  {
   "cell_type": "markdown",
   "metadata": {},
   "source": [
    "## <a href=\"https://blog.cloudcommander.net\" target=\"_parent\"><img src=\"https://raw.githubusercontent.com/cloud-commander/hexoblog/master/cloud.png\" alt=\"Visit my Blog\"></a> <span style=\"font-family:Didot; font-size:3em;\"> Cloud Commander </span>\n"
   ]
  },
  {
   "cell_type": "markdown",
   "metadata": {},
   "source": [
    "<a href=\"https://colab.research.google.com/github/cloud-commander/face-mask-detection/blob/master/1_Prepare_Data_Annotate_Images_Part1.ipynb\" target=\"_parent\"><img src=\"https://colab.research.google.com/assets/colab-badge.svg\" alt=\"Open in Colab\"></a>\n",
    "&nbsp;&nbsp;&nbsp;&nbsp;\n",
    "<a href=\"https://github.com/cloud-commander/face-mask-detection/blob/master/1_Prepare_Data_Annotate_Images_Part1.ipynb\" target=\"_parent\"><img src=\"https://img.shields.io/static/v1?logo=GitHub&label=&color=333333&style=flat&message=View%20on%20GitHub\" alt=\"View in GitHub\"></a>\n",
    "\n"
   ]
  },
  {
   "cell_type": "markdown",
   "metadata": {},
   "source": [
    "## Automatic Face Image Annotation  ##\n",
    "\n",
    "We start off the data preparation phase by pre-processing images in our dataset for the unmasked category.\n",
    "\n",
    "We have a selection of facial images and we need to draw bounding boxes around them. We could do that manually using a tool such as [labelImg](https://github.com/tzutalin/labelImg) however that would be slow, tedious and unnecessary for our purposes.\n",
    "\n",
    "Instead we will use a facial detection algorithm (Haar cascade) to automatically detect faces and generate an accompanying XML file for each image with the coordinates of the face. Now this method is far from foolproof as it only works properly with full frontal images of faces but its a good starting point.\n",
    "\n"
   ]
  },
  {
   "cell_type": "markdown",
   "metadata": {},
   "source": [
    "### Import required libraries"
   ]
  },
  {
   "cell_type": "code",
   "execution_count": 101,
   "metadata": {},
   "outputs": [
    {
     "name": "stdout",
     "output_type": "stream",
     "text": [
      "Requirement already satisfied: lxml in /opt/conda/lib/python3.7/site-packages (4.5.1)\n",
      "Requirement already satisfied: opencv-python in /opt/conda/lib/python3.7/site-packages (4.2.0.34)\n",
      "Requirement already satisfied: numpy>=1.14.5 in /opt/conda/lib/python3.7/site-packages (from opencv-python) (1.18.1)\n"
     ]
    }
   ],
   "source": [
    "!pip install lxml\n",
    "!pip install opencv-python\n",
    "from lxml import etree as ET\n",
    "\n",
    "import os\n",
    "import cv2\n",
    "import numpy as np\n",
    "import glob\n",
    "from pathlib import Path\n",
    "import shutil\n",
    "\n",
    "from PIL import Image, ImageFile"
   ]
  },
  {
   "cell_type": "markdown",
   "metadata": {},
   "source": [
    "### Prepare dataset ###"
   ]
  },
  {
   "cell_type": "markdown",
   "metadata": {},
   "source": [
    "#### Set image directory ####"
   ]
  },
  {
   "cell_type": "code",
   "execution_count": 102,
   "metadata": {},
   "outputs": [],
   "source": [
    "dataset_dir = \"dataset/unmasked\""
   ]
  },
  {
   "cell_type": "markdown",
   "metadata": {},
   "source": [
    "#### Download required dependency "
   ]
  },
  {
   "cell_type": "code",
   "execution_count": 103,
   "metadata": {},
   "outputs": [],
   "source": [
    "!wget https://raw.githubusercontent.com/cloud-commander/face-mask-detection/master/utils/lbpcascade_frontalface_improved.xml"
   ]
  },
  {
   "cell_type": "code",
   "execution_count": 104,
   "metadata": {},
   "outputs": [
    {
     "name": "stdout",
     "output_type": "stream",
     "text": [
      "/home/jovyan/work/Generate_Data/dataset/unmasked-labels\n"
     ]
    }
   ],
   "source": [
    "path = os.getcwd()\n",
    "filename = path + \"/\" + dataset_dir\n",
    "face_cascade = cv2.CascadeClassifier('lbpcascade_frontalface_improved.xml')\n",
    "dataset_labels_folder = dataset_dir + \"-labels\"\n",
    "dataset_labels_path = os.getcwd()+ \"/\"+ dataset_labels_folder \n",
    "print(dataset_labels_path)\n",
    "os.mkdir(dataset_labels_folder)\n"
   ]
  },
  {
   "cell_type": "code",
   "execution_count": 105,
   "metadata": {},
   "outputs": [],
   "source": [
    "for subdir, dirs, files in os.walk(filename):\n",
    "    for file in files:\n",
    "\n",
    "        \n",
    "        img_path=os.path.join(subdir, file)\n",
    "        img_name=os.path.basename(img_path)\n",
    "\n",
    "        if img_path.lower().endswith(('.png', '.jpg', '.jpeg')):\n",
    "\n",
    "            img = cv2.imread(img_path)\n",
    "            gray = cv2.cvtColor(img, cv2.COLOR_BGR2GRAY)\n",
    "            h,w,bpp = np.shape(img)\n",
    "            imgp = Image.open(img_path)\n",
    "#            b, landmarks = detect_faces(imgp)\n",
    "            faces = face_cascade.detectMultiScale(gray, 1.3, 5)\n",
    "\n",
    "\n",
    "#            g=show_bboxes(imgp, b, landmarks)\n",
    "            #print(len(faces))\n",
    "            if len(faces) == 1 :\n",
    "                try :\n",
    "\n",
    "                    for bounding_boxes in faces:\n",
    "                        face = img[int(bounding_boxes[1]):int(bounding_boxes[3]),\n",
    "                        int(bounding_boxes[0]):int(bounding_boxes[2])]\n",
    "\n",
    "                        \n",
    "                        subdir_path, subdir_name = os.path.split(subdir)\n",
    "\n",
    "                        root = ET.Element(\"annotation\",verified=\"yes\")\n",
    "                        ET.SubElement(root, \"folder\").text=filename\n",
    "\n",
    "                        ET.SubElement(root, \"filename\").text = img_name\n",
    "                        ET.SubElement(root, \"path\").text = img_path\n",
    "\n",
    "                        source=ET.SubElement(root, \"source\")\n",
    "                        ET.SubElement(source, \"database\").text = \"unknown\"\n",
    "\n",
    "                        size=ET.SubElement(root, \"size\")\n",
    "                        ET.SubElement(size, \"width\").text = str(w)\n",
    "                        ET.SubElement(size, \"height\").text = str(h)\n",
    "                        ET.SubElement(size, \"depth\").text = str(bpp)\n",
    "\n",
    "                        ET.SubElement(root, \"segmented\").text = \"0\"\n",
    "\n",
    "                        obj=ET.SubElement(root, \"object\")\n",
    "                        ET.SubElement(obj, \"name\").text = subdir_name\n",
    "                        ET.SubElement(obj, \"pose\").text = \"Unspecified\"\n",
    "                        ET.SubElement(obj, \"truncated\").text = \"0\"\n",
    "                        ET.SubElement(obj, \"difficult\").text = \"0\"\n",
    "\n",
    "                        box=ET.SubElement(obj, \"bndbox\")\n",
    "                        ET.SubElement(box, \"xmin\").text = str(int(bounding_boxes[0]))\n",
    "                        ET.SubElement(box, \"ymin\").text = str(int(bounding_boxes[1]))\n",
    "                        ET.SubElement(box, \"xmax\").text = str(int(bounding_boxes[2])+int(bounding_boxes[1]))\n",
    "                        ET.SubElement(box, \"ymax\").text = str(int(bounding_boxes[3]))\n",
    "\n",
    "                        tree = ET.ElementTree(root)\n",
    "                        tree.write(os.path.join(dataset_labels_path, os.path.splitext(img_name)[0] + '.xml'))\n",
    "                        #tree.write(os.path.join(filename +\"-labels\", os.path.splitext(img_name)[0] + '.xml'))\n",
    "                        \n",
    "                except RuntimeError :\n",
    "                    with open(\"delete.txt\", \"a\") as myfile:\n",
    "                        myfile.write(img_path+\"\\n\")\n",
    "                \t#print(img_path)\n",
    "\n",
    "                else :\n",
    "                    with open(\"delete.txt\", \"a\") as myfile:\n",
    "                            myfile.write(img_path+\"\\n\")\n",
    "                    #print('no face')"
   ]
  },
  {
   "cell_type": "code",
   "execution_count": 106,
   "metadata": {},
   "outputs": [
    {
     "name": "stdout",
     "output_type": "stream",
     "text": [
      "/home/jovyan/work/Generate_Data/dataset/unmasked-labels\n"
     ]
    }
   ],
   "source": [
    "print(dataset_labels_path)"
   ]
  },
  {
   "cell_type": "markdown",
   "metadata": {},
   "source": [
    "### Save Dataset"
   ]
  },
  {
   "cell_type": "code",
   "execution_count": 109,
   "metadata": {},
   "outputs": [
    {
     "name": "stdout",
     "output_type": "stream",
     "text": [
      "['6.jpg', '4.jpg', '1.jpg', '2.jpg', '3.jpg']\n",
      "/home/jovyan/work/Generate_Data/dataset/unmasked/\n",
      "/home/jovyan/work/Generate_Data/dataset/unmasked-labels/\n"
     ]
    }
   ],
   "source": [
    "source1 = filename + \"/\"\n",
    "source2 = dataset_labels_path + \"/\"\n",
    "\n",
    "destination = os.getcwd() + \"/training_demo\"+ \"/images\"\n",
    "if not os.path.exists(destination):\n",
    "    os.makedirs(destination)\n",
    "\n",
    "\n",
    "def move_files(source,destination):\n",
    "    files = os.listdir(source)\n",
    "    for f in files:\n",
    "        shutil.move(source+f, destination)\n",
    "\n",
    "\n",
    "move_files(source1,destination)\n",
    "move_files(source2,destination)\n",
    "\n",
    "# deletes source directories, use as needed\n",
    "os.rmdir(source2)\n",
    "os.rmdir(source1)"
   ]
  },
  {
   "cell_type": "markdown",
   "metadata": {},
   "source": [
    "### Compress Dataset (Optional) ###\n",
    "\n",
    "Follow this step if you wish to archive your dataset for future use"
   ]
  },
  {
   "cell_type": "code",
   "execution_count": null,
   "metadata": {},
   "outputs": [],
   "source": [
    "#!zip -r unmasked-dataset.zip dataset\n",
    "#!tar -zcvf unmasked-dataset.tar.gz dataset"
   ]
  }
 ],
 "metadata": {
  "kernelspec": {
   "display_name": "Python 3",
   "language": "python",
   "name": "python3"
  },
  "language_info": {
   "codemirror_mode": {
    "name": "ipython",
    "version": 3
   },
   "file_extension": ".py",
   "mimetype": "text/x-python",
   "name": "python",
   "nbconvert_exporter": "python",
   "pygments_lexer": "ipython3",
   "version": "3.7.6"
  }
 },
 "nbformat": 4,
 "nbformat_minor": 4
}
