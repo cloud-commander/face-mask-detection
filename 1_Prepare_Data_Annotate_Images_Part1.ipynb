{
  "nbformat": 4,
  "nbformat_minor": 0,
  "metadata": {
    "kernelspec": {
      "display_name": "Python 3",
      "language": "python",
      "name": "python3"
    },
    "language_info": {
      "codemirror_mode": {
        "name": "ipython",
        "version": 3
      },
      "file_extension": ".py",
      "mimetype": "text/x-python",
      "name": "python",
      "nbconvert_exporter": "python",
      "pygments_lexer": "ipython3",
      "version": "3.7.6"
    },
    "colab": {
      "name": "1_Prepare_Data_Annotate_Images_Part1.ipynb",
      "provenance": []
    }
  },
  "cells": [
    {
      "cell_type": "markdown",
      "metadata": {
        "id": "yQiaYamV3qMV",
        "colab_type": "text"
      },
      "source": [
        "\n",
        "<a href=\"https://blog.cloudcommander.net\" target=\"_parent\"><img src=\"https://raw.githubusercontent.com/cloud-commander/hexoblog/master/cloud.png\" alt=\"Visit my Blog\">\n",
        "</a>\n",
        "<br> \n",
        "# <span style=\"font-family:Didot; font-size:3em;\"> Cloud Commander </span>\n"
      ]
    },
    {
      "cell_type": "markdown",
      "metadata": {
        "id": "8oF-vcdN3qMW",
        "colab_type": "text"
      },
      "source": [
        "<a href=\"https://colab.research.google.com/github/cloud-commander/face-mask-detection/blob/master/1_Prepare_Data_Annotate_Images_Part1.ipynb\" target=\"_parent\"><img src=\"https://colab.research.google.com/assets/colab-badge.svg\" alt=\"Open in Colab\"></a>\n",
        "&nbsp;&nbsp;&nbsp;&nbsp;\n",
        "<a href=\"https://github.com/cloud-commander/face-mask-detection/blob/master/1_Prepare_Data_Annotate_Images_Part1.ipynb\" target=\"_parent\"><img src=\"https://img.shields.io/static/v1?logo=GitHub&label=&color=333333&style=flat&message=View%20on%20GitHub\" alt=\"View in GitHub\"></a>\n",
        "\n"
      ]
    },
    {
      "cell_type": "markdown",
      "metadata": {
        "id": "joAqBlhb3qMX",
        "colab_type": "text"
      },
      "source": [
        "## Automatic Face Image Annotation  ##\n",
        "\n",
        "We start off the data preparation phase by pre-processing images in our dataset for the unmasked category.\n",
        "\n",
        "We have a selection of facial images and we need to draw bounding boxes around them. We could do that manually using a tool such as [labelImg](https://github.com/tzutalin/labelImg) however that would be slow, tedious and unnecessary for our purposes.\n",
        "\n",
        "Instead we will use a facial detection algorithm (Haar cascade) to automatically detect faces and generate an accompanying XML file for each image with the coordinates of the face. Now this method is far from foolproof as it only works properly with full frontal images of faces but its a good starting point.\n",
        "\n"
      ]
    },
    {
      "cell_type": "markdown",
      "metadata": {
        "id": "PEXymWto3qMY",
        "colab_type": "text"
      },
      "source": [
        "### Import required libraries"
      ]
    },
    {
      "cell_type": "code",
      "metadata": {
        "id": "vi4FipKD3qMY",
        "colab_type": "code",
        "outputId": "1d39e23d-a67d-453a-df67-a7fc88768245",
        "colab": {
          "base_uri": "https://localhost:8080/",
          "height": 88
        }
      },
      "source": [
        "#!pip install lxml\n",
        "#!pip install opencv-python\n",
        "from lxml import etree as ET\n",
        "\n",
        "import os\n",
        "import cv2\n",
        "import numpy as np\n",
        "import glob\n",
        "from pathlib import Path\n",
        "import shutil\n",
        "\n",
        "from PIL import Image, ImageFile"
      ],
      "execution_count": 1,
      "outputs": [
        {
          "output_type": "stream",
          "text": [
            "Requirement already satisfied: lxml in /usr/local/lib/python3.6/dist-packages (4.2.6)\n",
            "Requirement already satisfied: opencv-python in /usr/local/lib/python3.6/dist-packages (4.1.2.30)\n",
            "Requirement already satisfied: numpy>=1.11.3 in /usr/local/lib/python3.6/dist-packages (from opencv-python) (1.18.4)\n"
          ],
          "name": "stdout"
        }
      ]
    },
    {
      "cell_type": "markdown",
      "metadata": {
        "id": "75Ru3IJu3qMc",
        "colab_type": "text"
      },
      "source": [
        "### Prepare dataset ###"
      ]
    },
    {
      "cell_type": "markdown",
      "metadata": {
        "id": "q2ANt-zY-lMq",
        "colab_type": "text"
      },
      "source": [
        "#### Connect to Google Drive"
      ]
    },
    {
      "cell_type": "code",
      "metadata": {
        "id": "zG7vD_J0-k2B",
        "colab_type": "code",
        "colab": {
          "base_uri": "https://localhost:8080/",
          "height": 34
        },
        "outputId": "9a96cc6a-b416-442f-a6b5-32d3f06084c9"
      },
      "source": [
        "from google.colab import drive\n",
        "drive.mount('/content/gdrive')"
      ],
      "execution_count": 7,
      "outputs": [
        {
          "output_type": "stream",
          "text": [
            "Mounted at /content/gdrive\n"
          ],
          "name": "stdout"
        }
      ]
    },
    {
      "cell_type": "markdown",
      "metadata": {
        "id": "bmgMWUaH_auN",
        "colab_type": "text"
      },
      "source": [
        "#### Copy dataset from Google Drive and extract\n"
      ]
    },
    {
      "cell_type": "code",
      "metadata": {
        "id": "3zu4VQLR_Zch",
        "colab_type": "code",
        "colab": {}
      },
      "source": [
        "!cp /content/gdrive/My\\ Drive/Datasets/unmasked_photos.tar.gz /content/"
      ],
      "execution_count": 0,
      "outputs": []
    },
    {
      "cell_type": "code",
      "metadata": {
        "id": "7RoEzZifApIU",
        "colab_type": "code",
        "colab": {
          "base_uri": "https://localhost:8080/",
          "height": 34
        },
        "outputId": "b64ed04c-c35e-4824-b1bb-d3a0aa677ae3"
      },
      "source": [
        "!ls"
      ],
      "execution_count": 12,
      "outputs": [
        {
          "output_type": "stream",
          "text": [
            "content  gdrive  sample_data  unmasked_photos.tar.gz\n"
          ],
          "name": "stdout"
        }
      ]
    },
    {
      "cell_type": "markdown",
      "metadata": {
        "id": "5WszhBU23qMd",
        "colab_type": "text"
      },
      "source": [
        "#### Set image directory ####"
      ]
    },
    {
      "cell_type": "code",
      "metadata": {
        "id": "HBbtOyBm3qMe",
        "colab_type": "code",
        "colab": {}
      },
      "source": [
        "dataset_dir = \"dataset/unmasked\""
      ],
      "execution_count": 0,
      "outputs": []
    },
    {
      "cell_type": "markdown",
      "metadata": {
        "id": "D88WBZ0m3qMg",
        "colab_type": "text"
      },
      "source": [
        "#### Download required dependency "
      ]
    },
    {
      "cell_type": "code",
      "metadata": {
        "id": "cZSL5BGY3qMh",
        "colab_type": "code",
        "colab": {}
      },
      "source": [
        "!wget https://raw.githubusercontent.com/cloud-commander/face-mask-detection/master/utils/lbpcascade_frontalface_improved.xml"
      ],
      "execution_count": 0,
      "outputs": []
    },
    {
      "cell_type": "code",
      "metadata": {
        "id": "xOwIE7B33qMk",
        "colab_type": "code",
        "outputId": "f4ba14a6-0d4e-434d-8f4f-fca5e1d2870d",
        "colab": {}
      },
      "source": [
        "path = os.getcwd()\n",
        "filename = path + \"/\" + dataset_dir\n",
        "face_cascade = cv2.CascadeClassifier('lbpcascade_frontalface_improved.xml')\n",
        "dataset_labels_folder = dataset_dir + \"-labels\"\n",
        "dataset_labels_path = os.getcwd()+ \"/\"+ dataset_labels_folder \n",
        "print(dataset_labels_path)\n",
        "os.mkdir(dataset_labels_folder)\n"
      ],
      "execution_count": 0,
      "outputs": [
        {
          "output_type": "stream",
          "text": [
            "/home/jovyan/work/Generate_Data/dataset/unmasked-labels\n"
          ],
          "name": "stdout"
        }
      ]
    },
    {
      "cell_type": "code",
      "metadata": {
        "id": "8rosD9SW3qMm",
        "colab_type": "code",
        "colab": {}
      },
      "source": [
        "for subdir, dirs, files in os.walk(filename):\n",
        "    for file in files:\n",
        "\n",
        "        \n",
        "        img_path=os.path.join(subdir, file)\n",
        "        img_name=os.path.basename(img_path)\n",
        "\n",
        "        if img_path.lower().endswith(('.png', '.jpg', '.jpeg')):\n",
        "\n",
        "            img = cv2.imread(img_path)\n",
        "            gray = cv2.cvtColor(img, cv2.COLOR_BGR2GRAY)\n",
        "            h,w,bpp = np.shape(img)\n",
        "            imgp = Image.open(img_path)\n",
        "#            b, landmarks = detect_faces(imgp)\n",
        "            faces = face_cascade.detectMultiScale(gray, 1.3, 5)\n",
        "\n",
        "\n",
        "#            g=show_bboxes(imgp, b, landmarks)\n",
        "            #print(len(faces))\n",
        "            if len(faces) == 1 :\n",
        "                try :\n",
        "\n",
        "                    for bounding_boxes in faces:\n",
        "                        face = img[int(bounding_boxes[1]):int(bounding_boxes[3]),\n",
        "                        int(bounding_boxes[0]):int(bounding_boxes[2])]\n",
        "\n",
        "                        \n",
        "                        subdir_path, subdir_name = os.path.split(subdir)\n",
        "\n",
        "                        root = ET.Element(\"annotation\",verified=\"yes\")\n",
        "                        ET.SubElement(root, \"folder\").text=filename\n",
        "\n",
        "                        ET.SubElement(root, \"filename\").text = img_name\n",
        "                        ET.SubElement(root, \"path\").text = img_path\n",
        "\n",
        "                        source=ET.SubElement(root, \"source\")\n",
        "                        ET.SubElement(source, \"database\").text = \"unknown\"\n",
        "\n",
        "                        size=ET.SubElement(root, \"size\")\n",
        "                        ET.SubElement(size, \"width\").text = str(w)\n",
        "                        ET.SubElement(size, \"height\").text = str(h)\n",
        "                        ET.SubElement(size, \"depth\").text = str(bpp)\n",
        "\n",
        "                        ET.SubElement(root, \"segmented\").text = \"0\"\n",
        "\n",
        "                        obj=ET.SubElement(root, \"object\")\n",
        "                        ET.SubElement(obj, \"name\").text = subdir_name\n",
        "                        ET.SubElement(obj, \"pose\").text = \"Unspecified\"\n",
        "                        ET.SubElement(obj, \"truncated\").text = \"0\"\n",
        "                        ET.SubElement(obj, \"difficult\").text = \"0\"\n",
        "\n",
        "                        box=ET.SubElement(obj, \"bndbox\")\n",
        "                        ET.SubElement(box, \"xmin\").text = str(int(bounding_boxes[0]))\n",
        "                        ET.SubElement(box, \"ymin\").text = str(int(bounding_boxes[1]))\n",
        "                        ET.SubElement(box, \"xmax\").text = str(int(bounding_boxes[2])+int(bounding_boxes[1]))\n",
        "                        ET.SubElement(box, \"ymax\").text = str(int(bounding_boxes[3]))\n",
        "\n",
        "                        tree = ET.ElementTree(root)\n",
        "                        tree.write(os.path.join(dataset_labels_path, os.path.splitext(img_name)[0] + '.xml'))\n",
        "                        #tree.write(os.path.join(filename +\"-labels\", os.path.splitext(img_name)[0] + '.xml'))\n",
        "                        \n",
        "                except RuntimeError :\n",
        "                    with open(\"delete.txt\", \"a\") as myfile:\n",
        "                        myfile.write(img_path+\"\\n\")\n",
        "                \t#print(img_path)\n",
        "\n",
        "                else :\n",
        "                    with open(\"delete.txt\", \"a\") as myfile:\n",
        "                            myfile.write(img_path+\"\\n\")\n",
        "                    #print('no face')"
      ],
      "execution_count": 0,
      "outputs": []
    },
    {
      "cell_type": "code",
      "metadata": {
        "id": "4rACz-Pp3qMp",
        "colab_type": "code",
        "outputId": "70584f3b-50d4-4618-8fbf-7eaf142cb829",
        "colab": {}
      },
      "source": [
        "print(dataset_labels_path)"
      ],
      "execution_count": 0,
      "outputs": [
        {
          "output_type": "stream",
          "text": [
            "/home/jovyan/work/Generate_Data/dataset/unmasked-labels\n"
          ],
          "name": "stdout"
        }
      ]
    },
    {
      "cell_type": "markdown",
      "metadata": {
        "id": "dOfv89bB3qMs",
        "colab_type": "text"
      },
      "source": [
        "### Save Dataset"
      ]
    },
    {
      "cell_type": "code",
      "metadata": {
        "id": "3v_fAl5f3qMt",
        "colab_type": "code",
        "outputId": "12d774ea-6bc4-449f-9b6d-24c4363cebb6",
        "colab": {}
      },
      "source": [
        "source1 = filename + \"/\"\n",
        "source2 = dataset_labels_path + \"/\"\n",
        "\n",
        "destination = os.getcwd() + \"/training_demo\"+ \"/images\"\n",
        "if not os.path.exists(destination):\n",
        "    os.makedirs(destination)\n",
        "\n",
        "\n",
        "def move_files(source,destination):\n",
        "    files = os.listdir(source)\n",
        "    for f in files:\n",
        "        shutil.move(source+f, destination)\n",
        "\n",
        "\n",
        "move_files(source1,destination)\n",
        "move_files(source2,destination)\n",
        "\n",
        "# deletes source directories, use as needed\n",
        "os.rmdir(source2)\n",
        "os.rmdir(source1)"
      ],
      "execution_count": 0,
      "outputs": [
        {
          "output_type": "stream",
          "text": [
            "['6.jpg', '4.jpg', '1.jpg', '2.jpg', '3.jpg']\n",
            "/home/jovyan/work/Generate_Data/dataset/unmasked/\n",
            "/home/jovyan/work/Generate_Data/dataset/unmasked-labels/\n"
          ],
          "name": "stdout"
        }
      ]
    },
    {
      "cell_type": "markdown",
      "metadata": {
        "id": "Shb1wcX63qMw",
        "colab_type": "text"
      },
      "source": [
        "### Compress Dataset (Optional) ###\n",
        "\n",
        "Follow this step if you wish to archive your dataset for future use"
      ]
    },
    {
      "cell_type": "code",
      "metadata": {
        "id": "06jBg8YV3qMw",
        "colab_type": "code",
        "colab": {}
      },
      "source": [
        "#!zip -r unmasked-dataset.zip dataset\n",
        "#!tar -zcvf unmasked-dataset.tar.gz dataset"
      ],
      "execution_count": 0,
      "outputs": []
    }
  ]
}