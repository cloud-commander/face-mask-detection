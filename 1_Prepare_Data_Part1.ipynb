{
  "nbformat": 4,
  "nbformat_minor": 0,
  "metadata": {
    "kernelspec": {
      "display_name": "Python 3",
      "language": "python",
      "name": "python3"
    },
    "language_info": {
      "codemirror_mode": {
        "name": "ipython",
        "version": 3
      },
      "file_extension": ".py",
      "mimetype": "text/x-python",
      "name": "python",
      "nbconvert_exporter": "python",
      "pygments_lexer": "ipython3",
      "version": "3.7.6"
    },
    "colab": {
      "name": "1_Prepare_Data_Part1.ipynb",
      "provenance": [],
      "toc_visible": true
    },
    "accelerator": "GPU"
  },
  "cells": [
    {
      "cell_type": "markdown",
      "metadata": {
        "id": "yQiaYamV3qMV",
        "colab_type": "text"
      },
      "source": [
        "\n",
        "<a href=\"https://blog.cloudcommander.net\" target=\"_parent\"><img src=\"https://raw.githubusercontent.com/cloud-commander/hexoblog/master/cloud.png\" alt=\"Visit my Blog\">\n",
        "</a>\n",
        "<br> \n",
        "# <span style=\"font-family:Didot; font-size:3em;\"> Cloud Commander </span>\n"
      ]
    },
    {
      "cell_type": "markdown",
      "metadata": {
        "id": "8oF-vcdN3qMW",
        "colab_type": "text"
      },
      "source": [
        "<a href=\"https://colab.research.google.com/github/cloud-commander/face-mask-detection/blob/master/1_Prepare_Data_Part1.ipynb\" target=\"_parent\"><img src=\"https://colab.research.google.com/assets/colab-badge.svg\" alt=\"Open in Colab\"></a>\n",
        "&nbsp;&nbsp;&nbsp;&nbsp;\n",
        "<a href=\"https://github.com/cloud-commander/face-mask-detection/blob/master/1_Prepare_Data_Part1.ipynb\" target=\"_parent\"><img src=\"https://img.shields.io/static/v1?logo=GitHub&label=&color=333333&style=flat&message=View%20on%20GitHub\" alt=\"View in GitHub\"></a>\n",
        "\n"
      ]
    },
    {
      "cell_type": "markdown",
      "metadata": {
        "id": "joAqBlhb3qMX",
        "colab_type": "text"
      },
      "source": [
        "# Automatic Face Image Annotation  ##\n",
        "\n",
        "We start off the data preparation phase by pre-processing images in our dataset for the unmasked category.\n",
        "\n",
        "We have a selection of facial images and we need to draw bounding boxes around them. We could do that manually using a tool such as [labelImg](https://github.com/tzutalin/labelImg) however that would be slow, tedious and unnecessary for our purposes.\n",
        "\n",
        "Instead we will the face_recognition library (which employs a CNN) to automatically detect faces and generate an accompanying XML file for each image with the coordinates of the face. Now this method is far from foolproof as it only works properly with full frontal images of faces but its a good starting point. To avoid errors further down the line, you should check the results manually. \n",
        "\n"
      ]
    },
    {
      "cell_type": "markdown",
      "metadata": {
        "id": "PEXymWto3qMY",
        "colab_type": "text"
      },
      "source": [
        "## Import required libraries"
      ]
    },
    {
      "cell_type": "code",
      "metadata": {
        "id": "vi4FipKD3qMY",
        "colab_type": "code",
        "colab": {
          "base_uri": "https://localhost:8080/",
          "height": 1000
        },
        "outputId": "9f1081fa-c51b-4766-e471-29d3282849e5"
      },
      "source": [
        "!wget https://raw.githubusercontent.com/cloud-commander/face-mask-detection/master/config/constants.py\n",
        "from constants import *\n",
        "!wget {ANNOTATE}\n",
        "!wget {MOVE_FILES}\n",
        "\n",
        "!pip install face_recognition\n",
        "!pip install wget\n",
        "\n",
        "from annotate import * \n",
        "from move_files import * \n",
        "\n",
        "import os\n",
        "import glob\n",
        "from pathlib import Path\n",
        "import shutil\n"
      ],
      "execution_count": 1,
      "outputs": [
        {
          "output_type": "stream",
          "text": [
            "--2020-06-16 18:21:31--  https://raw.githubusercontent.com/cloud-commander/face-mask-detection/master/config/constants.py\n",
            "Resolving raw.githubusercontent.com (raw.githubusercontent.com)... 151.101.0.133, 151.101.64.133, 151.101.128.133, ...\n",
            "Connecting to raw.githubusercontent.com (raw.githubusercontent.com)|151.101.0.133|:443... connected.\n",
            "HTTP request sent, awaiting response... 200 OK\n",
            "Length: 6059 (5.9K) [text/plain]\n",
            "Saving to: ‘constants.py’\n",
            "\n",
            "\rconstants.py          0%[                    ]       0  --.-KB/s               \rconstants.py        100%[===================>]   5.92K  --.-KB/s    in 0s      \n",
            "\n",
            "2020-06-16 18:21:31 (74.6 MB/s) - ‘constants.py’ saved [6059/6059]\n",
            "\n",
            "--2020-06-16 18:21:32--  https://raw.githubusercontent.com/cloud-commander/face-mask-detection/master/utils/annotate.py\n",
            "Resolving raw.githubusercontent.com (raw.githubusercontent.com)... 151.101.0.133, 151.101.64.133, 151.101.128.133, ...\n",
            "Connecting to raw.githubusercontent.com (raw.githubusercontent.com)|151.101.0.133|:443... connected.\n",
            "HTTP request sent, awaiting response... 200 OK\n",
            "Length: 2289 (2.2K) [text/plain]\n",
            "Saving to: ‘annotate.py’\n",
            "\n",
            "annotate.py         100%[===================>]   2.24K  --.-KB/s    in 0s      \n",
            "\n",
            "2020-06-16 18:21:33 (35.3 MB/s) - ‘annotate.py’ saved [2289/2289]\n",
            "\n",
            "--2020-06-16 18:21:34--  https://raw.githubusercontent.com/cloud-commander/face-mask-detection/master/utils/move_files.py\n",
            "Resolving raw.githubusercontent.com (raw.githubusercontent.com)... 151.101.0.133, 151.101.64.133, 151.101.128.133, ...\n",
            "Connecting to raw.githubusercontent.com (raw.githubusercontent.com)|151.101.0.133|:443... connected.\n",
            "HTTP request sent, awaiting response... 200 OK\n",
            "Length: 687 [text/plain]\n",
            "Saving to: ‘move_files.py’\n",
            "\n",
            "move_files.py       100%[===================>]     687  --.-KB/s    in 0s      \n",
            "\n",
            "2020-06-16 18:21:34 (23.0 MB/s) - ‘move_files.py’ saved [687/687]\n",
            "\n",
            "Collecting face_recognition\n",
            "  Downloading https://files.pythonhosted.org/packages/1e/95/f6c9330f54ab07bfa032bf3715c12455a381083125d8880c43cbe76bb3d0/face_recognition-1.3.0-py2.py3-none-any.whl\n",
            "Requirement already satisfied: dlib>=19.7 in /usr/local/lib/python3.6/dist-packages (from face_recognition) (19.18.0)\n",
            "Requirement already satisfied: numpy in /usr/local/lib/python3.6/dist-packages (from face_recognition) (1.18.5)\n",
            "Requirement already satisfied: Click>=6.0 in /usr/local/lib/python3.6/dist-packages (from face_recognition) (7.1.2)\n",
            "Requirement already satisfied: Pillow in /usr/local/lib/python3.6/dist-packages (from face_recognition) (7.0.0)\n",
            "Collecting face-recognition-models>=0.3.0\n",
            "\u001b[?25l  Downloading https://files.pythonhosted.org/packages/cf/3b/4fd8c534f6c0d1b80ce0973d01331525538045084c73c153ee6df20224cf/face_recognition_models-0.3.0.tar.gz (100.1MB)\n",
            "\u001b[K     |████████████████████████████████| 100.2MB 35kB/s \n",
            "\u001b[?25hBuilding wheels for collected packages: face-recognition-models\n",
            "  Building wheel for face-recognition-models (setup.py) ... \u001b[?25l\u001b[?25hdone\n",
            "  Created wheel for face-recognition-models: filename=face_recognition_models-0.3.0-py2.py3-none-any.whl size=100566172 sha256=f924748b933985a966d6ce7ef8d518888ccb9f476c65f299f6d9128373a3e013\n",
            "  Stored in directory: /root/.cache/pip/wheels/d2/99/18/59c6c8f01e39810415c0e63f5bede7d83dfb0ffc039865465f\n",
            "Successfully built face-recognition-models\n",
            "Installing collected packages: face-recognition-models, face-recognition\n",
            "Successfully installed face-recognition-1.3.0 face-recognition-models-0.3.0\n",
            "Collecting wget\n",
            "  Downloading https://files.pythonhosted.org/packages/47/6a/62e288da7bcda82b935ff0c6cfe542970f04e29c756b0e147251b2fb251f/wget-3.2.zip\n",
            "Building wheels for collected packages: wget\n",
            "  Building wheel for wget (setup.py) ... \u001b[?25l\u001b[?25hdone\n",
            "  Created wheel for wget: filename=wget-3.2-cp36-none-any.whl size=9682 sha256=de803f5ec8b09af9637bc286ee457c8152c3c9ab86b7ac2b1a5dcd139ace6afc\n",
            "  Stored in directory: /root/.cache/pip/wheels/40/15/30/7d8f7cea2902b4db79e3fea550d7d7b85ecb27ef992b618f3f\n",
            "Successfully built wget\n",
            "Installing collected packages: wget\n",
            "Successfully installed wget-3.2\n"
          ],
          "name": "stdout"
        }
      ]
    },
    {
      "cell_type": "markdown",
      "metadata": {
        "id": "75Ru3IJu3qMc",
        "colab_type": "text"
      },
      "source": [
        "## Prepare dataset ###"
      ]
    },
    {
      "cell_type": "markdown",
      "metadata": {
        "id": "q2ANt-zY-lMq",
        "colab_type": "text"
      },
      "source": [
        "### Connect to Google Drive"
      ]
    },
    {
      "cell_type": "code",
      "metadata": {
        "id": "zG7vD_J0-k2B",
        "colab_type": "code",
        "colab": {
          "base_uri": "https://localhost:8080/",
          "height": 124
        },
        "outputId": "e7d52ae5-bfc6-4126-a324-968beda9ca08"
      },
      "source": [
        "from google.colab import drive\n",
        "\n",
        "drive.mount('/content/drive/')\n"
      ],
      "execution_count": 2,
      "outputs": [
        {
          "output_type": "stream",
          "text": [
            "Go to this URL in a browser: https://accounts.google.com/o/oauth2/auth?client_id=947318989803-6bn6qk8qdgf4n4g3pfee6491hc0brc4i.apps.googleusercontent.com&redirect_uri=urn%3aietf%3awg%3aoauth%3a2.0%3aoob&response_type=code&scope=email%20https%3a%2f%2fwww.googleapis.com%2fauth%2fdocs.test%20https%3a%2f%2fwww.googleapis.com%2fauth%2fdrive%20https%3a%2f%2fwww.googleapis.com%2fauth%2fdrive.photos.readonly%20https%3a%2f%2fwww.googleapis.com%2fauth%2fpeopleapi.readonly\n",
            "\n",
            "Enter your authorization code:\n",
            "··········\n",
            "Mounted at /content/drive/\n"
          ],
          "name": "stdout"
        }
      ]
    },
    {
      "cell_type": "markdown",
      "metadata": {
        "id": "bmgMWUaH_auN",
        "colab_type": "text"
      },
      "source": [
        "### Download faces dataset"
      ]
    },
    {
      "cell_type": "code",
      "metadata": {
        "id": "3zu4VQLR_Zch",
        "colab_type": "code",
        "colab": {
          "base_uri": "https://localhost:8080/",
          "height": 1000
        },
        "outputId": "5b0afc67-e3bf-421e-cbf6-9144c3df8040"
      },
      "source": [
        "%cd {DATASET_DIR_TMP1}\n",
        "!wget https://raw.githubusercontent.com/cloud-commander/face-mask-detection/master/data/100_faces_320x320_dataset_set_1.zip\n",
        "!unzip -j 100_faces_320x320_dataset_set_1.zip '*.jpg'\n",
        "!rm 100_faces_320x320_dataset_set_1.zip"
      ],
      "execution_count": 3,
      "outputs": [
        {
          "output_type": "stream",
          "text": [
            "/content/Face-Mask-Detection/dataset/tmp1\n",
            "--2020-06-16 18:22:48--  https://raw.githubusercontent.com/cloud-commander/face-mask-detection/master/data/100_faces_320x320_dataset_set_1.zip\n",
            "Resolving raw.githubusercontent.com (raw.githubusercontent.com)... 151.101.0.133, 151.101.64.133, 151.101.128.133, ...\n",
            "Connecting to raw.githubusercontent.com (raw.githubusercontent.com)|151.101.0.133|:443... connected.\n",
            "HTTP request sent, awaiting response... 200 OK\n",
            "Length: 2585344 (2.5M) [application/zip]\n",
            "Saving to: ‘100_faces_320x320_dataset_set_1.zip’\n",
            "\n",
            "100_faces_320x320_d 100%[===================>]   2.46M  15.0MB/s    in 0.2s    \n",
            "\n",
            "2020-06-16 18:22:49 (15.0 MB/s) - ‘100_faces_320x320_dataset_set_1.zip’ saved [2585344/2585344]\n",
            "\n",
            "Archive:  100_faces_320x320_dataset_set_1.zip\n",
            "  inflating: 000N7AIAFT.jpg          \n",
            "  inflating: 00H858UYSD.jpg          \n",
            "  inflating: 00KPGHV40E.jpg          \n",
            "  inflating: 00P2LUXJW3.jpg          \n",
            "  inflating: 00PYA83V1P.jpg          \n",
            "  inflating: 00SD82OK2A.jpg          \n",
            "  inflating: 00TMYXA5DF.jpg          \n",
            "  inflating: 00V5CZZSSO.jpg          \n",
            "  inflating: 00W5NPIX4S.jpg          \n",
            "  inflating: 00XN46VW5G.jpg          \n",
            "  inflating: 0A6PTW9HNO.jpg          \n",
            "  inflating: 0A7ZAR7TXD.jpg          \n",
            "  inflating: 0A93USXUHR.jpg          \n",
            "  inflating: 0AMNAPIFEX.jpg          \n",
            "  inflating: 0AVYPS1922.jpg          \n",
            "  inflating: 0AWDJI25RA.jpg          \n",
            "  inflating: 0B46T6H6JH.jpg          \n",
            "  inflating: 0B5FTKO3C3.jpg          \n",
            "  inflating: 0BC6IXBF4Y.jpg          \n",
            "  inflating: 0BCWVEM4BQ.jpg          \n",
            "  inflating: 0BGP13VLFB.jpg          \n",
            "  inflating: 0BGX87241F.jpg          \n",
            "  inflating: 0BPKPLDDOG.jpg          \n",
            "  inflating: 0BX608170T.jpg          \n",
            "  inflating: 0BZIGMN6GX.jpg          \n",
            "  inflating: 0C1LLBFNTO.jpg          \n",
            "  inflating: 0C3C6RIWZD.jpg          \n",
            "  inflating: 0C7W986XMK.jpg          \n",
            "  inflating: 0CBHLGAMTY.jpg          \n",
            "  inflating: 0COHPC8N1I.jpg          \n",
            "  inflating: 0CTESB0KRT.jpg          \n",
            "  inflating: 0CV7E5UBZO.jpg          \n",
            "  inflating: 0CV9DYBJPJ.jpg          \n",
            "  inflating: 0D8GYEZ5ZV.jpg          \n",
            "  inflating: 0DD4NVKTZF.jpg          \n",
            "  inflating: 0DG6WQSN05.jpg          \n",
            "  inflating: 0DI8PN1TGQ.jpg          \n",
            "  inflating: 0DKTHHA6TX.jpg          \n",
            "  inflating: 0DTH93OLW7.jpg          \n",
            "  inflating: 0DWZ04EH1A.jpg          \n",
            "  inflating: 0DXOQF3NVN.jpg          \n",
            "  inflating: 0DZSXI3MR8.jpg          \n",
            "  inflating: 0E48SPR74Z.jpg          \n",
            "  inflating: 0EACP6JNO3.jpg          \n",
            "  inflating: 0EGDX5ZGUW.jpg          \n",
            "  inflating: 0ENKTDGKFN.jpg          \n",
            "  inflating: 0ER6J3TTCC.jpg          \n",
            "  inflating: 0ETHS2R1AM.jpg          \n",
            "  inflating: 0EVWX6WVST.jpg          \n",
            "  inflating: 0F4MX6WXJH.jpg          \n",
            "  inflating: 0F4PJ1INVA.jpg          \n",
            "  inflating: 0FKX2W9XRP.jpg          \n",
            "  inflating: 0FNOXNSIMF.jpg          \n",
            "  inflating: 0FR4JKA6IG.jpg          \n",
            "  inflating: 0G11SUB6LB.jpg          \n",
            "  inflating: 0G6FKI8ITN.jpg          \n",
            "  inflating: 0G7V5WPBPK.jpg          \n",
            "  inflating: 0G83XR0D0A.jpg          \n",
            "  inflating: 0G8BKB200W.jpg          \n",
            "  inflating: 0GCRHZJK6N.jpg          \n",
            "  inflating: 0GHTF562EI.jpg          \n",
            "  inflating: 0GK736YMYS.jpg          \n",
            "  inflating: 0GMDP1DZOX.jpg          \n",
            "  inflating: 0GQ6QCBNO1.jpg          \n",
            "  inflating: 0GR11YO75Z.jpg          \n",
            "  inflating: 0GZIEQORIA.jpg          \n",
            "  inflating: 0H5F5OA4RM.jpg          \n",
            "  inflating: 0HN7YSCEPL.jpg          \n",
            "  inflating: 0HO4TZIX5J.jpg          \n",
            "  inflating: 0HQIID8DIP.jpg          \n",
            "  inflating: 0HR99YY6LP.jpg          \n",
            "  inflating: 0HWJIT5MPO.jpg          \n",
            "  inflating: 0HXEUZMTWU.jpg          \n",
            "  inflating: 0I054M6MFU.jpg          \n",
            "  inflating: 0IBCU9AUZ8.jpg          \n",
            "  inflating: 0IC9UGC4MS.jpg          \n",
            "  inflating: 0IFEVPTH3Q.jpg          \n",
            "  inflating: 0IJF1NBJNI.jpg          \n",
            "  inflating: 0IQXFJKR6N.jpg          \n",
            "  inflating: 0J094JR6UX.jpg          \n",
            "  inflating: 0J87GRUOWJ.jpg          \n",
            "  inflating: 0JFMD8WL83.jpg          \n",
            "  inflating: 0JG1176B0O.jpg          \n",
            "  inflating: 0JGUNFCD9J.jpg          \n",
            "  inflating: 0JHNR9SEXC.jpg          \n",
            "  inflating: 0JL93FMA16.jpg          \n",
            "  inflating: 0JRD1GF64T.jpg          \n",
            "  inflating: 0JYIKNFHND.jpg          \n",
            "  inflating: 0K8CFMRZZ5.jpg          \n",
            "  inflating: 0KABUTJ4BF.jpg          \n",
            "  inflating: 0KF2WT928J.jpg          \n",
            "  inflating: 0KGASNTJV4.jpg          \n",
            "  inflating: 0KO58WCDUV.jpg          \n",
            "  inflating: 0KOFYA2DH9.jpg          \n",
            "  inflating: 0KX827WMKD.jpg          \n",
            "  inflating: 0L2FOM8SKR.jpg          \n",
            "  inflating: 0L9UEYZVE9.jpg          \n",
            "  inflating: 0LDQF9WB2T.jpg          \n",
            "  inflating: 0LFMCP45ZC.jpg          \n",
            "  inflating: 0LG7L4C8S0.jpg          \n"
          ],
          "name": "stdout"
        }
      ]
    },
    {
      "cell_type": "markdown",
      "metadata": {
        "id": "D88WBZ0m3qMg",
        "colab_type": "text"
      },
      "source": [
        "## Annotate the images\n",
        "Calls the annotate function to automatically annotate the faces in our image folder and outputs XML files."
      ]
    },
    {
      "cell_type": "code",
      "metadata": {
        "id": "xOwIE7B33qMk",
        "colab_type": "code",
        "colab": {}
      },
      "source": [
        "annotate(DATASET_DIR_TMP1,DATASET_DIR_TMP2,\"UNMASKED\")"
      ],
      "execution_count": 4,
      "outputs": []
    },
    {
      "cell_type": "markdown",
      "metadata": {
        "id": "dOfv89bB3qMs",
        "colab_type": "text"
      },
      "source": [
        "## Save Dataset"
      ]
    },
    {
      "cell_type": "markdown",
      "metadata": {
        "id": "8jbj37KMCn-5",
        "colab_type": "text"
      },
      "source": [
        "### Move files from temp to correct location"
      ]
    },
    {
      "cell_type": "code",
      "metadata": {
        "id": "3v_fAl5f3qMt",
        "colab_type": "code",
        "colab": {
          "base_uri": "https://localhost:8080/",
          "height": 52
        },
        "outputId": "a1ebccc5-f488-4866-ca0f-a47726cf0b24"
      },
      "source": [
        "#Return a list of items that have both images and XML files\n",
        "matches = compare_intersect(DATASET_DIR_TMP1,DATASET_DIR_TMP2)\n",
        "\n",
        "#Move the images and the annotations from the temp location\n",
        "move_files(DATASET_DIR_TMP1,DATASET_DIR_UNPREP_IMG, matches)\n",
        "move_files(DATASET_DIR_TMP2,DATASET_DIR_UNPREP_ANNO, matches)"
      ],
      "execution_count": 5,
      "outputs": [
        {
          "output_type": "stream",
          "text": [
            "Files moved: 100\n",
            "Files moved: 100\n"
          ],
          "name": "stdout"
        }
      ]
    },
    {
      "cell_type": "markdown",
      "metadata": {
        "id": "Shb1wcX63qMw",
        "colab_type": "text"
      },
      "source": [
        "### Compress Dataset and Save Dataset to Google Drive\n"
      ]
    },
    {
      "cell_type": "code",
      "metadata": {
        "id": "06jBg8YV3qMw",
        "colab_type": "code",
        "colab": {
          "base_uri": "https://localhost:8080/",
          "height": 1000
        },
        "outputId": "7c440baa-0502-4a64-8a82-470fb95a06c6"
      },
      "source": [
        "%cd /content/\n",
        "!zip -r part1-datasetv1.zip {DATASET_DIR_UNPREP}\n",
        "!gsutil cp part1-datasetv1.zip {DRIVE_DEV}"
      ],
      "execution_count": 9,
      "outputs": [
        {
          "output_type": "stream",
          "text": [
            "/content\n",
            "  adding: content/Face-Mask-Detection/dataset/unprepared/ (stored 0%)\n",
            "  adding: content/Face-Mask-Detection/dataset/unprepared/images/ (stored 0%)\n",
            "  adding: content/Face-Mask-Detection/dataset/unprepared/images/0GHTF562EI.jpg (deflated 0%)\n",
            "  adding: content/Face-Mask-Detection/dataset/unprepared/images/00KPGHV40E.jpg (deflated 0%)\n",
            "  adding: content/Face-Mask-Detection/dataset/unprepared/images/0J87GRUOWJ.jpg (deflated 0%)\n",
            "  adding: content/Face-Mask-Detection/dataset/unprepared/images/0GMDP1DZOX.jpg (deflated 0%)\n",
            "  adding: content/Face-Mask-Detection/dataset/unprepared/images/0KGASNTJV4.jpg (deflated 0%)\n",
            "  adding: content/Face-Mask-Detection/dataset/unprepared/images/0E48SPR74Z.jpg (deflated 0%)\n",
            "  adding: content/Face-Mask-Detection/dataset/unprepared/images/0ENKTDGKFN.jpg (deflated 0%)\n",
            "  adding: content/Face-Mask-Detection/dataset/unprepared/images/0DI8PN1TGQ.jpg (deflated 0%)\n",
            "  adding: content/Face-Mask-Detection/dataset/unprepared/images/0CV9DYBJPJ.jpg (deflated 0%)\n",
            "  adding: content/Face-Mask-Detection/dataset/unprepared/images/0HN7YSCEPL.jpg (deflated 0%)\n",
            "  adding: content/Face-Mask-Detection/dataset/unprepared/images/0ETHS2R1AM.jpg (deflated 0%)\n",
            "  adding: content/Face-Mask-Detection/dataset/unprepared/images/0BPKPLDDOG.jpg (deflated 0%)\n",
            "  adding: content/Face-Mask-Detection/dataset/unprepared/images/0A6PTW9HNO.jpg (deflated 0%)\n",
            "  adding: content/Face-Mask-Detection/dataset/unprepared/images/0AWDJI25RA.jpg (deflated 0%)\n",
            "  adding: content/Face-Mask-Detection/dataset/unprepared/images/00SD82OK2A.jpg (deflated 0%)\n",
            "  adding: content/Face-Mask-Detection/dataset/unprepared/images/0LFMCP45ZC.jpg (deflated 0%)\n",
            "  adding: content/Face-Mask-Detection/dataset/unprepared/images/000N7AIAFT.jpg (deflated 0%)\n",
            "  adding: content/Face-Mask-Detection/dataset/unprepared/images/00PYA83V1P.jpg (deflated 0%)\n",
            "  adding: content/Face-Mask-Detection/dataset/unprepared/images/0A7ZAR7TXD.jpg (deflated 0%)\n",
            "  adding: content/Face-Mask-Detection/dataset/unprepared/images/00H858UYSD.jpg (deflated 0%)\n",
            "  adding: content/Face-Mask-Detection/dataset/unprepared/images/0GQ6QCBNO1.jpg (deflated 0%)\n",
            "  adding: content/Face-Mask-Detection/dataset/unprepared/images/0G7V5WPBPK.jpg (deflated 0%)\n",
            "  adding: content/Face-Mask-Detection/dataset/unprepared/images/0IC9UGC4MS.jpg (deflated 0%)\n",
            "  adding: content/Face-Mask-Detection/dataset/unprepared/images/0DZSXI3MR8.jpg (deflated 0%)\n",
            "  adding: content/Face-Mask-Detection/dataset/unprepared/images/0HXEUZMTWU.jpg (deflated 0%)\n",
            "  adding: content/Face-Mask-Detection/dataset/unprepared/images/0KABUTJ4BF.jpg (deflated 0%)\n",
            "  adding: content/Face-Mask-Detection/dataset/unprepared/images/0LG7L4C8S0.jpg (deflated 0%)\n",
            "  adding: content/Face-Mask-Detection/dataset/unprepared/images/0BCWVEM4BQ.jpg (deflated 0%)\n",
            "  adding: content/Face-Mask-Detection/dataset/unprepared/images/0DWZ04EH1A.jpg (deflated 0%)\n",
            "  adding: content/Face-Mask-Detection/dataset/unprepared/images/0G6FKI8ITN.jpg (deflated 0%)\n",
            "  adding: content/Face-Mask-Detection/dataset/unprepared/images/0CBHLGAMTY.jpg (deflated 0%)\n",
            "  adding: content/Face-Mask-Detection/dataset/unprepared/images/0HR99YY6LP.jpg (deflated 0%)\n",
            "  adding: content/Face-Mask-Detection/dataset/unprepared/images/0EVWX6WVST.jpg (deflated 0%)\n",
            "  adding: content/Face-Mask-Detection/dataset/unprepared/images/00XN46VW5G.jpg (deflated 0%)\n",
            "  adding: content/Face-Mask-Detection/dataset/unprepared/images/0CV7E5UBZO.jpg (deflated 0%)\n",
            "  adding: content/Face-Mask-Detection/dataset/unprepared/images/0I054M6MFU.jpg (deflated 0%)\n",
            "  adding: content/Face-Mask-Detection/dataset/unprepared/images/0DKTHHA6TX.jpg (deflated 0%)\n",
            "  adding: content/Face-Mask-Detection/dataset/unprepared/images/0GCRHZJK6N.jpg (deflated 0%)\n",
            "  adding: content/Face-Mask-Detection/dataset/unprepared/images/0LDQF9WB2T.jpg (deflated 0%)\n",
            "  adding: content/Face-Mask-Detection/dataset/unprepared/images/0DXOQF3NVN.jpg (deflated 0%)\n",
            "  adding: content/Face-Mask-Detection/dataset/unprepared/images/0C3C6RIWZD.jpg (deflated 0%)\n",
            "  adding: content/Face-Mask-Detection/dataset/unprepared/images/0ER6J3TTCC.jpg (deflated 0%)\n",
            "  adding: content/Face-Mask-Detection/dataset/unprepared/images/0EGDX5ZGUW.jpg (deflated 0%)\n",
            "  adding: content/Face-Mask-Detection/dataset/unprepared/images/0IBCU9AUZ8.jpg (deflated 0%)\n",
            "  adding: content/Face-Mask-Detection/dataset/unprepared/images/00V5CZZSSO.jpg (deflated 0%)\n",
            "  adding: content/Face-Mask-Detection/dataset/unprepared/images/0IFEVPTH3Q.jpg (deflated 0%)\n",
            "  adding: content/Face-Mask-Detection/dataset/unprepared/images/0AVYPS1922.jpg (deflated 0%)\n",
            "  adding: content/Face-Mask-Detection/dataset/unprepared/images/0JGUNFCD9J.jpg (deflated 0%)\n",
            "  adding: content/Face-Mask-Detection/dataset/unprepared/images/0BC6IXBF4Y.jpg (deflated 0%)\n",
            "  adding: content/Face-Mask-Detection/dataset/unprepared/images/0K8CFMRZZ5.jpg (deflated 0%)\n",
            "  adding: content/Face-Mask-Detection/dataset/unprepared/images/0B46T6H6JH.jpg (deflated 0%)\n",
            "  adding: content/Face-Mask-Detection/dataset/unprepared/images/0KX827WMKD.jpg (deflated 0%)\n",
            "  adding: content/Face-Mask-Detection/dataset/unprepared/images/0JL93FMA16.jpg (deflated 0%)\n",
            "  adding: content/Face-Mask-Detection/dataset/unprepared/images/0DG6WQSN05.jpg (deflated 0%)\n",
            "  adding: content/Face-Mask-Detection/dataset/unprepared/images/0G11SUB6LB.jpg (deflated 0%)\n",
            "  adding: content/Face-Mask-Detection/dataset/unprepared/images/0JYIKNFHND.jpg (deflated 0%)\n",
            "  adding: content/Face-Mask-Detection/dataset/unprepared/images/0B5FTKO3C3.jpg (deflated 0%)\n",
            "  adding: content/Face-Mask-Detection/dataset/unprepared/images/0JHNR9SEXC.jpg (deflated 0%)\n",
            "  adding: content/Face-Mask-Detection/dataset/unprepared/images/0D8GYEZ5ZV.jpg (deflated 0%)\n",
            "  adding: content/Face-Mask-Detection/dataset/unprepared/images/00W5NPIX4S.jpg (deflated 0%)\n",
            "  adding: content/Face-Mask-Detection/dataset/unprepared/images/0COHPC8N1I.jpg (deflated 0%)\n",
            "  adding: content/Face-Mask-Detection/dataset/unprepared/images/0JG1176B0O.jpg (deflated 0%)\n",
            "  adding: content/Face-Mask-Detection/dataset/unprepared/images/0G83XR0D0A.jpg (deflated 0%)\n",
            "  adding: content/Face-Mask-Detection/dataset/unprepared/images/0HO4TZIX5J.jpg (deflated 0%)\n",
            "  adding: content/Face-Mask-Detection/dataset/unprepared/images/0L2FOM8SKR.jpg (deflated 0%)\n",
            "  adding: content/Face-Mask-Detection/dataset/unprepared/images/0C1LLBFNTO.jpg (deflated 0%)\n",
            "  adding: content/Face-Mask-Detection/dataset/unprepared/images/0BX608170T.jpg (deflated 0%)\n",
            "  adding: content/Face-Mask-Detection/dataset/unprepared/images/0F4MX6WXJH.jpg (deflated 0%)\n",
            "  adding: content/Face-Mask-Detection/dataset/unprepared/images/0KO58WCDUV.jpg (deflated 0%)\n",
            "  adding: content/Face-Mask-Detection/dataset/unprepared/images/0JFMD8WL83.jpg (deflated 0%)\n",
            "  adding: content/Face-Mask-Detection/dataset/unprepared/images/0F4PJ1INVA.jpg (deflated 0%)\n",
            "  adding: content/Face-Mask-Detection/dataset/unprepared/images/0FR4JKA6IG.jpg (deflated 0%)\n",
            "  adding: content/Face-Mask-Detection/dataset/unprepared/images/0DTH93OLW7.jpg (deflated 0%)\n",
            "  adding: content/Face-Mask-Detection/dataset/unprepared/images/0JRD1GF64T.jpg (deflated 0%)\n",
            "  adding: content/Face-Mask-Detection/dataset/unprepared/images/0EACP6JNO3.jpg (deflated 0%)\n",
            "  adding: content/Face-Mask-Detection/dataset/unprepared/images/0BGX87241F.jpg (deflated 0%)\n",
            "  adding: content/Face-Mask-Detection/dataset/unprepared/images/0IQXFJKR6N.jpg (deflated 0%)\n",
            "  adding: content/Face-Mask-Detection/dataset/unprepared/images/0GZIEQORIA.jpg (deflated 0%)\n",
            "  adding: content/Face-Mask-Detection/dataset/unprepared/images/0KF2WT928J.jpg (deflated 0%)\n",
            "  adding: content/Face-Mask-Detection/dataset/unprepared/images/0BGP13VLFB.jpg (deflated 0%)\n",
            "  adding: content/Face-Mask-Detection/dataset/unprepared/images/00P2LUXJW3.jpg (deflated 0%)\n",
            "  adding: content/Face-Mask-Detection/dataset/unprepared/images/0CTESB0KRT.jpg (deflated 0%)\n",
            "  adding: content/Face-Mask-Detection/dataset/unprepared/images/0HWJIT5MPO.jpg (deflated 0%)\n",
            "  adding: content/Face-Mask-Detection/dataset/unprepared/images/0A93USXUHR.jpg (deflated 0%)\n",
            "  adding: content/Face-Mask-Detection/dataset/unprepared/images/0KOFYA2DH9.jpg (deflated 0%)\n",
            "  adding: content/Face-Mask-Detection/dataset/unprepared/images/0GR11YO75Z.jpg (deflated 0%)\n",
            "  adding: content/Face-Mask-Detection/dataset/unprepared/images/0C7W986XMK.jpg (deflated 0%)\n",
            "  adding: content/Face-Mask-Detection/dataset/unprepared/images/00TMYXA5DF.jpg (deflated 0%)\n",
            "  adding: content/Face-Mask-Detection/dataset/unprepared/images/0J094JR6UX.jpg (deflated 0%)\n",
            "  adding: content/Face-Mask-Detection/dataset/unprepared/images/0HQIID8DIP.jpg (deflated 0%)\n",
            "  adding: content/Face-Mask-Detection/dataset/unprepared/images/0DD4NVKTZF.jpg (deflated 0%)\n",
            "  adding: content/Face-Mask-Detection/dataset/unprepared/images/0L9UEYZVE9.jpg (deflated 0%)\n",
            "  adding: content/Face-Mask-Detection/dataset/unprepared/images/0AMNAPIFEX.jpg (deflated 0%)\n",
            "  adding: content/Face-Mask-Detection/dataset/unprepared/images/0H5F5OA4RM.jpg (deflated 0%)\n",
            "  adding: content/Face-Mask-Detection/dataset/unprepared/images/0FNOXNSIMF.jpg (deflated 0%)\n",
            "  adding: content/Face-Mask-Detection/dataset/unprepared/images/0G8BKB200W.jpg (deflated 0%)\n",
            "  adding: content/Face-Mask-Detection/dataset/unprepared/images/0IJF1NBJNI.jpg (deflated 0%)\n",
            "  adding: content/Face-Mask-Detection/dataset/unprepared/images/0BZIGMN6GX.jpg (deflated 0%)\n",
            "  adding: content/Face-Mask-Detection/dataset/unprepared/images/0FKX2W9XRP.jpg (deflated 0%)\n",
            "  adding: content/Face-Mask-Detection/dataset/unprepared/images/0GK736YMYS.jpg (deflated 0%)\n",
            "  adding: content/Face-Mask-Detection/dataset/unprepared/annotations/ (stored 0%)\n",
            "  adding: content/Face-Mask-Detection/dataset/unprepared/annotations/0EACP6JNO3.xml (deflated 42%)\n",
            "  adding: content/Face-Mask-Detection/dataset/unprepared/annotations/0JRD1GF64T.xml (deflated 41%)\n",
            "  adding: content/Face-Mask-Detection/dataset/unprepared/annotations/000N7AIAFT.xml (deflated 42%)\n",
            "  adding: content/Face-Mask-Detection/dataset/unprepared/annotations/0F4MX6WXJH.xml (deflated 41%)\n",
            "  adding: content/Face-Mask-Detection/dataset/unprepared/annotations/0B46T6H6JH.xml (deflated 41%)\n",
            "  adding: content/Face-Mask-Detection/dataset/unprepared/annotations/0GK736YMYS.xml (deflated 41%)\n",
            "  adding: content/Face-Mask-Detection/dataset/unprepared/annotations/0CV9DYBJPJ.xml (deflated 41%)\n",
            "  adding: content/Face-Mask-Detection/dataset/unprepared/annotations/0IC9UGC4MS.xml (deflated 41%)\n",
            "  adding: content/Face-Mask-Detection/dataset/unprepared/annotations/0KOFYA2DH9.xml (deflated 41%)\n",
            "  adding: content/Face-Mask-Detection/dataset/unprepared/annotations/0GR11YO75Z.xml (deflated 41%)\n",
            "  adding: content/Face-Mask-Detection/dataset/unprepared/annotations/0HO4TZIX5J.xml (deflated 41%)\n",
            "  adding: content/Face-Mask-Detection/dataset/unprepared/annotations/0GQ6QCBNO1.xml (deflated 42%)\n",
            "  adding: content/Face-Mask-Detection/dataset/unprepared/annotations/0G8BKB200W.xml (deflated 42%)\n",
            "  adding: content/Face-Mask-Detection/dataset/unprepared/annotations/0BC6IXBF4Y.xml (deflated 41%)\n",
            "  adding: content/Face-Mask-Detection/dataset/unprepared/annotations/0HN7YSCEPL.xml (deflated 41%)\n",
            "  adding: content/Face-Mask-Detection/dataset/unprepared/annotations/0I054M6MFU.xml (deflated 41%)\n",
            "  adding: content/Face-Mask-Detection/dataset/unprepared/annotations/00SD82OK2A.xml (deflated 42%)\n",
            "  adding: content/Face-Mask-Detection/dataset/unprepared/annotations/0A7ZAR7TXD.xml (deflated 41%)\n",
            "  adding: content/Face-Mask-Detection/dataset/unprepared/annotations/0IFEVPTH3Q.xml (deflated 41%)\n",
            "  adding: content/Face-Mask-Detection/dataset/unprepared/annotations/0ER6J3TTCC.xml (deflated 42%)\n",
            "  adding: content/Face-Mask-Detection/dataset/unprepared/annotations/0KO58WCDUV.xml (deflated 42%)\n",
            "  adding: content/Face-Mask-Detection/dataset/unprepared/annotations/0L2FOM8SKR.xml (deflated 41%)\n",
            "  adding: content/Face-Mask-Detection/dataset/unprepared/annotations/0A6PTW9HNO.xml (deflated 41%)\n",
            "  adding: content/Face-Mask-Detection/dataset/unprepared/annotations/0K8CFMRZZ5.xml (deflated 41%)\n",
            "  adding: content/Face-Mask-Detection/dataset/unprepared/annotations/0DZSXI3MR8.xml (deflated 41%)\n",
            "  adding: content/Face-Mask-Detection/dataset/unprepared/annotations/0L9UEYZVE9.xml (deflated 41%)\n",
            "  adding: content/Face-Mask-Detection/dataset/unprepared/annotations/00XN46VW5G.xml (deflated 41%)\n",
            "  adding: content/Face-Mask-Detection/dataset/unprepared/annotations/0C7W986XMK.xml (deflated 41%)\n",
            "  adding: content/Face-Mask-Detection/dataset/unprepared/annotations/0COHPC8N1I.xml (deflated 41%)\n",
            "  adding: content/Face-Mask-Detection/dataset/unprepared/annotations/0HXEUZMTWU.xml (deflated 41%)\n",
            "  adding: content/Face-Mask-Detection/dataset/unprepared/annotations/0BZIGMN6GX.xml (deflated 41%)\n",
            "  adding: content/Face-Mask-Detection/dataset/unprepared/annotations/0AVYPS1922.xml (deflated 41%)\n",
            "  adding: content/Face-Mask-Detection/dataset/unprepared/annotations/0ENKTDGKFN.xml (deflated 41%)\n",
            "  adding: content/Face-Mask-Detection/dataset/unprepared/annotations/0KGASNTJV4.xml (deflated 41%)\n",
            "  adding: content/Face-Mask-Detection/dataset/unprepared/annotations/0HQIID8DIP.xml (deflated 43%)\n",
            "  adding: content/Face-Mask-Detection/dataset/unprepared/annotations/0G83XR0D0A.xml (deflated 41%)\n",
            "  adding: content/Face-Mask-Detection/dataset/unprepared/annotations/0IJF1NBJNI.xml (deflated 41%)\n",
            "  adding: content/Face-Mask-Detection/dataset/unprepared/annotations/0KX827WMKD.xml (deflated 42%)\n",
            "  adding: content/Face-Mask-Detection/dataset/unprepared/annotations/0GMDP1DZOX.xml (deflated 42%)\n",
            "  adding: content/Face-Mask-Detection/dataset/unprepared/annotations/0EVWX6WVST.xml (deflated 41%)\n",
            "  adding: content/Face-Mask-Detection/dataset/unprepared/annotations/0JHNR9SEXC.xml (deflated 41%)\n",
            "  adding: content/Face-Mask-Detection/dataset/unprepared/annotations/0F4PJ1INVA.xml (deflated 42%)\n",
            "  adding: content/Face-Mask-Detection/dataset/unprepared/annotations/0BGX87241F.xml (deflated 42%)\n",
            "  adding: content/Face-Mask-Detection/dataset/unprepared/annotations/0A93USXUHR.xml (deflated 41%)\n",
            "  adding: content/Face-Mask-Detection/dataset/unprepared/annotations/00P2LUXJW3.xml (deflated 41%)\n",
            "  adding: content/Face-Mask-Detection/dataset/unprepared/annotations/0DD4NVKTZF.xml (deflated 41%)\n",
            "  adding: content/Face-Mask-Detection/dataset/unprepared/annotations/0FR4JKA6IG.xml (deflated 41%)\n",
            "  adding: content/Face-Mask-Detection/dataset/unprepared/annotations/0GCRHZJK6N.xml (deflated 41%)\n",
            "  adding: content/Face-Mask-Detection/dataset/unprepared/annotations/0CTESB0KRT.xml (deflated 43%)\n",
            "  adding: content/Face-Mask-Detection/dataset/unprepared/annotations/0JG1176B0O.xml (deflated 41%)\n",
            "  adding: content/Face-Mask-Detection/dataset/unprepared/annotations/0DWZ04EH1A.xml (deflated 41%)\n",
            "  adding: content/Face-Mask-Detection/dataset/unprepared/annotations/0BCWVEM4BQ.xml (deflated 41%)\n",
            "  adding: content/Face-Mask-Detection/dataset/unprepared/annotations/0HWJIT5MPO.xml (deflated 41%)\n",
            "  adding: content/Face-Mask-Detection/dataset/unprepared/annotations/0BPKPLDDOG.xml (deflated 41%)\n",
            "  adding: content/Face-Mask-Detection/dataset/unprepared/annotations/00H858UYSD.xml (deflated 42%)\n",
            "  adding: content/Face-Mask-Detection/dataset/unprepared/annotations/0DKTHHA6TX.xml (deflated 41%)\n",
            "  adding: content/Face-Mask-Detection/dataset/unprepared/annotations/0LG7L4C8S0.xml (deflated 41%)\n",
            "  adding: content/Face-Mask-Detection/dataset/unprepared/annotations/0D8GYEZ5ZV.xml (deflated 41%)\n",
            "  adding: content/Face-Mask-Detection/dataset/unprepared/annotations/0BX608170T.xml (deflated 42%)\n",
            "  adding: content/Face-Mask-Detection/dataset/unprepared/annotations/0B5FTKO3C3.xml (deflated 42%)\n",
            "  adding: content/Face-Mask-Detection/dataset/unprepared/annotations/0DI8PN1TGQ.xml (deflated 41%)\n",
            "  adding: content/Face-Mask-Detection/dataset/unprepared/annotations/0IBCU9AUZ8.xml (deflated 41%)\n",
            "  adding: content/Face-Mask-Detection/dataset/unprepared/annotations/0LDQF9WB2T.xml (deflated 41%)\n",
            "  adding: content/Face-Mask-Detection/dataset/unprepared/annotations/0EGDX5ZGUW.xml (deflated 41%)\n",
            "  adding: content/Face-Mask-Detection/dataset/unprepared/annotations/0JYIKNFHND.xml (deflated 41%)\n",
            "  adding: content/Face-Mask-Detection/dataset/unprepared/annotations/0KF2WT928J.xml (deflated 41%)\n",
            "  adding: content/Face-Mask-Detection/dataset/unprepared/annotations/0J87GRUOWJ.xml (deflated 42%)\n",
            "  adding: content/Face-Mask-Detection/dataset/unprepared/annotations/0JL93FMA16.xml (deflated 41%)\n",
            "  adding: content/Face-Mask-Detection/dataset/unprepared/annotations/0DTH93OLW7.xml (deflated 42%)\n",
            "  adding: content/Face-Mask-Detection/dataset/unprepared/annotations/0GZIEQORIA.xml (deflated 41%)\n",
            "  adding: content/Face-Mask-Detection/dataset/unprepared/annotations/0BGP13VLFB.xml (deflated 41%)\n",
            "  adding: content/Face-Mask-Detection/dataset/unprepared/annotations/00TMYXA5DF.xml (deflated 41%)\n",
            "  adding: content/Face-Mask-Detection/dataset/unprepared/annotations/0FNOXNSIMF.xml (deflated 43%)\n",
            "  adding: content/Face-Mask-Detection/dataset/unprepared/annotations/0J094JR6UX.xml (deflated 41%)\n",
            "  adding: content/Face-Mask-Detection/dataset/unprepared/annotations/0HR99YY6LP.xml (deflated 41%)\n",
            "  adding: content/Face-Mask-Detection/dataset/unprepared/annotations/0LFMCP45ZC.xml (deflated 42%)\n",
            "  adding: content/Face-Mask-Detection/dataset/unprepared/annotations/0E48SPR74Z.xml (deflated 41%)\n",
            "  adding: content/Face-Mask-Detection/dataset/unprepared/annotations/00PYA83V1P.xml (deflated 41%)\n",
            "  adding: content/Face-Mask-Detection/dataset/unprepared/annotations/0GHTF562EI.xml (deflated 41%)\n",
            "  adding: content/Face-Mask-Detection/dataset/unprepared/annotations/0CV7E5UBZO.xml (deflated 41%)\n",
            "  adding: content/Face-Mask-Detection/dataset/unprepared/annotations/0JFMD8WL83.xml (deflated 42%)\n",
            "  adding: content/Face-Mask-Detection/dataset/unprepared/annotations/00W5NPIX4S.xml (deflated 42%)\n",
            "  adding: content/Face-Mask-Detection/dataset/unprepared/annotations/00KPGHV40E.xml (deflated 41%)\n",
            "  adding: content/Face-Mask-Detection/dataset/unprepared/annotations/0H5F5OA4RM.xml (deflated 42%)\n",
            "  adding: content/Face-Mask-Detection/dataset/unprepared/annotations/0ETHS2R1AM.xml (deflated 41%)\n",
            "  adding: content/Face-Mask-Detection/dataset/unprepared/annotations/0AMNAPIFEX.xml (deflated 41%)\n",
            "  adding: content/Face-Mask-Detection/dataset/unprepared/annotations/0AWDJI25RA.xml (deflated 41%)\n",
            "  adding: content/Face-Mask-Detection/dataset/unprepared/annotations/0DXOQF3NVN.xml (deflated 42%)\n",
            "  adding: content/Face-Mask-Detection/dataset/unprepared/annotations/0G6FKI8ITN.xml (deflated 42%)\n",
            "  adding: content/Face-Mask-Detection/dataset/unprepared/annotations/0DG6WQSN05.xml (deflated 41%)\n",
            "  adding: content/Face-Mask-Detection/dataset/unprepared/annotations/0CBHLGAMTY.xml (deflated 41%)\n",
            "  adding: content/Face-Mask-Detection/dataset/unprepared/annotations/0G11SUB6LB.xml (deflated 42%)\n",
            "  adding: content/Face-Mask-Detection/dataset/unprepared/annotations/0C1LLBFNTO.xml (deflated 42%)\n",
            "  adding: content/Face-Mask-Detection/dataset/unprepared/annotations/0KABUTJ4BF.xml (deflated 41%)\n",
            "  adding: content/Face-Mask-Detection/dataset/unprepared/annotations/00V5CZZSSO.xml (deflated 42%)\n",
            "  adding: content/Face-Mask-Detection/dataset/unprepared/annotations/0G7V5WPBPK.xml (deflated 42%)\n",
            "  adding: content/Face-Mask-Detection/dataset/unprepared/annotations/0JGUNFCD9J.xml (deflated 42%)\n",
            "  adding: content/Face-Mask-Detection/dataset/unprepared/annotations/0C3C6RIWZD.xml (deflated 41%)\n",
            "  adding: content/Face-Mask-Detection/dataset/unprepared/annotations/0FKX2W9XRP.xml (deflated 41%)\n",
            "  adding: content/Face-Mask-Detection/dataset/unprepared/annotations/0IQXFJKR6N.xml (deflated 41%)\n",
            "Copying file://part1-datasetv1.zip...\n",
            "/ [1 files][  2.5 MiB/  2.5 MiB]                                                \n",
            "Operation completed over 1 objects/2.5 MiB.                                      \n"
          ],
          "name": "stdout"
        }
      ]
    }
  ]
}